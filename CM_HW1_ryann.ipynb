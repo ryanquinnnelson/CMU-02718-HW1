{
 "cells": [
  {
   "cell_type": "code",
   "execution_count": 165,
   "metadata": {
    "colab": {},
    "colab_type": "code",
    "id": "-f3hfXQ1zWMX"
   },
   "outputs": [],
   "source": [
    "import matplotlib.pyplot as plt\n",
    "import numpy as np \n",
    "import pandas as pd\n",
    "from sklearn.cluster import KMeans"
   ]
  },
  {
   "cell_type": "markdown",
   "metadata": {
    "colab_type": "text",
    "id": "H0ppzil93ADx"
   },
   "source": [
    "# Question 1"
   ]
  },
  {
   "cell_type": "markdown",
   "metadata": {
    "colab_type": "text",
    "id": "Kvu3MW96Oh8e"
   },
   "source": [
    "## **Part 1.1: Work**\n",
    "\n"
   ]
  },
  {
   "cell_type": "markdown",
   "metadata": {
    "colab_type": "text",
    "id": "EaPxhxT64eg_"
   },
   "source": [
    "#### Read Data"
   ]
  },
  {
   "cell_type": "code",
   "execution_count": 155,
   "metadata": {
    "colab": {},
    "colab_type": "code",
    "id": "R_Y6OeP60oCX"
   },
   "outputs": [],
   "source": [
    "PATH_TO_Q1_DATA = 'data/.csv'\n",
    "df = pd.read_csv(PATH_TO_Q1_DATA) "
   ]
  },
  {
   "cell_type": "code",
   "execution_count": 156,
   "metadata": {},
   "outputs": [
    {
     "data": {
      "text/html": [
       "<div>\n",
       "<style scoped>\n",
       "    .dataframe tbody tr th:only-of-type {\n",
       "        vertical-align: middle;\n",
       "    }\n",
       "\n",
       "    .dataframe tbody tr th {\n",
       "        vertical-align: top;\n",
       "    }\n",
       "\n",
       "    .dataframe thead th {\n",
       "        text-align: right;\n",
       "    }\n",
       "</style>\n",
       "<table border=\"1\" class=\"dataframe\">\n",
       "  <thead>\n",
       "    <tr style=\"text-align: right;\">\n",
       "      <th></th>\n",
       "      <th>S IgG1</th>\n",
       "      <th>RBD IgG1</th>\n",
       "      <th>N IgG1</th>\n",
       "      <th>S IgG2</th>\n",
       "      <th>RBD IgG2</th>\n",
       "      <th>N IgG2</th>\n",
       "      <th>S IgG3</th>\n",
       "      <th>RBD IgG3</th>\n",
       "      <th>N IgG3</th>\n",
       "      <th>S IgG4</th>\n",
       "      <th>...</th>\n",
       "      <th>NT50</th>\n",
       "      <th>Sex</th>\n",
       "      <th>Race</th>\n",
       "      <th>Age</th>\n",
       "      <th>Remdesivir</th>\n",
       "      <th>Antibiotics</th>\n",
       "      <th>Chloroquines</th>\n",
       "      <th>Tocilizumab</th>\n",
       "      <th>Ards</th>\n",
       "      <th>Outcome</th>\n",
       "    </tr>\n",
       "  </thead>\n",
       "  <tbody>\n",
       "    <tr>\n",
       "      <th>0</th>\n",
       "      <td>15518.25</td>\n",
       "      <td>11686.50</td>\n",
       "      <td>17408.00</td>\n",
       "      <td>2595.00</td>\n",
       "      <td>2977.5</td>\n",
       "      <td>4418.75</td>\n",
       "      <td>7988.75</td>\n",
       "      <td>10112.75</td>\n",
       "      <td>13740.75</td>\n",
       "      <td>2890.50</td>\n",
       "      <td>...</td>\n",
       "      <td>264.0</td>\n",
       "      <td>Male</td>\n",
       "      <td>Black</td>\n",
       "      <td>60-69</td>\n",
       "      <td>No</td>\n",
       "      <td>Yes</td>\n",
       "      <td>Yes</td>\n",
       "      <td>No</td>\n",
       "      <td>Yes</td>\n",
       "      <td>Died</td>\n",
       "    </tr>\n",
       "    <tr>\n",
       "      <th>1</th>\n",
       "      <td>2226.50</td>\n",
       "      <td>2343.25</td>\n",
       "      <td>3379.75</td>\n",
       "      <td>2444.75</td>\n",
       "      <td>3850.5</td>\n",
       "      <td>4687.00</td>\n",
       "      <td>2404.00</td>\n",
       "      <td>3399.00</td>\n",
       "      <td>4383.00</td>\n",
       "      <td>2214.75</td>\n",
       "      <td>...</td>\n",
       "      <td>126.0</td>\n",
       "      <td>Male</td>\n",
       "      <td>White</td>\n",
       "      <td>60-69</td>\n",
       "      <td>No</td>\n",
       "      <td>Yes</td>\n",
       "      <td>Yes</td>\n",
       "      <td>No</td>\n",
       "      <td>Yes</td>\n",
       "      <td>Died</td>\n",
       "    </tr>\n",
       "    <tr>\n",
       "      <th>2</th>\n",
       "      <td>2279.75</td>\n",
       "      <td>2450.00</td>\n",
       "      <td>3741.00</td>\n",
       "      <td>2117.00</td>\n",
       "      <td>2321.0</td>\n",
       "      <td>3298.50</td>\n",
       "      <td>2110.75</td>\n",
       "      <td>2256.25</td>\n",
       "      <td>3009.75</td>\n",
       "      <td>2256.75</td>\n",
       "      <td>...</td>\n",
       "      <td>16.0</td>\n",
       "      <td>Female</td>\n",
       "      <td>Asian</td>\n",
       "      <td>80 and older</td>\n",
       "      <td>Yes</td>\n",
       "      <td>No</td>\n",
       "      <td>No</td>\n",
       "      <td>No</td>\n",
       "      <td>No</td>\n",
       "      <td>Died</td>\n",
       "    </tr>\n",
       "    <tr>\n",
       "      <th>3</th>\n",
       "      <td>115548.25</td>\n",
       "      <td>93832.00</td>\n",
       "      <td>94973.50</td>\n",
       "      <td>2938.75</td>\n",
       "      <td>2725.0</td>\n",
       "      <td>4380.25</td>\n",
       "      <td>17165.50</td>\n",
       "      <td>14912.00</td>\n",
       "      <td>33445.50</td>\n",
       "      <td>2512.25</td>\n",
       "      <td>...</td>\n",
       "      <td>53.0</td>\n",
       "      <td>Male</td>\n",
       "      <td>Asian</td>\n",
       "      <td>50-59</td>\n",
       "      <td>Yes</td>\n",
       "      <td>Yes</td>\n",
       "      <td>No</td>\n",
       "      <td>No</td>\n",
       "      <td>Yes</td>\n",
       "      <td>Lived</td>\n",
       "    </tr>\n",
       "    <tr>\n",
       "      <th>4</th>\n",
       "      <td>2645.00</td>\n",
       "      <td>2479.00</td>\n",
       "      <td>4630.00</td>\n",
       "      <td>2256.75</td>\n",
       "      <td>2408.5</td>\n",
       "      <td>3449.50</td>\n",
       "      <td>2086.00</td>\n",
       "      <td>2452.50</td>\n",
       "      <td>3574.75</td>\n",
       "      <td>2127.00</td>\n",
       "      <td>...</td>\n",
       "      <td>151.0</td>\n",
       "      <td>Female</td>\n",
       "      <td>White</td>\n",
       "      <td>80 and older</td>\n",
       "      <td>Yes</td>\n",
       "      <td>No</td>\n",
       "      <td>No</td>\n",
       "      <td>No</td>\n",
       "      <td>No</td>\n",
       "      <td>Lived</td>\n",
       "    </tr>\n",
       "  </tbody>\n",
       "</table>\n",
       "<p>5 rows × 61 columns</p>\n",
       "</div>"
      ],
      "text/plain": [
       "      S IgG1  RBD IgG1    N IgG1   S IgG2  RBD IgG2   N IgG2    S IgG3  \\\n",
       "0   15518.25  11686.50  17408.00  2595.00    2977.5  4418.75   7988.75   \n",
       "1    2226.50   2343.25   3379.75  2444.75    3850.5  4687.00   2404.00   \n",
       "2    2279.75   2450.00   3741.00  2117.00    2321.0  3298.50   2110.75   \n",
       "3  115548.25  93832.00  94973.50  2938.75    2725.0  4380.25  17165.50   \n",
       "4    2645.00   2479.00   4630.00  2256.75    2408.5  3449.50   2086.00   \n",
       "\n",
       "   RBD IgG3    N IgG3   S IgG4  ...   NT50     Sex   Race           Age  \\\n",
       "0  10112.75  13740.75  2890.50  ...  264.0    Male  Black         60-69   \n",
       "1   3399.00   4383.00  2214.75  ...  126.0    Male  White         60-69   \n",
       "2   2256.25   3009.75  2256.75  ...   16.0  Female  Asian  80 and older   \n",
       "3  14912.00  33445.50  2512.25  ...   53.0    Male  Asian         50-59   \n",
       "4   2452.50   3574.75  2127.00  ...  151.0  Female  White  80 and older   \n",
       "\n",
       "   Remdesivir  Antibiotics  Chloroquines  Tocilizumab  Ards  Outcome  \n",
       "0          No          Yes           Yes           No   Yes     Died  \n",
       "1          No          Yes           Yes           No   Yes     Died  \n",
       "2         Yes           No            No           No    No     Died  \n",
       "3         Yes          Yes            No           No   Yes    Lived  \n",
       "4         Yes           No            No           No    No    Lived  \n",
       "\n",
       "[5 rows x 61 columns]"
      ]
     },
     "execution_count": 156,
     "metadata": {},
     "output_type": "execute_result"
    }
   ],
   "source": [
    "df.head()"
   ]
  },
  {
   "cell_type": "markdown",
   "metadata": {
    "colab_type": "text",
    "id": "I7evcxx5PEzm"
   },
   "source": [
    "#### Standardize Data in Columns 1-52"
   ]
  },
  {
   "cell_type": "code",
   "execution_count": 161,
   "metadata": {
    "colab": {},
    "colab_type": "code",
    "id": "fSnRiODWHLZf"
   },
   "outputs": [],
   "source": [
    "'''\n",
    " TODO: Standardize columns 1-52 by subtracting off mean of each column and scaling to unit variance\n",
    " \n",
    "'''   \n",
    "cols = df.iloc[:,:52].columns # get list of columns 1-52\n",
    "for col in cols:\n",
    "    if '_zscore' not in col:\n",
    "        col_zscore = col + '_zscore' # add column for zscore\n",
    "    df[col_zscore] = (df[col] - df[col].mean())/ df[col].std() # z =(x-μ)/σ  #??std(ddof=??) degrees of freedom"
   ]
  },
  {
   "cell_type": "code",
   "execution_count": 162,
   "metadata": {},
   "outputs": [
    {
     "data": {
      "text/html": [
       "<div>\n",
       "<style scoped>\n",
       "    .dataframe tbody tr th:only-of-type {\n",
       "        vertical-align: middle;\n",
       "    }\n",
       "\n",
       "    .dataframe tbody tr th {\n",
       "        vertical-align: top;\n",
       "    }\n",
       "\n",
       "    .dataframe thead th {\n",
       "        text-align: right;\n",
       "    }\n",
       "</style>\n",
       "<table border=\"1\" class=\"dataframe\">\n",
       "  <thead>\n",
       "    <tr style=\"text-align: right;\">\n",
       "      <th></th>\n",
       "      <th>S IgG1</th>\n",
       "      <th>RBD IgG1</th>\n",
       "      <th>N IgG1</th>\n",
       "      <th>S IgG2</th>\n",
       "      <th>RBD IgG2</th>\n",
       "      <th>N IgG2</th>\n",
       "      <th>S IgG3</th>\n",
       "      <th>RBD IgG3</th>\n",
       "      <th>N IgG3</th>\n",
       "      <th>S IgG4</th>\n",
       "      <th>...</th>\n",
       "      <th>S ADCD_zscore</th>\n",
       "      <th>RBD ADCD_zscore</th>\n",
       "      <th>N ADCD_zscore</th>\n",
       "      <th>S NKD-CD107a_zscore</th>\n",
       "      <th>RBD NKD-CD107a_zscore</th>\n",
       "      <th>N NKD-CD107a_zscore</th>\n",
       "      <th>S NKD-MIP1b_zscore</th>\n",
       "      <th>RBD NKD-MIP1b_zscore</th>\n",
       "      <th>N NKD-MIP1b_zscore</th>\n",
       "      <th>NT50_zscore</th>\n",
       "    </tr>\n",
       "  </thead>\n",
       "  <tbody>\n",
       "    <tr>\n",
       "      <th>0</th>\n",
       "      <td>15518.25</td>\n",
       "      <td>11686.5</td>\n",
       "      <td>17408.0</td>\n",
       "      <td>2595.0</td>\n",
       "      <td>2977.5</td>\n",
       "      <td>4418.75</td>\n",
       "      <td>7988.75</td>\n",
       "      <td>10112.75</td>\n",
       "      <td>13740.75</td>\n",
       "      <td>2890.5</td>\n",
       "      <td>...</td>\n",
       "      <td>-0.675782</td>\n",
       "      <td>-0.411877</td>\n",
       "      <td>0.450513</td>\n",
       "      <td>-0.02381</td>\n",
       "      <td>-0.180116</td>\n",
       "      <td>-0.576487</td>\n",
       "      <td>-0.586417</td>\n",
       "      <td>-1.100901</td>\n",
       "      <td>-0.542606</td>\n",
       "      <td>1.019302</td>\n",
       "    </tr>\n",
       "  </tbody>\n",
       "</table>\n",
       "<p>1 rows × 113 columns</p>\n",
       "</div>"
      ],
      "text/plain": [
       "     S IgG1  RBD IgG1   N IgG1  S IgG2  RBD IgG2   N IgG2   S IgG3  RBD IgG3  \\\n",
       "0  15518.25   11686.5  17408.0  2595.0    2977.5  4418.75  7988.75  10112.75   \n",
       "\n",
       "     N IgG3  S IgG4  ...  S ADCD_zscore  RBD ADCD_zscore  N ADCD_zscore  \\\n",
       "0  13740.75  2890.5  ...      -0.675782        -0.411877       0.450513   \n",
       "\n",
       "   S NKD-CD107a_zscore  RBD NKD-CD107a_zscore  N NKD-CD107a_zscore  \\\n",
       "0             -0.02381              -0.180116            -0.576487   \n",
       "\n",
       "   S NKD-MIP1b_zscore  RBD NKD-MIP1b_zscore  N NKD-MIP1b_zscore  NT50_zscore  \n",
       "0           -0.586417             -1.100901           -0.542606     1.019302  \n",
       "\n",
       "[1 rows x 113 columns]"
      ]
     },
     "execution_count": 162,
     "metadata": {},
     "output_type": "execute_result"
    }
   ],
   "source": [
    "df.head(1)"
   ]
  },
  {
   "cell_type": "markdown",
   "metadata": {
    "colab_type": "text",
    "id": "HIteyXLqPcfJ"
   },
   "source": [
    "#### Cluster Standardized Data in Columns 1-52"
   ]
  },
  {
   "cell_type": "code",
   "execution_count": 166,
   "metadata": {
    "colab": {},
    "colab_type": "code",
    "id": "x2_YMxdaPbzG"
   },
   "outputs": [
    {
     "ename": "ValueError",
     "evalue": "could not convert string to float: 'Male'",
     "output_type": "error",
     "traceback": [
      "\u001b[0;31m---------------------------------------------------------------------------\u001b[0m",
      "\u001b[0;31mValueError\u001b[0m                                Traceback (most recent call last)",
      "\u001b[0;32m<ipython-input-166-b6bada255f7a>\u001b[0m in \u001b[0;36m<module>\u001b[0;34m\u001b[0m\n\u001b[1;32m      9\u001b[0m   '''\n\u001b[1;32m     10\u001b[0m \u001b[0;34m\u001b[0m\u001b[0m\n\u001b[0;32m---> 11\u001b[0;31m \u001b[0mkmeans\u001b[0m \u001b[0;34m=\u001b[0m \u001b[0mKMeans\u001b[0m\u001b[0;34m(\u001b[0m\u001b[0mn_clusters\u001b[0m\u001b[0;34m=\u001b[0m\u001b[0;36m5\u001b[0m\u001b[0;34m)\u001b[0m\u001b[0;34m.\u001b[0m\u001b[0mfit\u001b[0m\u001b[0;34m(\u001b[0m\u001b[0mdf\u001b[0m\u001b[0;34m)\u001b[0m\u001b[0;34m\u001b[0m\u001b[0;34m\u001b[0m\u001b[0m\n\u001b[0m",
      "\u001b[0;32m/opt/anaconda3/envs/CMU-02718-HW1/lib/python3.8/site-packages/sklearn/cluster/_kmeans.py\u001b[0m in \u001b[0;36mfit\u001b[0;34m(self, X, y, sample_weight)\u001b[0m\n\u001b[1;32m   1028\u001b[0m             \u001b[0mFitted\u001b[0m \u001b[0mestimator\u001b[0m\u001b[0;34m.\u001b[0m\u001b[0;34m\u001b[0m\u001b[0;34m\u001b[0m\u001b[0m\n\u001b[1;32m   1029\u001b[0m         \"\"\"\n\u001b[0;32m-> 1030\u001b[0;31m         X = self._validate_data(X, accept_sparse='csr',\n\u001b[0m\u001b[1;32m   1031\u001b[0m                                 \u001b[0mdtype\u001b[0m\u001b[0;34m=\u001b[0m\u001b[0;34m[\u001b[0m\u001b[0mnp\u001b[0m\u001b[0;34m.\u001b[0m\u001b[0mfloat64\u001b[0m\u001b[0;34m,\u001b[0m \u001b[0mnp\u001b[0m\u001b[0;34m.\u001b[0m\u001b[0mfloat32\u001b[0m\u001b[0;34m]\u001b[0m\u001b[0;34m,\u001b[0m\u001b[0;34m\u001b[0m\u001b[0;34m\u001b[0m\u001b[0m\n\u001b[1;32m   1032\u001b[0m                                 \u001b[0morder\u001b[0m\u001b[0;34m=\u001b[0m\u001b[0;34m'C'\u001b[0m\u001b[0;34m,\u001b[0m \u001b[0mcopy\u001b[0m\u001b[0;34m=\u001b[0m\u001b[0mself\u001b[0m\u001b[0;34m.\u001b[0m\u001b[0mcopy_x\u001b[0m\u001b[0;34m,\u001b[0m\u001b[0;34m\u001b[0m\u001b[0;34m\u001b[0m\u001b[0m\n",
      "\u001b[0;32m/opt/anaconda3/envs/CMU-02718-HW1/lib/python3.8/site-packages/sklearn/base.py\u001b[0m in \u001b[0;36m_validate_data\u001b[0;34m(self, X, y, reset, validate_separately, **check_params)\u001b[0m\n\u001b[1;32m    418\u001b[0m                     \u001b[0;34mf\"requires y to be passed, but the target y is None.\"\u001b[0m\u001b[0;34m\u001b[0m\u001b[0;34m\u001b[0m\u001b[0m\n\u001b[1;32m    419\u001b[0m                 )\n\u001b[0;32m--> 420\u001b[0;31m             \u001b[0mX\u001b[0m \u001b[0;34m=\u001b[0m \u001b[0mcheck_array\u001b[0m\u001b[0;34m(\u001b[0m\u001b[0mX\u001b[0m\u001b[0;34m,\u001b[0m \u001b[0;34m**\u001b[0m\u001b[0mcheck_params\u001b[0m\u001b[0;34m)\u001b[0m\u001b[0;34m\u001b[0m\u001b[0;34m\u001b[0m\u001b[0m\n\u001b[0m\u001b[1;32m    421\u001b[0m             \u001b[0mout\u001b[0m \u001b[0;34m=\u001b[0m \u001b[0mX\u001b[0m\u001b[0;34m\u001b[0m\u001b[0;34m\u001b[0m\u001b[0m\n\u001b[1;32m    422\u001b[0m         \u001b[0;32melse\u001b[0m\u001b[0;34m:\u001b[0m\u001b[0;34m\u001b[0m\u001b[0;34m\u001b[0m\u001b[0m\n",
      "\u001b[0;32m/opt/anaconda3/envs/CMU-02718-HW1/lib/python3.8/site-packages/sklearn/utils/validation.py\u001b[0m in \u001b[0;36minner_f\u001b[0;34m(*args, **kwargs)\u001b[0m\n\u001b[1;32m     70\u001b[0m                           FutureWarning)\n\u001b[1;32m     71\u001b[0m         \u001b[0mkwargs\u001b[0m\u001b[0;34m.\u001b[0m\u001b[0mupdate\u001b[0m\u001b[0;34m(\u001b[0m\u001b[0;34m{\u001b[0m\u001b[0mk\u001b[0m\u001b[0;34m:\u001b[0m \u001b[0marg\u001b[0m \u001b[0;32mfor\u001b[0m \u001b[0mk\u001b[0m\u001b[0;34m,\u001b[0m \u001b[0marg\u001b[0m \u001b[0;32min\u001b[0m \u001b[0mzip\u001b[0m\u001b[0;34m(\u001b[0m\u001b[0msig\u001b[0m\u001b[0;34m.\u001b[0m\u001b[0mparameters\u001b[0m\u001b[0;34m,\u001b[0m \u001b[0margs\u001b[0m\u001b[0;34m)\u001b[0m\u001b[0;34m}\u001b[0m\u001b[0;34m)\u001b[0m\u001b[0;34m\u001b[0m\u001b[0;34m\u001b[0m\u001b[0m\n\u001b[0;32m---> 72\u001b[0;31m         \u001b[0;32mreturn\u001b[0m \u001b[0mf\u001b[0m\u001b[0;34m(\u001b[0m\u001b[0;34m**\u001b[0m\u001b[0mkwargs\u001b[0m\u001b[0;34m)\u001b[0m\u001b[0;34m\u001b[0m\u001b[0;34m\u001b[0m\u001b[0m\n\u001b[0m\u001b[1;32m     73\u001b[0m     \u001b[0;32mreturn\u001b[0m \u001b[0minner_f\u001b[0m\u001b[0;34m\u001b[0m\u001b[0;34m\u001b[0m\u001b[0m\n\u001b[1;32m     74\u001b[0m \u001b[0;34m\u001b[0m\u001b[0m\n",
      "\u001b[0;32m/opt/anaconda3/envs/CMU-02718-HW1/lib/python3.8/site-packages/sklearn/utils/validation.py\u001b[0m in \u001b[0;36mcheck_array\u001b[0;34m(array, accept_sparse, accept_large_sparse, dtype, order, copy, force_all_finite, ensure_2d, allow_nd, ensure_min_samples, ensure_min_features, estimator)\u001b[0m\n\u001b[1;32m    596\u001b[0m                     \u001b[0marray\u001b[0m \u001b[0;34m=\u001b[0m \u001b[0marray\u001b[0m\u001b[0;34m.\u001b[0m\u001b[0mastype\u001b[0m\u001b[0;34m(\u001b[0m\u001b[0mdtype\u001b[0m\u001b[0;34m,\u001b[0m \u001b[0mcasting\u001b[0m\u001b[0;34m=\u001b[0m\u001b[0;34m\"unsafe\"\u001b[0m\u001b[0;34m,\u001b[0m \u001b[0mcopy\u001b[0m\u001b[0;34m=\u001b[0m\u001b[0;32mFalse\u001b[0m\u001b[0;34m)\u001b[0m\u001b[0;34m\u001b[0m\u001b[0;34m\u001b[0m\u001b[0m\n\u001b[1;32m    597\u001b[0m                 \u001b[0;32melse\u001b[0m\u001b[0;34m:\u001b[0m\u001b[0;34m\u001b[0m\u001b[0;34m\u001b[0m\u001b[0m\n\u001b[0;32m--> 598\u001b[0;31m                     \u001b[0marray\u001b[0m \u001b[0;34m=\u001b[0m \u001b[0mnp\u001b[0m\u001b[0;34m.\u001b[0m\u001b[0masarray\u001b[0m\u001b[0;34m(\u001b[0m\u001b[0marray\u001b[0m\u001b[0;34m,\u001b[0m \u001b[0morder\u001b[0m\u001b[0;34m=\u001b[0m\u001b[0morder\u001b[0m\u001b[0;34m,\u001b[0m \u001b[0mdtype\u001b[0m\u001b[0;34m=\u001b[0m\u001b[0mdtype\u001b[0m\u001b[0;34m)\u001b[0m\u001b[0;34m\u001b[0m\u001b[0;34m\u001b[0m\u001b[0m\n\u001b[0m\u001b[1;32m    599\u001b[0m             \u001b[0;32mexcept\u001b[0m \u001b[0mComplexWarning\u001b[0m\u001b[0;34m:\u001b[0m\u001b[0;34m\u001b[0m\u001b[0;34m\u001b[0m\u001b[0m\n\u001b[1;32m    600\u001b[0m                 raise ValueError(\"Complex data not supported\\n\"\n",
      "\u001b[0;32m/opt/anaconda3/envs/CMU-02718-HW1/lib/python3.8/site-packages/numpy/core/_asarray.py\u001b[0m in \u001b[0;36masarray\u001b[0;34m(a, dtype, order)\u001b[0m\n\u001b[1;32m     81\u001b[0m \u001b[0;34m\u001b[0m\u001b[0m\n\u001b[1;32m     82\u001b[0m     \"\"\"\n\u001b[0;32m---> 83\u001b[0;31m     \u001b[0;32mreturn\u001b[0m \u001b[0marray\u001b[0m\u001b[0;34m(\u001b[0m\u001b[0ma\u001b[0m\u001b[0;34m,\u001b[0m \u001b[0mdtype\u001b[0m\u001b[0;34m,\u001b[0m \u001b[0mcopy\u001b[0m\u001b[0;34m=\u001b[0m\u001b[0;32mFalse\u001b[0m\u001b[0;34m,\u001b[0m \u001b[0morder\u001b[0m\u001b[0;34m=\u001b[0m\u001b[0morder\u001b[0m\u001b[0;34m)\u001b[0m\u001b[0;34m\u001b[0m\u001b[0;34m\u001b[0m\u001b[0m\n\u001b[0m\u001b[1;32m     84\u001b[0m \u001b[0;34m\u001b[0m\u001b[0m\n\u001b[1;32m     85\u001b[0m \u001b[0;34m\u001b[0m\u001b[0m\n",
      "\u001b[0;32m/opt/anaconda3/envs/CMU-02718-HW1/lib/python3.8/site-packages/pandas/core/generic.py\u001b[0m in \u001b[0;36m__array__\u001b[0;34m(self, dtype)\u001b[0m\n\u001b[1;32m   1776\u001b[0m \u001b[0;34m\u001b[0m\u001b[0m\n\u001b[1;32m   1777\u001b[0m     \u001b[0;32mdef\u001b[0m \u001b[0m__array__\u001b[0m\u001b[0;34m(\u001b[0m\u001b[0mself\u001b[0m\u001b[0;34m,\u001b[0m \u001b[0mdtype\u001b[0m\u001b[0;34m=\u001b[0m\u001b[0;32mNone\u001b[0m\u001b[0;34m)\u001b[0m \u001b[0;34m->\u001b[0m \u001b[0mnp\u001b[0m\u001b[0;34m.\u001b[0m\u001b[0mndarray\u001b[0m\u001b[0;34m:\u001b[0m\u001b[0;34m\u001b[0m\u001b[0;34m\u001b[0m\u001b[0m\n\u001b[0;32m-> 1778\u001b[0;31m         \u001b[0;32mreturn\u001b[0m \u001b[0mnp\u001b[0m\u001b[0;34m.\u001b[0m\u001b[0masarray\u001b[0m\u001b[0;34m(\u001b[0m\u001b[0mself\u001b[0m\u001b[0;34m.\u001b[0m\u001b[0m_values\u001b[0m\u001b[0;34m,\u001b[0m \u001b[0mdtype\u001b[0m\u001b[0;34m=\u001b[0m\u001b[0mdtype\u001b[0m\u001b[0;34m)\u001b[0m\u001b[0;34m\u001b[0m\u001b[0;34m\u001b[0m\u001b[0m\n\u001b[0m\u001b[1;32m   1779\u001b[0m \u001b[0;34m\u001b[0m\u001b[0m\n\u001b[1;32m   1780\u001b[0m     \u001b[0;32mdef\u001b[0m \u001b[0m__array_wrap__\u001b[0m\u001b[0;34m(\u001b[0m\u001b[0mself\u001b[0m\u001b[0;34m,\u001b[0m \u001b[0mresult\u001b[0m\u001b[0;34m,\u001b[0m \u001b[0mcontext\u001b[0m\u001b[0;34m=\u001b[0m\u001b[0;32mNone\u001b[0m\u001b[0;34m)\u001b[0m\u001b[0;34m:\u001b[0m\u001b[0;34m\u001b[0m\u001b[0;34m\u001b[0m\u001b[0m\n",
      "\u001b[0;32m/opt/anaconda3/envs/CMU-02718-HW1/lib/python3.8/site-packages/numpy/core/_asarray.py\u001b[0m in \u001b[0;36masarray\u001b[0;34m(a, dtype, order)\u001b[0m\n\u001b[1;32m     81\u001b[0m \u001b[0;34m\u001b[0m\u001b[0m\n\u001b[1;32m     82\u001b[0m     \"\"\"\n\u001b[0;32m---> 83\u001b[0;31m     \u001b[0;32mreturn\u001b[0m \u001b[0marray\u001b[0m\u001b[0;34m(\u001b[0m\u001b[0ma\u001b[0m\u001b[0;34m,\u001b[0m \u001b[0mdtype\u001b[0m\u001b[0;34m,\u001b[0m \u001b[0mcopy\u001b[0m\u001b[0;34m=\u001b[0m\u001b[0;32mFalse\u001b[0m\u001b[0;34m,\u001b[0m \u001b[0morder\u001b[0m\u001b[0;34m=\u001b[0m\u001b[0morder\u001b[0m\u001b[0;34m)\u001b[0m\u001b[0;34m\u001b[0m\u001b[0;34m\u001b[0m\u001b[0m\n\u001b[0m\u001b[1;32m     84\u001b[0m \u001b[0;34m\u001b[0m\u001b[0m\n\u001b[1;32m     85\u001b[0m \u001b[0;34m\u001b[0m\u001b[0m\n",
      "\u001b[0;31mValueError\u001b[0m: could not convert string to float: 'Male'"
     ]
    }
   ],
   "source": [
    "# 1 < k < 11\n",
    "possible_cluster_nums = [2,3,4,5,6,7,8,9,10]\n",
    "\n",
    "for k in possible_cluster_nums:\n",
    "  '''\n",
    "    TODO: 1. Fit data to k clusters using imported clustering algorithm\n",
    "          2. Compute quaility of results for k clusters using imported\n",
    "             cluster quality metric and store in a list\n",
    "  '''\n",
    "\n",
    "kmeans = KMeans(n_clusters=5).fit(df)"
   ]
  },
  {
   "cell_type": "markdown",
   "metadata": {
    "colab_type": "text",
    "id": "Ykldx_LbQzJ9"
   },
   "source": [
    "#### Visualize Cluster Quality Metrics"
   ]
  },
  {
   "cell_type": "code",
   "execution_count": null,
   "metadata": {
    "colab": {},
    "colab_type": "code",
    "id": "SwCnOjUvREJz"
   },
   "outputs": [],
   "source": [
    "# Creates line chart to visualize values of cluster quality metric for each possible number of clusters\n",
    "def plotMetricByK(metric_name, metric_results, PATH_TO_SAVE=None):\n",
    "  '''\n",
    "  metric_name: Name of cluster quality metric for title and axis label\n",
    "  metric_results: List containing value of metric, in order, for each\n",
    "                  possible number of clusters\n",
    "  PATH_TO_SAVE: Path of file to save plot. If path is not provided, image is not saved\n",
    "  '''\n",
    "\n",
    "  plt.clf()\n",
    "\n",
    "  plt.title(f'{metric_name} by Number of Clusters')\n",
    "  plt.xlabel('Number of Clusters')\n",
    "  plt.ylabel(metric_name)\n",
    "  plt.plot(possible_cluster_nums, metric_results)\n",
    "  \n",
    "  if PATH_TO_SAVE:\n",
    "    plt.savefig(PATH_TO_SAVE)"
   ]
  },
  {
   "cell_type": "code",
   "execution_count": null,
   "metadata": {
    "colab": {},
    "colab_type": "code",
    "id": "FzR_OjFVRHL_"
   },
   "outputs": [],
   "source": [
    "'''\n",
    " TODO: Plot your choice of cluster quality metric by cluster number to help determine k.\n",
    "\n",
    " TIP: If using the above function, place each function call in a separate \n",
    "      cell to visualize multiple cluster quality metrics\n",
    "'''"
   ]
  },
  {
   "cell_type": "markdown",
   "metadata": {
    "colab_type": "text",
    "id": "jPVeT70qWBTe"
   },
   "source": [
    "## **Part 1.1: Answer**\n",
    "\n",
    "How many clusters are there in the data? **YOUR ANSWER HERE** \n",
    "\n",
    "Explanation: **Please make sure any relevant plots are either included in the above cells or embedded in this cell and replace this line with a brief explanation of how they justify your choice**\n",
    "\n"
   ]
  },
  {
   "cell_type": "markdown",
   "metadata": {
    "colab_type": "text",
    "id": "PMotmJCv781e"
   },
   "source": [
    "## **Part 1.2: Work**"
   ]
  },
  {
   "cell_type": "markdown",
   "metadata": {
    "colab_type": "text",
    "id": "7PYJgChirpBQ"
   },
   "source": [
    "#### Cluster Data"
   ]
  },
  {
   "cell_type": "code",
   "execution_count": null,
   "metadata": {
    "colab": {},
    "colab_type": "code",
    "id": "QKqj9J5Xr22l"
   },
   "outputs": [],
   "source": [
    "'''\n",
    "  TODO: Cluster data with the number of clusters you determined in part 1.1 and store resulting labels\n",
    "'''"
   ]
  },
  {
   "cell_type": "markdown",
   "metadata": {
    "colab_type": "text",
    "id": "qSeiqphcm5VO"
   },
   "source": [
    "#### Univariate Analysis"
   ]
  },
  {
   "cell_type": "code",
   "execution_count": null,
   "metadata": {
    "colab": {},
    "colab_type": "code",
    "id": "uu8M1dgYm76F"
   },
   "outputs": [],
   "source": [
    "'''\n",
    "  TODO: Find 4 variables that have statistically significant differences between values in the clusters (i.e p < 0.05 using pairwise t-tests)\n",
    "'''"
   ]
  },
  {
   "cell_type": "markdown",
   "metadata": {
    "colab_type": "text",
    "id": "H31yCX_Isqx2"
   },
   "source": [
    "## **Part 1.2: Answer**\n",
    "\n",
    "VARIABLE 1, VARIABLE 2, VARIABLE 3, VARIABLE 4\n",
    "\n",
    "**Replace the above line with 4 variables that you found from the univariate analysis and output the corresponding box plots in the cells below or as images in this cell**"
   ]
  },
  {
   "cell_type": "code",
   "execution_count": null,
   "metadata": {
    "colab": {},
    "colab_type": "code",
    "id": "2vMTrrGUt0Sk"
   },
   "outputs": [],
   "source": [
    "'''\n",
    "  TODO: Create and display boxplots for each of the 4 variables like those in Fig 1. from the paper by Wu et al\n",
    "\n",
    "  TIP: 1. If you add the cluster labels as an additional column to the dataframe, then you can follow the example at https://www.pythonprogramming.in/boxplot-group-by-column-data.html\n",
    "       2. If you want to use subplots to put all 4 boxplots in the same figure, you can plot the dataframes on a specific subplot using the ax keyword. For example,\n",
    "          \n",
    "          fig, axs = plt.subplots(2, 2)\n",
    "\n",
    "          df.boxplot(column=['Variable'], by=['Cluster'], ax=axs[0,0])\n",
    "          df.boxplot(column=['Variable'], by=['Cluster'], ax=axs[0,1])\n",
    "''' "
   ]
  },
  {
   "cell_type": "markdown",
   "metadata": {
    "colab_type": "text",
    "id": "OwtEpty_x4U4"
   },
   "source": [
    "## **Part 1.3: Work**\n"
   ]
  },
  {
   "cell_type": "code",
   "execution_count": null,
   "metadata": {
    "colab": {},
    "colab_type": "code",
    "id": "wdw0frHS9CJR"
   },
   "outputs": [],
   "source": [
    "# Formats Pandas series to string of form 'index_1: value_1, ..., index_n:, value_n' w/ indexes alphabetically sorted\n",
    "def formatValueCounts(value_counts):\n",
    "  '''\n",
    "    value_counts: Pandas series\n",
    "  '''\n",
    "  count_string = value_counts.to_string()\n",
    "  formatted_counts = [': '.join(count.split()) for count in count_string.split('\\n')]\n",
    "  formatted_counts.sort()\n",
    "  return ', '.join(formatted_counts)\n",
    "\n",
    "# Creates table summarizing data by cluster and categorical feature\n",
    "def plotSummaryTable(cellText, PATH_TO_SAVE=None):\n",
    "  '''\n",
    "  cellText: num_clusters x 9 2D List where cellText[i][j] contains a string summarizing\n",
    "            the statistics for cluster i and column (53 + j) in the data\n",
    "  PATH_TO_SAVE: Path of file to save plot. If path is not provided, image is not saved\n",
    "  '''\n",
    "\n",
    "  k = len(cellText)\n",
    "  colLabels = [f'Cluster {i + 1}' for i in range(k)]\n",
    "\n",
    "  rowLabels = list(df.columns)[52:61]\n",
    "\n",
    "  cellText = np.array(cellText).T\n",
    "\n",
    "  plt.figure(figsize=(10,10))\n",
    "  table = plt.table(cellText, \n",
    "              colLabels=colLabels,\n",
    "              colColours=['#D3D3D3'] * len(colLabels),\n",
    "              rowLabels=rowLabels,\n",
    "              rowColours=['#D3D3D3'] * len(rowLabels),\n",
    "              cellLoc='center',\n",
    "              loc='upper center')\n",
    "  table.scale(2,5)\n",
    "  table.auto_set_font_size(False)\n",
    "  table.set_fontsize(12)\n",
    "\n",
    "  plt.axis('off')\n",
    "  plt.grid(False)\n",
    "\n",
    "  if PATH_TO_SAVE:\n",
    "    plt.savefig(PATH_TO_SAVE)"
   ]
  },
  {
   "cell_type": "code",
   "execution_count": null,
   "metadata": {
    "colab": {},
    "colab_type": "code",
    "id": "lpezhIjczcgm"
   },
   "outputs": [],
   "source": [
    "'''\n",
    "  TODO: Create a table where the rows correspond to the variables in columns 53-61, and the columns correspond to the k clusters you identified.\n",
    "        For each cell in the table, put summary statistics for that (variable, cluster) pair\n",
    "\n",
    "  TIP: 1. If you create a 2D list, cellText, where cellText[i][j] contains a string summarizing the statistics for cluster i and column (53 + j) in\n",
    "          the data, you can pass this into plotSummaryTable (provided above) to automatically create the table with matplotlib\n",
    "       2. If you use value_counts() from Pandas, you can pass the resulting series to formatValueCounts (provided above) to convert it to a formatted string\n",
    "'''"
   ]
  },
  {
   "cell_type": "markdown",
   "metadata": {
    "colab_type": "text",
    "id": "-GOiFVydUJVR"
   },
   "source": [
    "## **Part 1.3: Answer**\n",
    "\n",
    "**Plot the table in one of the above cells or include it as an image in this cell**\n",
    "\n",
    "Are any of the clusters significantly enriched for some particular value? **YOUR ANSWER HERE**\n",
    "\n"
   ]
  },
  {
   "cell_type": "markdown",
   "metadata": {
    "colab_type": "text",
    "id": "akxs5V1KWZp1"
   },
   "source": [
    "## **Part 1.4: Work**"
   ]
  },
  {
   "cell_type": "code",
   "execution_count": null,
   "metadata": {
    "colab": {},
    "colab_type": "code",
    "id": "KpbGxNnve-uE"
   },
   "outputs": [],
   "source": [
    "'''\n",
    "TODO: Cluster the numeric variables (Columns 1-52)\n",
    "'''"
   ]
  },
  {
   "cell_type": "markdown",
   "metadata": {
    "colab_type": "text",
    "id": "UtoBD07TWebc"
   },
   "source": [
    "## **Part 1.4: Answer**\n",
    "\n",
    "How many clusters are there in the numeric variables? **YOUR ANSWER HERE** \n",
    "\n",
    "Explanation: **Please make sure any relevant plots are either included in the above cells or embedded in this cell and replace this line with a brief explanation of how they justify your choice**"
   ]
  },
  {
   "cell_type": "markdown",
   "metadata": {
    "colab_type": "text",
    "id": "2QXoQx_JWhI6"
   },
   "source": [
    "## **Part 1.5: Work**"
   ]
  },
  {
   "cell_type": "code",
   "execution_count": null,
   "metadata": {
    "colab": {},
    "colab_type": "code",
    "id": "xJXSMuT0Z-Dz"
   },
   "outputs": [],
   "source": [
    "'''\n",
    "TODO: 1. Choose a representative variable from each cluster you determined in Part 1.4\n",
    "         and create a low-dimensional version of the data using those variables\n",
    "      2. Re-cluster the data using the reduced representation using the same \n",
    "         choices you made for part 1.1.\n",
    "'''"
   ]
  },
  {
   "cell_type": "markdown",
   "metadata": {
    "colab_type": "text",
    "id": "nP5HByXKWkTo"
   },
   "source": [
    "## **Part 1.5: Answer**\n",
    "\n",
    "Representative Variables: **Replace this with the representative variables you chose using your work from Part 1.4** \n",
    "\n",
    "How many clusters are there in the numeric variables? **YOUR ANSWER HERE** \n",
    "\n",
    "Explanation: **Please make sure any relevant plots are either included in the above cells or linked in this cell and replace this line with a brief explanation of how they justify your choice**"
   ]
  },
  {
   "cell_type": "markdown",
   "metadata": {
    "colab_type": "text",
    "id": "UMnCzNWMWo2d"
   },
   "source": [
    "## **Part 1.6: Work**"
   ]
  },
  {
   "cell_type": "code",
   "execution_count": null,
   "metadata": {
    "colab": {},
    "colab_type": "code",
    "id": "sFKcIMHWafo3"
   },
   "outputs": [],
   "source": [
    "'''\n",
    "  TODO: Create a table where the rows correspond to the variables in columns 53-61, and the columns correspond to the k clusters you identified.\n",
    "        in part 1.5. For each cell in the table, put summary statistics for that (variable, cluster) pair\n",
    "'''"
   ]
  },
  {
   "cell_type": "markdown",
   "metadata": {
    "colab_type": "text",
    "id": "lKQA27rZWs__"
   },
   "source": [
    "## **Part 1.6: Answer**\n",
    "\n",
    "**Plot the table in one of the above cells or include it as an image in this cell**\n",
    "\n",
    "Are any of the clusters significantly enriched for some particular value? **YOUR ANSWER HERE**"
   ]
  }
 ],
 "metadata": {
  "colab": {
   "name": "02-518_New_HW1_Template.ipynb",
   "provenance": [],
   "toc_visible": true
  },
  "kernelspec": {
   "display_name": "Python 3",
   "language": "python",
   "name": "python3"
  },
  "language_info": {
   "codemirror_mode": {
    "name": "ipython",
    "version": 3
   },
   "file_extension": ".py",
   "mimetype": "text/x-python",
   "name": "python",
   "nbconvert_exporter": "python",
   "pygments_lexer": "ipython3",
   "version": "3.8.5"
  }
 },
 "nbformat": 4,
 "nbformat_minor": 4
}
