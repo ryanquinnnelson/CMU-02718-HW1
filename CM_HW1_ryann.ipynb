{
 "cells": [
  {
   "cell_type": "code",
   "execution_count": 298,
   "metadata": {
    "colab": {},
    "colab_type": "code",
    "id": "-f3hfXQ1zWMX"
   },
   "outputs": [],
   "source": [
    "import matplotlib.pyplot as plt\n",
    "import seaborn as sns\n",
    "import numpy as np \n",
    "import pandas as pd\n",
    "from sklearn.cluster import KMeans\n",
    "from sklearn.decomposition import PCA\n",
    "from sklearn import metrics\n",
    "from scipy import stats"
   ]
  },
  {
   "cell_type": "markdown",
   "metadata": {
    "colab_type": "text",
    "id": "H0ppzil93ADx"
   },
   "source": [
    "# Question 1"
   ]
  },
  {
   "cell_type": "markdown",
   "metadata": {
    "colab_type": "text",
    "id": "Kvu3MW96Oh8e"
   },
   "source": [
    "## **Part 1.1: Work**\n",
    "\n"
   ]
  },
  {
   "cell_type": "markdown",
   "metadata": {
    "colab_type": "text",
    "id": "EaPxhxT64eg_"
   },
   "source": [
    "#### Read Data"
   ]
  },
  {
   "cell_type": "code",
   "execution_count": 393,
   "metadata": {
    "colab": {},
    "colab_type": "code",
    "id": "R_Y6OeP60oCX"
   },
   "outputs": [],
   "source": [
    "PATH_TO_Q1_DATA = 'data/HW1_Q1_Data.csv'\n",
    "df = pd.read_csv(PATH_TO_Q1_DATA) "
   ]
  },
  {
   "cell_type": "code",
   "execution_count": 300,
   "metadata": {},
   "outputs": [
    {
     "data": {
      "text/html": [
       "<div>\n",
       "<style scoped>\n",
       "    .dataframe tbody tr th:only-of-type {\n",
       "        vertical-align: middle;\n",
       "    }\n",
       "\n",
       "    .dataframe tbody tr th {\n",
       "        vertical-align: top;\n",
       "    }\n",
       "\n",
       "    .dataframe thead th {\n",
       "        text-align: right;\n",
       "    }\n",
       "</style>\n",
       "<table border=\"1\" class=\"dataframe\">\n",
       "  <thead>\n",
       "    <tr style=\"text-align: right;\">\n",
       "      <th></th>\n",
       "      <th>S IgG1</th>\n",
       "      <th>RBD IgG1</th>\n",
       "      <th>N IgG1</th>\n",
       "      <th>S IgG2</th>\n",
       "      <th>RBD IgG2</th>\n",
       "      <th>N IgG2</th>\n",
       "      <th>S IgG3</th>\n",
       "      <th>RBD IgG3</th>\n",
       "      <th>N IgG3</th>\n",
       "      <th>S IgG4</th>\n",
       "      <th>...</th>\n",
       "      <th>NT50</th>\n",
       "      <th>Sex</th>\n",
       "      <th>Race</th>\n",
       "      <th>Age</th>\n",
       "      <th>Remdesivir</th>\n",
       "      <th>Antibiotics</th>\n",
       "      <th>Chloroquines</th>\n",
       "      <th>Tocilizumab</th>\n",
       "      <th>Ards</th>\n",
       "      <th>Outcome</th>\n",
       "    </tr>\n",
       "  </thead>\n",
       "  <tbody>\n",
       "    <tr>\n",
       "      <th>0</th>\n",
       "      <td>15518.25</td>\n",
       "      <td>11686.50</td>\n",
       "      <td>17408.00</td>\n",
       "      <td>2595.00</td>\n",
       "      <td>2977.5</td>\n",
       "      <td>4418.75</td>\n",
       "      <td>7988.75</td>\n",
       "      <td>10112.75</td>\n",
       "      <td>13740.75</td>\n",
       "      <td>2890.50</td>\n",
       "      <td>...</td>\n",
       "      <td>264.0</td>\n",
       "      <td>Male</td>\n",
       "      <td>Black</td>\n",
       "      <td>60-69</td>\n",
       "      <td>No</td>\n",
       "      <td>Yes</td>\n",
       "      <td>Yes</td>\n",
       "      <td>No</td>\n",
       "      <td>Yes</td>\n",
       "      <td>Died</td>\n",
       "    </tr>\n",
       "    <tr>\n",
       "      <th>1</th>\n",
       "      <td>2226.50</td>\n",
       "      <td>2343.25</td>\n",
       "      <td>3379.75</td>\n",
       "      <td>2444.75</td>\n",
       "      <td>3850.5</td>\n",
       "      <td>4687.00</td>\n",
       "      <td>2404.00</td>\n",
       "      <td>3399.00</td>\n",
       "      <td>4383.00</td>\n",
       "      <td>2214.75</td>\n",
       "      <td>...</td>\n",
       "      <td>126.0</td>\n",
       "      <td>Male</td>\n",
       "      <td>White</td>\n",
       "      <td>60-69</td>\n",
       "      <td>No</td>\n",
       "      <td>Yes</td>\n",
       "      <td>Yes</td>\n",
       "      <td>No</td>\n",
       "      <td>Yes</td>\n",
       "      <td>Died</td>\n",
       "    </tr>\n",
       "    <tr>\n",
       "      <th>2</th>\n",
       "      <td>2279.75</td>\n",
       "      <td>2450.00</td>\n",
       "      <td>3741.00</td>\n",
       "      <td>2117.00</td>\n",
       "      <td>2321.0</td>\n",
       "      <td>3298.50</td>\n",
       "      <td>2110.75</td>\n",
       "      <td>2256.25</td>\n",
       "      <td>3009.75</td>\n",
       "      <td>2256.75</td>\n",
       "      <td>...</td>\n",
       "      <td>16.0</td>\n",
       "      <td>Female</td>\n",
       "      <td>Asian</td>\n",
       "      <td>80 and older</td>\n",
       "      <td>Yes</td>\n",
       "      <td>No</td>\n",
       "      <td>No</td>\n",
       "      <td>No</td>\n",
       "      <td>No</td>\n",
       "      <td>Died</td>\n",
       "    </tr>\n",
       "    <tr>\n",
       "      <th>3</th>\n",
       "      <td>115548.25</td>\n",
       "      <td>93832.00</td>\n",
       "      <td>94973.50</td>\n",
       "      <td>2938.75</td>\n",
       "      <td>2725.0</td>\n",
       "      <td>4380.25</td>\n",
       "      <td>17165.50</td>\n",
       "      <td>14912.00</td>\n",
       "      <td>33445.50</td>\n",
       "      <td>2512.25</td>\n",
       "      <td>...</td>\n",
       "      <td>53.0</td>\n",
       "      <td>Male</td>\n",
       "      <td>Asian</td>\n",
       "      <td>50-59</td>\n",
       "      <td>Yes</td>\n",
       "      <td>Yes</td>\n",
       "      <td>No</td>\n",
       "      <td>No</td>\n",
       "      <td>Yes</td>\n",
       "      <td>Lived</td>\n",
       "    </tr>\n",
       "    <tr>\n",
       "      <th>4</th>\n",
       "      <td>2645.00</td>\n",
       "      <td>2479.00</td>\n",
       "      <td>4630.00</td>\n",
       "      <td>2256.75</td>\n",
       "      <td>2408.5</td>\n",
       "      <td>3449.50</td>\n",
       "      <td>2086.00</td>\n",
       "      <td>2452.50</td>\n",
       "      <td>3574.75</td>\n",
       "      <td>2127.00</td>\n",
       "      <td>...</td>\n",
       "      <td>151.0</td>\n",
       "      <td>Female</td>\n",
       "      <td>White</td>\n",
       "      <td>80 and older</td>\n",
       "      <td>Yes</td>\n",
       "      <td>No</td>\n",
       "      <td>No</td>\n",
       "      <td>No</td>\n",
       "      <td>No</td>\n",
       "      <td>Lived</td>\n",
       "    </tr>\n",
       "  </tbody>\n",
       "</table>\n",
       "<p>5 rows × 61 columns</p>\n",
       "</div>"
      ],
      "text/plain": [
       "      S IgG1  RBD IgG1    N IgG1   S IgG2  RBD IgG2   N IgG2    S IgG3  \\\n",
       "0   15518.25  11686.50  17408.00  2595.00    2977.5  4418.75   7988.75   \n",
       "1    2226.50   2343.25   3379.75  2444.75    3850.5  4687.00   2404.00   \n",
       "2    2279.75   2450.00   3741.00  2117.00    2321.0  3298.50   2110.75   \n",
       "3  115548.25  93832.00  94973.50  2938.75    2725.0  4380.25  17165.50   \n",
       "4    2645.00   2479.00   4630.00  2256.75    2408.5  3449.50   2086.00   \n",
       "\n",
       "   RBD IgG3    N IgG3   S IgG4  ...   NT50     Sex   Race           Age  \\\n",
       "0  10112.75  13740.75  2890.50  ...  264.0    Male  Black         60-69   \n",
       "1   3399.00   4383.00  2214.75  ...  126.0    Male  White         60-69   \n",
       "2   2256.25   3009.75  2256.75  ...   16.0  Female  Asian  80 and older   \n",
       "3  14912.00  33445.50  2512.25  ...   53.0    Male  Asian         50-59   \n",
       "4   2452.50   3574.75  2127.00  ...  151.0  Female  White  80 and older   \n",
       "\n",
       "   Remdesivir  Antibiotics  Chloroquines  Tocilizumab  Ards  Outcome  \n",
       "0          No          Yes           Yes           No   Yes     Died  \n",
       "1          No          Yes           Yes           No   Yes     Died  \n",
       "2         Yes           No            No           No    No     Died  \n",
       "3         Yes          Yes            No           No   Yes    Lived  \n",
       "4         Yes           No            No           No    No    Lived  \n",
       "\n",
       "[5 rows x 61 columns]"
      ]
     },
     "execution_count": 300,
     "metadata": {},
     "output_type": "execute_result"
    }
   ],
   "source": [
    "df.head()"
   ]
  },
  {
   "cell_type": "markdown",
   "metadata": {
    "colab_type": "text",
    "id": "I7evcxx5PEzm"
   },
   "source": [
    "#### Standardize Data in Columns 1-52"
   ]
  },
  {
   "cell_type": "code",
   "execution_count": 301,
   "metadata": {
    "colab": {},
    "colab_type": "code",
    "id": "fSnRiODWHLZf"
   },
   "outputs": [],
   "source": [
    "'''\n",
    " TODO: Standardize columns 1-52 by subtracting off mean of each column and scaling to unit variance\n",
    " \n",
    "'''   \n",
    "cols = df.iloc[:,:52].columns # get list of columns 1-52\n",
    "for col in cols:\n",
    "    if '_zscore' not in col:\n",
    "        col_zscore = col + '_zscore' # add column for zscore\n",
    "    df[col_zscore] = (df[col] - df[col].mean())/ df[col].std() # z =(x-μ)/σ  #??std(ddof=??) degrees of freedom"
   ]
  },
  {
   "cell_type": "code",
   "execution_count": 302,
   "metadata": {},
   "outputs": [
    {
     "data": {
      "text/html": [
       "<div>\n",
       "<style scoped>\n",
       "    .dataframe tbody tr th:only-of-type {\n",
       "        vertical-align: middle;\n",
       "    }\n",
       "\n",
       "    .dataframe tbody tr th {\n",
       "        vertical-align: top;\n",
       "    }\n",
       "\n",
       "    .dataframe thead th {\n",
       "        text-align: right;\n",
       "    }\n",
       "</style>\n",
       "<table border=\"1\" class=\"dataframe\">\n",
       "  <thead>\n",
       "    <tr style=\"text-align: right;\">\n",
       "      <th></th>\n",
       "      <th>S IgG1</th>\n",
       "      <th>RBD IgG1</th>\n",
       "      <th>N IgG1</th>\n",
       "      <th>S IgG2</th>\n",
       "      <th>RBD IgG2</th>\n",
       "      <th>N IgG2</th>\n",
       "      <th>S IgG3</th>\n",
       "      <th>RBD IgG3</th>\n",
       "      <th>N IgG3</th>\n",
       "      <th>S IgG4</th>\n",
       "      <th>...</th>\n",
       "      <th>S ADCD_zscore</th>\n",
       "      <th>RBD ADCD_zscore</th>\n",
       "      <th>N ADCD_zscore</th>\n",
       "      <th>S NKD-CD107a_zscore</th>\n",
       "      <th>RBD NKD-CD107a_zscore</th>\n",
       "      <th>N NKD-CD107a_zscore</th>\n",
       "      <th>S NKD-MIP1b_zscore</th>\n",
       "      <th>RBD NKD-MIP1b_zscore</th>\n",
       "      <th>N NKD-MIP1b_zscore</th>\n",
       "      <th>NT50_zscore</th>\n",
       "    </tr>\n",
       "  </thead>\n",
       "  <tbody>\n",
       "    <tr>\n",
       "      <th>0</th>\n",
       "      <td>15518.25</td>\n",
       "      <td>11686.5</td>\n",
       "      <td>17408.0</td>\n",
       "      <td>2595.0</td>\n",
       "      <td>2977.5</td>\n",
       "      <td>4418.75</td>\n",
       "      <td>7988.75</td>\n",
       "      <td>10112.75</td>\n",
       "      <td>13740.75</td>\n",
       "      <td>2890.5</td>\n",
       "      <td>...</td>\n",
       "      <td>-0.675782</td>\n",
       "      <td>-0.411877</td>\n",
       "      <td>0.450513</td>\n",
       "      <td>-0.02381</td>\n",
       "      <td>-0.180116</td>\n",
       "      <td>-0.576487</td>\n",
       "      <td>-0.586417</td>\n",
       "      <td>-1.100901</td>\n",
       "      <td>-0.542606</td>\n",
       "      <td>1.019302</td>\n",
       "    </tr>\n",
       "  </tbody>\n",
       "</table>\n",
       "<p>1 rows × 113 columns</p>\n",
       "</div>"
      ],
      "text/plain": [
       "     S IgG1  RBD IgG1   N IgG1  S IgG2  RBD IgG2   N IgG2   S IgG3  RBD IgG3  \\\n",
       "0  15518.25   11686.5  17408.0  2595.0    2977.5  4418.75  7988.75  10112.75   \n",
       "\n",
       "     N IgG3  S IgG4  ...  S ADCD_zscore  RBD ADCD_zscore  N ADCD_zscore  \\\n",
       "0  13740.75  2890.5  ...      -0.675782        -0.411877       0.450513   \n",
       "\n",
       "   S NKD-CD107a_zscore  RBD NKD-CD107a_zscore  N NKD-CD107a_zscore  \\\n",
       "0             -0.02381              -0.180116            -0.576487   \n",
       "\n",
       "   S NKD-MIP1b_zscore  RBD NKD-MIP1b_zscore  N NKD-MIP1b_zscore  NT50_zscore  \n",
       "0           -0.586417             -1.100901           -0.542606     1.019302  \n",
       "\n",
       "[1 rows x 113 columns]"
      ]
     },
     "execution_count": 302,
     "metadata": {},
     "output_type": "execute_result"
    }
   ],
   "source": [
    "df.head(1)"
   ]
  },
  {
   "cell_type": "code",
   "execution_count": 303,
   "metadata": {},
   "outputs": [
    {
     "data": {
      "text/html": [
       "<div>\n",
       "<style scoped>\n",
       "    .dataframe tbody tr th:only-of-type {\n",
       "        vertical-align: middle;\n",
       "    }\n",
       "\n",
       "    .dataframe tbody tr th {\n",
       "        vertical-align: top;\n",
       "    }\n",
       "\n",
       "    .dataframe thead th {\n",
       "        text-align: right;\n",
       "    }\n",
       "</style>\n",
       "<table border=\"1\" class=\"dataframe\">\n",
       "  <thead>\n",
       "    <tr style=\"text-align: right;\">\n",
       "      <th></th>\n",
       "      <th>S IgG1_zscore</th>\n",
       "      <th>RBD IgG1_zscore</th>\n",
       "      <th>N IgG1_zscore</th>\n",
       "      <th>S IgG2_zscore</th>\n",
       "      <th>RBD IgG2_zscore</th>\n",
       "      <th>N IgG2_zscore</th>\n",
       "      <th>S IgG3_zscore</th>\n",
       "      <th>RBD IgG3_zscore</th>\n",
       "      <th>N IgG3_zscore</th>\n",
       "      <th>S IgG4_zscore</th>\n",
       "      <th>...</th>\n",
       "      <th>S ADCD_zscore</th>\n",
       "      <th>RBD ADCD_zscore</th>\n",
       "      <th>N ADCD_zscore</th>\n",
       "      <th>S NKD-CD107a_zscore</th>\n",
       "      <th>RBD NKD-CD107a_zscore</th>\n",
       "      <th>N NKD-CD107a_zscore</th>\n",
       "      <th>S NKD-MIP1b_zscore</th>\n",
       "      <th>RBD NKD-MIP1b_zscore</th>\n",
       "      <th>N NKD-MIP1b_zscore</th>\n",
       "      <th>NT50_zscore</th>\n",
       "    </tr>\n",
       "  </thead>\n",
       "  <tbody>\n",
       "    <tr>\n",
       "      <th>0</th>\n",
       "      <td>-0.327784</td>\n",
       "      <td>-0.327417</td>\n",
       "      <td>-0.390835</td>\n",
       "      <td>-0.430222</td>\n",
       "      <td>-0.410582</td>\n",
       "      <td>-0.423640</td>\n",
       "      <td>-0.069492</td>\n",
       "      <td>-0.205854</td>\n",
       "      <td>-0.276218</td>\n",
       "      <td>-0.418283</td>\n",
       "      <td>...</td>\n",
       "      <td>-0.675782</td>\n",
       "      <td>-0.411877</td>\n",
       "      <td>0.450513</td>\n",
       "      <td>-0.023810</td>\n",
       "      <td>-0.180116</td>\n",
       "      <td>-0.576487</td>\n",
       "      <td>-0.586417</td>\n",
       "      <td>-1.100901</td>\n",
       "      <td>-0.542606</td>\n",
       "      <td>1.019302</td>\n",
       "    </tr>\n",
       "    <tr>\n",
       "      <th>1</th>\n",
       "      <td>-0.388406</td>\n",
       "      <td>-0.383136</td>\n",
       "      <td>-0.448371</td>\n",
       "      <td>-0.445330</td>\n",
       "      <td>-0.359239</td>\n",
       "      <td>-0.409801</td>\n",
       "      <td>-0.628774</td>\n",
       "      <td>-0.437607</td>\n",
       "      <td>-0.343531</td>\n",
       "      <td>-0.607598</td>\n",
       "      <td>...</td>\n",
       "      <td>-0.902038</td>\n",
       "      <td>-0.965508</td>\n",
       "      <td>-0.831518</td>\n",
       "      <td>-0.775527</td>\n",
       "      <td>-0.799010</td>\n",
       "      <td>-0.764606</td>\n",
       "      <td>-1.617719</td>\n",
       "      <td>-1.100901</td>\n",
       "      <td>-1.061439</td>\n",
       "      <td>-0.272266</td>\n",
       "    </tr>\n",
       "    <tr>\n",
       "      <th>2</th>\n",
       "      <td>-0.388163</td>\n",
       "      <td>-0.382500</td>\n",
       "      <td>-0.446890</td>\n",
       "      <td>-0.478285</td>\n",
       "      <td>-0.449192</td>\n",
       "      <td>-0.481434</td>\n",
       "      <td>-0.658142</td>\n",
       "      <td>-0.477053</td>\n",
       "      <td>-0.353409</td>\n",
       "      <td>-0.595831</td>\n",
       "      <td>...</td>\n",
       "      <td>-1.280099</td>\n",
       "      <td>-1.033968</td>\n",
       "      <td>-0.560026</td>\n",
       "      <td>0.142907</td>\n",
       "      <td>1.699490</td>\n",
       "      <td>-0.285057</td>\n",
       "      <td>0.513107</td>\n",
       "      <td>0.713034</td>\n",
       "      <td>-0.099106</td>\n",
       "      <td>-1.301777</td>\n",
       "    </tr>\n",
       "    <tr>\n",
       "      <th>3</th>\n",
       "      <td>0.128434</td>\n",
       "      <td>0.162469</td>\n",
       "      <td>-0.072702</td>\n",
       "      <td>-0.395658</td>\n",
       "      <td>-0.425432</td>\n",
       "      <td>-0.425626</td>\n",
       "      <td>0.849509</td>\n",
       "      <td>-0.040188</td>\n",
       "      <td>-0.134474</td>\n",
       "      <td>-0.524252</td>\n",
       "      <td>...</td>\n",
       "      <td>0.104725</td>\n",
       "      <td>-0.648830</td>\n",
       "      <td>-2.040266</td>\n",
       "      <td>-0.363199</td>\n",
       "      <td>-0.771504</td>\n",
       "      <td>-0.323606</td>\n",
       "      <td>-0.667148</td>\n",
       "      <td>-0.352029</td>\n",
       "      <td>0.036981</td>\n",
       "      <td>-0.955487</td>\n",
       "    </tr>\n",
       "    <tr>\n",
       "      <th>4</th>\n",
       "      <td>-0.386497</td>\n",
       "      <td>-0.382327</td>\n",
       "      <td>-0.443244</td>\n",
       "      <td>-0.464233</td>\n",
       "      <td>-0.444046</td>\n",
       "      <td>-0.473643</td>\n",
       "      <td>-0.660620</td>\n",
       "      <td>-0.470279</td>\n",
       "      <td>-0.349345</td>\n",
       "      <td>-0.632182</td>\n",
       "      <td>...</td>\n",
       "      <td>-0.370782</td>\n",
       "      <td>-1.398593</td>\n",
       "      <td>-2.056404</td>\n",
       "      <td>-0.867817</td>\n",
       "      <td>-0.565206</td>\n",
       "      <td>-0.781568</td>\n",
       "      <td>-1.120830</td>\n",
       "      <td>0.061931</td>\n",
       "      <td>-1.061439</td>\n",
       "      <td>-0.038286</td>\n",
       "    </tr>\n",
       "  </tbody>\n",
       "</table>\n",
       "<p>5 rows × 52 columns</p>\n",
       "</div>"
      ],
      "text/plain": [
       "   S IgG1_zscore  RBD IgG1_zscore  N IgG1_zscore  S IgG2_zscore  \\\n",
       "0      -0.327784        -0.327417      -0.390835      -0.430222   \n",
       "1      -0.388406        -0.383136      -0.448371      -0.445330   \n",
       "2      -0.388163        -0.382500      -0.446890      -0.478285   \n",
       "3       0.128434         0.162469      -0.072702      -0.395658   \n",
       "4      -0.386497        -0.382327      -0.443244      -0.464233   \n",
       "\n",
       "   RBD IgG2_zscore  N IgG2_zscore  S IgG3_zscore  RBD IgG3_zscore  \\\n",
       "0        -0.410582      -0.423640      -0.069492        -0.205854   \n",
       "1        -0.359239      -0.409801      -0.628774        -0.437607   \n",
       "2        -0.449192      -0.481434      -0.658142        -0.477053   \n",
       "3        -0.425432      -0.425626       0.849509        -0.040188   \n",
       "4        -0.444046      -0.473643      -0.660620        -0.470279   \n",
       "\n",
       "   N IgG3_zscore  S IgG4_zscore  ...  S ADCD_zscore  RBD ADCD_zscore  \\\n",
       "0      -0.276218      -0.418283  ...      -0.675782        -0.411877   \n",
       "1      -0.343531      -0.607598  ...      -0.902038        -0.965508   \n",
       "2      -0.353409      -0.595831  ...      -1.280099        -1.033968   \n",
       "3      -0.134474      -0.524252  ...       0.104725        -0.648830   \n",
       "4      -0.349345      -0.632182  ...      -0.370782        -1.398593   \n",
       "\n",
       "   N ADCD_zscore  S NKD-CD107a_zscore  RBD NKD-CD107a_zscore  \\\n",
       "0       0.450513            -0.023810              -0.180116   \n",
       "1      -0.831518            -0.775527              -0.799010   \n",
       "2      -0.560026             0.142907               1.699490   \n",
       "3      -2.040266            -0.363199              -0.771504   \n",
       "4      -2.056404            -0.867817              -0.565206   \n",
       "\n",
       "   N NKD-CD107a_zscore  S NKD-MIP1b_zscore  RBD NKD-MIP1b_zscore  \\\n",
       "0            -0.576487           -0.586417             -1.100901   \n",
       "1            -0.764606           -1.617719             -1.100901   \n",
       "2            -0.285057            0.513107              0.713034   \n",
       "3            -0.323606           -0.667148             -0.352029   \n",
       "4            -0.781568           -1.120830              0.061931   \n",
       "\n",
       "   N NKD-MIP1b_zscore  NT50_zscore  \n",
       "0           -0.542606     1.019302  \n",
       "1           -1.061439    -0.272266  \n",
       "2           -0.099106    -1.301777  \n",
       "3            0.036981    -0.955487  \n",
       "4           -1.061439    -0.038286  \n",
       "\n",
       "[5 rows x 52 columns]"
      ]
     },
     "execution_count": 303,
     "metadata": {},
     "output_type": "execute_result"
    }
   ],
   "source": [
    "# get numeric columns\n",
    "df_zscore = df.iloc[:,61:]\n",
    "df_zscore.head()"
   ]
  },
  {
   "cell_type": "markdown",
   "metadata": {
    "colab_type": "text",
    "id": "HIteyXLqPcfJ"
   },
   "source": [
    "#### Cluster Standardized Data in Columns 1-52"
   ]
  },
  {
   "cell_type": "code",
   "execution_count": 304,
   "metadata": {
    "colab": {},
    "colab_type": "code",
    "id": "x2_YMxdaPbzG"
   },
   "outputs": [
    {
     "data": {
      "text/plain": [
       "[0.596020600071851,\n",
       " 0.2896940008974808,\n",
       " 0.2947681275498017,\n",
       " 0.2894987853463593,\n",
       " 0.2975457234378132,\n",
       " 0.3215548320307516,\n",
       " 0.25967781946908175,\n",
       " 0.26247277750104236,\n",
       " 0.23981706885378748]"
      ]
     },
     "execution_count": 304,
     "metadata": {},
     "output_type": "execute_result"
    }
   ],
   "source": [
    "\n",
    "\n",
    "# how to choose distance measure?? \n",
    "# way to keep label columns with numeric??\n",
    "# how to use other quality metrics if we don't know what true labels are??\n",
    "\n",
    "\n",
    "possible_cluster_nums = [2,3,4,5,6,7,8,9,10] # 1 < k < 11\n",
    "\n",
    "results = []\n",
    "for k in possible_cluster_nums:\n",
    "    '''\n",
    "    TODO: 1. Fit data to k clusters using imported clustering algorithm\n",
    "          2. Compute quality of results for k clusters using imported\n",
    "             cluster quality metric and store in a list\n",
    "    '''\n",
    "    kmeans = KMeans(n_clusters=k).fit(df_zscore)\n",
    "    labels = kmeans.labels_ #is this the cluster it ends up in??\n",
    "    score = metrics.silhouette_score(df_zscore, labels) #quality\n",
    "    results.append(score)\n",
    "    \n",
    "#     print(\"Homogeneity: %0.3f\" % metrics.homogeneity_score(labels_true, labels))\n",
    "#     print(\"Completeness: %0.3f\" % metrics.completeness_score(labels_true, labels))\n",
    "#     print(\"V-measure: %0.3f\" % metrics.v_measure_score(labels_true, labels))\n",
    "#     print(\"Adjusted Rand Index: %0.3f\"\n",
    "#           % metrics.adjusted_rand_score(labels_true, labels))\n",
    "#     print(\"Adjusted Mutual Information: %0.3f\"\n",
    "#           % metrics.adjusted_mutual_info_score(labels_true, labels))\n",
    "#     print(\"Silhouette Coefficient: %0.3f\"\n",
    "#           % metrics.silhouette_score(df_zscore, labels))\n",
    "\n",
    "results"
   ]
  },
  {
   "cell_type": "code",
   "execution_count": 305,
   "metadata": {},
   "outputs": [
    {
     "data": {
      "text/html": [
       "<div>\n",
       "<style scoped>\n",
       "    .dataframe tbody tr th:only-of-type {\n",
       "        vertical-align: middle;\n",
       "    }\n",
       "\n",
       "    .dataframe tbody tr th {\n",
       "        vertical-align: top;\n",
       "    }\n",
       "\n",
       "    .dataframe thead th {\n",
       "        text-align: right;\n",
       "    }\n",
       "</style>\n",
       "<table border=\"1\" class=\"dataframe\">\n",
       "  <thead>\n",
       "    <tr style=\"text-align: right;\">\n",
       "      <th></th>\n",
       "      <th>pca1</th>\n",
       "      <th>pca2</th>\n",
       "    </tr>\n",
       "  </thead>\n",
       "  <tbody>\n",
       "    <tr>\n",
       "      <th>0</th>\n",
       "      <td>-2.928040</td>\n",
       "      <td>3.900730</td>\n",
       "    </tr>\n",
       "    <tr>\n",
       "      <th>1</th>\n",
       "      <td>-5.351742</td>\n",
       "      <td>4.966922</td>\n",
       "    </tr>\n",
       "    <tr>\n",
       "      <th>2</th>\n",
       "      <td>-4.941026</td>\n",
       "      <td>2.733098</td>\n",
       "    </tr>\n",
       "    <tr>\n",
       "      <th>3</th>\n",
       "      <td>-2.863161</td>\n",
       "      <td>5.833311</td>\n",
       "    </tr>\n",
       "    <tr>\n",
       "      <th>4</th>\n",
       "      <td>-5.368426</td>\n",
       "      <td>3.700281</td>\n",
       "    </tr>\n",
       "  </tbody>\n",
       "</table>\n",
       "</div>"
      ],
      "text/plain": [
       "       pca1      pca2\n",
       "0 -2.928040  3.900730\n",
       "1 -5.351742  4.966922\n",
       "2 -4.941026  2.733098\n",
       "3 -2.863161  5.833311\n",
       "4 -5.368426  3.700281"
      ]
     },
     "execution_count": 305,
     "metadata": {},
     "output_type": "execute_result"
    }
   ],
   "source": [
    "# dimensionality reduction and visualization\n",
    "## how to connect true labels to this??\n",
    "\n",
    "pca = PCA(n_components=2).fit_transform(df_zscore)\n",
    "df_plot = pd.DataFrame(pca, columns=['pca1','pca2'])\n",
    "df_plot.head()"
   ]
  },
  {
   "cell_type": "code",
   "execution_count": 306,
   "metadata": {},
   "outputs": [
    {
     "data": {
      "text/plain": [
       "<AxesSubplot:xlabel='pca1', ylabel='pca2'>"
      ]
     },
     "execution_count": 306,
     "metadata": {},
     "output_type": "execute_result"
    },
    {
     "data": {
      "image/png": "[encoded data removed]",
      "text/plain": [
       "<Figure size 432x288 with 1 Axes>"
      ]
     },
     "metadata": {
      "needs_background": "light"
     },
     "output_type": "display_data"
    }
   ],
   "source": [
    "sns.scatterplot(x='pca1', y='pca2', data=df_plot, legend='full')"
   ]
  },
  {
   "cell_type": "markdown",
   "metadata": {
    "colab_type": "text",
    "id": "Ykldx_LbQzJ9"
   },
   "source": [
    "#### Visualize Cluster Quality Metrics"
   ]
  },
  {
   "cell_type": "code",
   "execution_count": 307,
   "metadata": {
    "colab": {},
    "colab_type": "code",
    "id": "SwCnOjUvREJz"
   },
   "outputs": [],
   "source": [
    "# Creates line chart to visualize values of cluster quality metric for each possible number of clusters\n",
    "def plotMetricByK(metric_name, metric_results, PATH_TO_SAVE=None):\n",
    "  '''\n",
    "  metric_name: Name of cluster quality metric for title and axis label\n",
    "  metric_results: List containing value of metric, in order, for each\n",
    "                  possible number of clusters\n",
    "  PATH_TO_SAVE: Path of file to save plot. If path is not provided, image is not saved\n",
    "  '''\n",
    "\n",
    "  plt.clf()\n",
    "\n",
    "  plt.title(f'{metric_name} by Number of Clusters')\n",
    "  plt.xlabel('Number of Clusters')\n",
    "  plt.ylabel(metric_name)\n",
    "  plt.plot(possible_cluster_nums, metric_results)\n",
    "  \n",
    "  if PATH_TO_SAVE:\n",
    "    plt.savefig(PATH_TO_SAVE)"
   ]
  },
  {
   "cell_type": "code",
   "execution_count": 308,
   "metadata": {
    "colab": {},
    "colab_type": "code",
    "id": "FzR_OjFVRHL_"
   },
   "outputs": [
    {
     "data": {
      "image/png": "[encoded data removed]",
      "text/plain": [
       "<Figure size 432x288 with 1 Axes>"
      ]
     },
     "metadata": {
      "needs_background": "light"
     },
     "output_type": "display_data"
    }
   ],
   "source": [
    "'''\n",
    " TODO: Plot your choice of cluster quality metric by cluster number to help determine k.\n",
    "\n",
    " TIP: If using the above function, place each function call in a separate \n",
    "      cell to visualize multiple cluster quality metrics\n",
    "'''\n",
    "plotMetricByK(\"Silhouette Coefficient\", results)"
   ]
  },
  {
   "cell_type": "markdown",
   "metadata": {
    "colab_type": "text",
    "id": "jPVeT70qWBTe"
   },
   "source": [
    "## **Part 1.1: Answer**\n",
    "\n",
    "How many clusters are there in the data? **There appear to be two clusters.**\n",
    "\n",
    "Explanation: **Good clustering is indicated when the Silhouette Coefficient is close to 1. The Silhouette Coefficient is closest to 1 for two clusters and is much lower for other clustering sizes.**"
   ]
  },
  {
   "cell_type": "markdown",
   "metadata": {
    "colab_type": "text",
    "id": "PMotmJCv781e"
   },
   "source": [
    "## **Part 1.2: Work**"
   ]
  },
  {
   "cell_type": "markdown",
   "metadata": {
    "colab_type": "text",
    "id": "7PYJgChirpBQ"
   },
   "source": [
    "#### Cluster Data"
   ]
  },
  {
   "cell_type": "code",
   "execution_count": 309,
   "metadata": {
    "colab": {},
    "colab_type": "code",
    "id": "QKqj9J5Xr22l"
   },
   "outputs": [
    {
     "data": {
      "text/plain": [
       "array([0, 0, 0, 0, 0, 0, 0, 0, 0, 0, 0, 0, 1, 0, 0, 0, 0, 0, 0, 0, 1, 0,\n",
       "       1, 1, 0, 1, 0, 1, 1, 1, 1, 1, 0, 0, 1, 1, 1, 1, 1, 1, 1, 1, 0, 1,\n",
       "       1, 1, 1, 0, 1, 0, 1, 1, 0, 0, 0, 0, 0, 0, 0, 0, 0, 0, 0, 0, 0, 0,\n",
       "       0, 0, 0, 0, 0, 0, 0, 0, 0, 0, 0, 0, 0, 0, 0, 0, 0, 0, 0, 0, 0, 0,\n",
       "       0, 0, 0, 0, 0, 0, 0, 0, 0, 0, 0, 0, 0, 0, 0, 0, 0, 0, 0, 0, 0, 0,\n",
       "       0, 0, 0, 0, 0, 0, 0, 0, 0, 0, 0, 0, 0, 0, 0, 0, 0, 0, 0, 0, 0, 0,\n",
       "       0, 0, 0, 0, 0, 0, 0, 0, 0, 0, 0, 0, 0, 0, 0, 0, 0, 0, 0, 0, 0, 0,\n",
       "       0, 0, 0, 0, 0, 0, 0, 0, 0, 0, 0, 0, 0, 0, 0, 0, 0, 0, 0, 0, 0, 0,\n",
       "       0, 0, 0, 0, 0, 0, 0, 0, 0, 0, 0, 0, 0, 0, 0, 0, 0, 0, 0, 0, 0, 0,\n",
       "       0, 0, 0, 0, 0, 0, 0, 0, 0, 0, 0, 0, 0, 0, 0, 0, 0, 0, 0, 0, 0, 0,\n",
       "       0, 0, 0, 0, 0, 0, 0, 0, 0, 0, 0, 0], dtype=int32)"
      ]
     },
     "execution_count": 309,
     "metadata": {},
     "output_type": "execute_result"
    }
   ],
   "source": [
    "'''\n",
    "  TODO: Cluster data with the number of clusters you determined in part 1.1 and store resulting labels\n",
    "'''\n",
    "\n",
    "#perform kmeans again for the right size??\n",
    "#important to keep original label columns??\n",
    "kmeans_2 = KMeans(n_clusters=2).fit(df_zscore)\n",
    "labels = kmeans_2.labels_\n",
    "labels"
   ]
  },
  {
   "cell_type": "code",
   "execution_count": 313,
   "metadata": {},
   "outputs": [
    {
     "data": {
      "text/html": [
       "<div>\n",
       "<style scoped>\n",
       "    .dataframe tbody tr th:only-of-type {\n",
       "        vertical-align: middle;\n",
       "    }\n",
       "\n",
       "    .dataframe tbody tr th {\n",
       "        vertical-align: top;\n",
       "    }\n",
       "\n",
       "    .dataframe thead th {\n",
       "        text-align: right;\n",
       "    }\n",
       "</style>\n",
       "<table border=\"1\" class=\"dataframe\">\n",
       "  <thead>\n",
       "    <tr style=\"text-align: right;\">\n",
       "      <th></th>\n",
       "      <th>S IgG1_zscore</th>\n",
       "      <th>RBD IgG1_zscore</th>\n",
       "      <th>N IgG1_zscore</th>\n",
       "      <th>S IgG2_zscore</th>\n",
       "      <th>RBD IgG2_zscore</th>\n",
       "      <th>N IgG2_zscore</th>\n",
       "      <th>S IgG3_zscore</th>\n",
       "      <th>RBD IgG3_zscore</th>\n",
       "      <th>N IgG3_zscore</th>\n",
       "      <th>S IgG4_zscore</th>\n",
       "      <th>...</th>\n",
       "      <th>RBD ADCD_zscore</th>\n",
       "      <th>N ADCD_zscore</th>\n",
       "      <th>S NKD-CD107a_zscore</th>\n",
       "      <th>RBD NKD-CD107a_zscore</th>\n",
       "      <th>N NKD-CD107a_zscore</th>\n",
       "      <th>S NKD-MIP1b_zscore</th>\n",
       "      <th>RBD NKD-MIP1b_zscore</th>\n",
       "      <th>N NKD-MIP1b_zscore</th>\n",
       "      <th>NT50_zscore</th>\n",
       "      <th>cluster</th>\n",
       "    </tr>\n",
       "  </thead>\n",
       "  <tbody>\n",
       "    <tr>\n",
       "      <th>0</th>\n",
       "      <td>-0.327784</td>\n",
       "      <td>-0.327417</td>\n",
       "      <td>-0.390835</td>\n",
       "      <td>-0.430222</td>\n",
       "      <td>-0.410582</td>\n",
       "      <td>-0.423640</td>\n",
       "      <td>-0.069492</td>\n",
       "      <td>-0.205854</td>\n",
       "      <td>-0.276218</td>\n",
       "      <td>-0.418283</td>\n",
       "      <td>...</td>\n",
       "      <td>-0.411877</td>\n",
       "      <td>0.450513</td>\n",
       "      <td>-0.023810</td>\n",
       "      <td>-0.180116</td>\n",
       "      <td>-0.576487</td>\n",
       "      <td>-0.586417</td>\n",
       "      <td>-1.100901</td>\n",
       "      <td>-0.542606</td>\n",
       "      <td>1.019302</td>\n",
       "      <td>0</td>\n",
       "    </tr>\n",
       "    <tr>\n",
       "      <th>1</th>\n",
       "      <td>-0.388406</td>\n",
       "      <td>-0.383136</td>\n",
       "      <td>-0.448371</td>\n",
       "      <td>-0.445330</td>\n",
       "      <td>-0.359239</td>\n",
       "      <td>-0.409801</td>\n",
       "      <td>-0.628774</td>\n",
       "      <td>-0.437607</td>\n",
       "      <td>-0.343531</td>\n",
       "      <td>-0.607598</td>\n",
       "      <td>...</td>\n",
       "      <td>-0.965508</td>\n",
       "      <td>-0.831518</td>\n",
       "      <td>-0.775527</td>\n",
       "      <td>-0.799010</td>\n",
       "      <td>-0.764606</td>\n",
       "      <td>-1.617719</td>\n",
       "      <td>-1.100901</td>\n",
       "      <td>-1.061439</td>\n",
       "      <td>-0.272266</td>\n",
       "      <td>0</td>\n",
       "    </tr>\n",
       "    <tr>\n",
       "      <th>2</th>\n",
       "      <td>-0.388163</td>\n",
       "      <td>-0.382500</td>\n",
       "      <td>-0.446890</td>\n",
       "      <td>-0.478285</td>\n",
       "      <td>-0.449192</td>\n",
       "      <td>-0.481434</td>\n",
       "      <td>-0.658142</td>\n",
       "      <td>-0.477053</td>\n",
       "      <td>-0.353409</td>\n",
       "      <td>-0.595831</td>\n",
       "      <td>...</td>\n",
       "      <td>-1.033968</td>\n",
       "      <td>-0.560026</td>\n",
       "      <td>0.142907</td>\n",
       "      <td>1.699490</td>\n",
       "      <td>-0.285057</td>\n",
       "      <td>0.513107</td>\n",
       "      <td>0.713034</td>\n",
       "      <td>-0.099106</td>\n",
       "      <td>-1.301777</td>\n",
       "      <td>0</td>\n",
       "    </tr>\n",
       "    <tr>\n",
       "      <th>3</th>\n",
       "      <td>0.128434</td>\n",
       "      <td>0.162469</td>\n",
       "      <td>-0.072702</td>\n",
       "      <td>-0.395658</td>\n",
       "      <td>-0.425432</td>\n",
       "      <td>-0.425626</td>\n",
       "      <td>0.849509</td>\n",
       "      <td>-0.040188</td>\n",
       "      <td>-0.134474</td>\n",
       "      <td>-0.524252</td>\n",
       "      <td>...</td>\n",
       "      <td>-0.648830</td>\n",
       "      <td>-2.040266</td>\n",
       "      <td>-0.363199</td>\n",
       "      <td>-0.771504</td>\n",
       "      <td>-0.323606</td>\n",
       "      <td>-0.667148</td>\n",
       "      <td>-0.352029</td>\n",
       "      <td>0.036981</td>\n",
       "      <td>-0.955487</td>\n",
       "      <td>0</td>\n",
       "    </tr>\n",
       "    <tr>\n",
       "      <th>4</th>\n",
       "      <td>-0.386497</td>\n",
       "      <td>-0.382327</td>\n",
       "      <td>-0.443244</td>\n",
       "      <td>-0.464233</td>\n",
       "      <td>-0.444046</td>\n",
       "      <td>-0.473643</td>\n",
       "      <td>-0.660620</td>\n",
       "      <td>-0.470279</td>\n",
       "      <td>-0.349345</td>\n",
       "      <td>-0.632182</td>\n",
       "      <td>...</td>\n",
       "      <td>-1.398593</td>\n",
       "      <td>-2.056404</td>\n",
       "      <td>-0.867817</td>\n",
       "      <td>-0.565206</td>\n",
       "      <td>-0.781568</td>\n",
       "      <td>-1.120830</td>\n",
       "      <td>0.061931</td>\n",
       "      <td>-1.061439</td>\n",
       "      <td>-0.038286</td>\n",
       "      <td>0</td>\n",
       "    </tr>\n",
       "  </tbody>\n",
       "</table>\n",
       "<p>5 rows × 53 columns</p>\n",
       "</div>"
      ],
      "text/plain": [
       "   S IgG1_zscore  RBD IgG1_zscore  N IgG1_zscore  S IgG2_zscore  \\\n",
       "0      -0.327784        -0.327417      -0.390835      -0.430222   \n",
       "1      -0.388406        -0.383136      -0.448371      -0.445330   \n",
       "2      -0.388163        -0.382500      -0.446890      -0.478285   \n",
       "3       0.128434         0.162469      -0.072702      -0.395658   \n",
       "4      -0.386497        -0.382327      -0.443244      -0.464233   \n",
       "\n",
       "   RBD IgG2_zscore  N IgG2_zscore  S IgG3_zscore  RBD IgG3_zscore  \\\n",
       "0        -0.410582      -0.423640      -0.069492        -0.205854   \n",
       "1        -0.359239      -0.409801      -0.628774        -0.437607   \n",
       "2        -0.449192      -0.481434      -0.658142        -0.477053   \n",
       "3        -0.425432      -0.425626       0.849509        -0.040188   \n",
       "4        -0.444046      -0.473643      -0.660620        -0.470279   \n",
       "\n",
       "   N IgG3_zscore  S IgG4_zscore  ...  RBD ADCD_zscore  N ADCD_zscore  \\\n",
       "0      -0.276218      -0.418283  ...        -0.411877       0.450513   \n",
       "1      -0.343531      -0.607598  ...        -0.965508      -0.831518   \n",
       "2      -0.353409      -0.595831  ...        -1.033968      -0.560026   \n",
       "3      -0.134474      -0.524252  ...        -0.648830      -2.040266   \n",
       "4      -0.349345      -0.632182  ...        -1.398593      -2.056404   \n",
       "\n",
       "   S NKD-CD107a_zscore  RBD NKD-CD107a_zscore  N NKD-CD107a_zscore  \\\n",
       "0            -0.023810              -0.180116            -0.576487   \n",
       "1            -0.775527              -0.799010            -0.764606   \n",
       "2             0.142907               1.699490            -0.285057   \n",
       "3            -0.363199              -0.771504            -0.323606   \n",
       "4            -0.867817              -0.565206            -0.781568   \n",
       "\n",
       "   S NKD-MIP1b_zscore  RBD NKD-MIP1b_zscore  N NKD-MIP1b_zscore  NT50_zscore  \\\n",
       "0           -0.586417             -1.100901           -0.542606     1.019302   \n",
       "1           -1.617719             -1.100901           -1.061439    -0.272266   \n",
       "2            0.513107              0.713034           -0.099106    -1.301777   \n",
       "3           -0.667148             -0.352029            0.036981    -0.955487   \n",
       "4           -1.120830              0.061931           -1.061439    -0.038286   \n",
       "\n",
       "   cluster  \n",
       "0        0  \n",
       "1        0  \n",
       "2        0  \n",
       "3        0  \n",
       "4        0  \n",
       "\n",
       "[5 rows x 53 columns]"
      ]
     },
     "execution_count": 313,
     "metadata": {},
     "output_type": "execute_result"
    }
   ],
   "source": [
    "# add labels as column in data??\n",
    "df_clustered = pd.DataFrame(df_zscore)\n",
    "df_clustered['cluster']=labels\n",
    "df_clustered.head()"
   ]
  },
  {
   "cell_type": "markdown",
   "metadata": {
    "colab_type": "text",
    "id": "qSeiqphcm5VO"
   },
   "source": [
    "#### Univariate Analysis"
   ]
  },
  {
   "cell_type": "code",
   "execution_count": 292,
   "metadata": {
    "colab": {},
    "colab_type": "code",
    "id": "uu8M1dgYm76F"
   },
   "outputs": [
    {
     "data": {
      "text/plain": [
       "ShapiroResult(statistic=0.4250958561897278, pvalue=1.2075103120681761e-26)"
      ]
     },
     "execution_count": 292,
     "metadata": {},
     "output_type": "execute_result"
    }
   ],
   "source": [
    "'''\n",
    "  TODO: Find 4 variables that have statistically significant differences between values in the clusters (i.e p < 0.05 using pairwise t-tests)\n",
    "'''\n",
    "\n",
    "# shapiro ??\n",
    "stats.shapiro(df_zscore['S IgG1_zscore'])"
   ]
  },
  {
   "cell_type": "code",
   "execution_count": 326,
   "metadata": {},
   "outputs": [
    {
     "data": {
      "text/plain": [
       "<bound method DataFrame.count of     S IgG1_zscore  RBD IgG1_zscore  N IgG1_zscore  S IgG2_zscore  \\\n",
       "12       3.401509         3.500628       2.215323       2.616428   \n",
       "20      -0.040346        -0.247906       1.667698       1.003362   \n",
       "22       3.405043         3.506204       2.221513       2.684968   \n",
       "23       3.408416         3.511525       2.227420       2.750384   \n",
       "25       3.411893         3.517010       2.233510       2.817811   \n",
       "27       3.574269         3.459611       4.214582       4.149519   \n",
       "28       3.699144         3.624600       3.985054       4.024373   \n",
       "29      -0.054058        -0.238707       1.532296       1.126807   \n",
       "30       1.898068         1.740329       3.033519       2.690556   \n",
       "31       1.443318         1.273891       2.713098       2.294742   \n",
       "34       3.591966         3.579958       3.347776       3.517375   \n",
       "35       1.991037         2.060991       1.234937       1.626637   \n",
       "36       3.242677         3.119497       3.980940       3.860902   \n",
       "37       3.472850         3.530343       2.639514       2.953902   \n",
       "38       3.581123         3.575441       3.283302       3.466080   \n",
       "39       3.549381         3.562220       3.094568       3.315930   \n",
       "40       3.406405         3.508353       2.223899       2.711387   \n",
       "41       3.404122         3.504751       2.219900       2.667113   \n",
       "43       1.172658         0.996274       2.522389       2.059159   \n",
       "44       0.225557         0.024831       1.855055       1.234804   \n",
       "45      -0.031521        -0.233985       1.683153       1.174500   \n",
       "46       3.734234         3.639216       4.193699       4.190366   \n",
       "48       2.478845         2.336033       3.442738       3.196064   \n",
       "50       3.412163         3.517436       2.233982       2.823044   \n",
       "51       1.847233         1.688187       2.997700       2.646309   \n",
       "\n",
       "    RBD IgG2_zscore  N IgG2_zscore  S IgG3_zscore  RBD IgG3_zscore  \\\n",
       "12         1.476745       1.034077       1.968224         0.539950   \n",
       "20         2.453226       2.805811       1.399453         3.286716   \n",
       "22         1.529771       1.110626       2.037922         0.575231   \n",
       "23         1.580379       1.183684       2.104441         0.608904   \n",
       "25         1.632544       1.258990       2.173008         0.643612   \n",
       "27         4.415015       4.409226       4.098709         4.328170   \n",
       "28         4.001745       3.906796       3.853485         3.731928   \n",
       "29         2.420631       2.827668       1.484516         3.130133   \n",
       "30         3.505277       3.665676       2.846987         3.845218   \n",
       "31         3.258467       3.463952       2.507396         3.714194   \n",
       "34         3.092495       2.872334       3.174604         2.582500   \n",
       "35         0.896943       0.680867       1.158613         0.258064   \n",
       "36         4.235047       4.262134       3.851089         4.232631   \n",
       "37         2.081968       1.722647       2.420106         1.305043   \n",
       "38         3.000505       2.767675       3.105921         2.466211   \n",
       "39         2.731226       2.461313       2.904867         2.125801   \n",
       "40         1.550209       1.140131       2.064786         0.588830   \n",
       "41         1.515957       1.090684       2.019765         0.566040   \n",
       "43         3.111569       3.343890       2.305278         3.636211   \n",
       "44         2.597542       2.923763       1.598019         3.363329   \n",
       "45         2.585626       2.996943       1.573479         3.374809   \n",
       "46         4.299434       4.245480       4.075750         4.108251   \n",
       "48         3.820486       3.923304       3.280689         4.012553   \n",
       "50         1.636593       1.264834       2.178328         0.646305   \n",
       "51         3.477686       3.643126       2.809025         3.830571   \n",
       "\n",
       "    N IgG3_zscore  S IgG4_zscore  ...  RBD ADCD_zscore  N ADCD_zscore  \\\n",
       "12      -0.145637       0.193997  ...         1.385311      -2.090193   \n",
       "20       3.892757       3.072594  ...        -0.482815      -0.596610   \n",
       "22      -0.135884       0.367699  ...         1.772430      -1.447067   \n",
       "23      -0.126577       0.533478  ...         2.141893      -0.833272   \n",
       "25      -0.116982       0.704359  ...         2.522726      -0.200590   \n",
       "27       4.110983       4.425263  ...         3.113230       0.545919   \n",
       "28       3.400434       3.767363  ...         2.974315       0.148823   \n",
       "29       3.611815       3.384970  ...         0.782114       1.540597   \n",
       "30       4.009785       3.797992  ...         1.445640       0.016098   \n",
       "31       3.982331       3.627815  ...         0.993228      -0.127643   \n",
       "34       2.123499       2.480598  ...         2.402117      -0.657442   \n",
       "35      -0.196129       0.292550  ...         1.376006      -0.203115   \n",
       "36       4.090964       4.301174  ...         2.783341       0.441109   \n",
       "37       0.704330       1.050505  ...         1.766184      -1.553519   \n",
       "38       1.994309       2.350415  ...         2.344227      -0.739015   \n",
       "39       1.616137       1.969331  ...         2.174766      -0.977795   \n",
       "40      -0.132125       0.434648  ...         1.921636      -1.199187   \n",
       "41      -0.138425       0.322445  ...         1.671579      -1.614611   \n",
       "43       3.965990       3.526527  ...         0.723957      -0.213195   \n",
       "44       3.908810       3.172100  ...        -0.218278      -0.512562   \n",
       "45       3.917107       3.506303  ...         0.483769       1.009192   \n",
       "46       3.818504       4.188650  ...         3.161654       0.412795   \n",
       "48       4.044849       4.015331  ...         2.023434       0.199672   \n",
       "50      -0.116238       0.717621  ...         2.552280      -0.151488   \n",
       "51       4.006716       3.778967  ...         1.395066       0.000029   \n",
       "\n",
       "    S NKD-CD107a_zscore  RBD NKD-CD107a_zscore  N NKD-CD107a_zscore  \\\n",
       "12             0.866341              -1.037399             0.114311   \n",
       "20             0.486762              -0.968633             2.690926   \n",
       "22             0.927372              -0.941127             0.168280   \n",
       "23             0.985425              -0.854023             0.219164   \n",
       "25             1.044967              -0.762335             0.271591   \n",
       "27             3.157217              -0.560621             3.646942   \n",
       "28             2.883324              -0.624803             3.090294   \n",
       "29             0.528441              -0.666062             2.619996   \n",
       "30             1.918745              -0.748582             3.204399   \n",
       "31             1.583822              -0.799010             3.084126   \n",
       "34             2.156913              -0.771504             2.018632   \n",
       "35             0.037220              -0.858607            -0.067640   \n",
       "36             2.913095              -0.597296             3.559050   \n",
       "37             1.350120              -0.936542             0.828239   \n",
       "38             2.083974              -0.785257             1.910695   \n",
       "39             1.868134              -0.831101             1.593051   \n",
       "40             0.951189              -0.909036             0.188325   \n",
       "41             0.910998              -0.968633             0.154402   \n",
       "43             1.382868              -0.831101             3.011654   \n",
       "44             0.683250              -0.936542             2.761857   \n",
       "45             0.640082              -0.734828             2.825077   \n",
       "46             3.121492              -0.574374             3.441861   \n",
       "48             2.347447              -0.684400             3.357053   \n",
       "50             1.050921              -0.753166             0.274675   \n",
       "51             1.881531              -0.753166             3.190521   \n",
       "\n",
       "    S NKD-MIP1b_zscore  RBD NKD-MIP1b_zscore  N NKD-MIP1b_zscore  NT50_zscore  \\\n",
       "12            0.855358              0.394763           -0.133128     0.570061   \n",
       "20            0.439199             -0.216816            2.968936    -0.787022   \n",
       "22            1.227173              0.394763            0.143907     0.611242   \n",
       "23            1.581932              0.394763            0.407576     0.650644   \n",
       "25            1.948061              0.394763            0.679751     0.691169   \n",
       "27            3.105575              1.208121            3.851075     1.135918   \n",
       "28            2.838369              1.131154            3.215595     1.122160   \n",
       "29            1.613769             -0.281302            3.677320    -0.686504   \n",
       "30            1.869605              0.546618            3.442812     0.244174   \n",
       "31            1.534176              0.367720            3.331026     0.002239   \n",
       "34            2.124303              0.866969            2.009034     0.923371   \n",
       "35            1.156676             -0.164811            0.525438    -0.037350   \n",
       "36            2.861110              1.077069            3.770880     0.959497   \n",
       "37            1.330644              0.571580            0.668816     0.702400   \n",
       "38            2.052669              0.839926            1.887527     0.903248   \n",
       "39            1.840041              0.760878            1.530298     0.844379   \n",
       "40            1.370441              0.394763            0.249618     0.627152   \n",
       "41            1.129387              0.394763            0.071003     0.600572   \n",
       "43            1.334055              0.261630            3.265413    -0.141705   \n",
       "44            0.634771             -0.110726            3.034550    -0.645604   \n",
       "45            1.368167             -0.216816            3.660309    -0.684164   \n",
       "46            3.072601              1.218522            3.610491     1.187300   \n",
       "48            2.297134              0.775440            3.583760     0.553121   \n",
       "50            1.976487              0.394763            0.701622     0.694258   \n",
       "51            1.832082              0.527896            3.429447     0.217126   \n",
       "\n",
       "    cluster  \n",
       "12        1  \n",
       "20        1  \n",
       "22        1  \n",
       "23        1  \n",
       "25        1  \n",
       "27        1  \n",
       "28        1  \n",
       "29        1  \n",
       "30        1  \n",
       "31        1  \n",
       "34        1  \n",
       "35        1  \n",
       "36        1  \n",
       "37        1  \n",
       "38        1  \n",
       "39        1  \n",
       "40        1  \n",
       "41        1  \n",
       "43        1  \n",
       "44        1  \n",
       "45        1  \n",
       "46        1  \n",
       "48        1  \n",
       "50        1  \n",
       "51        1  \n",
       "\n",
       "[25 rows x 53 columns]>"
      ]
     },
     "execution_count": 326,
     "metadata": {},
     "output_type": "execute_result"
    }
   ],
   "source": [
    "# split the data into separate dataframes based on cluster??\n",
    "\n",
    "# do I need to split the data into separate dataframes per cluster??\n",
    "df_cluster0=df_clustered[df_clustered['cluster']==0]\n",
    "df_cluster0.count\n",
    "\n",
    "df_cluster1=df_clustered[df_clustered['cluster']==1]\n",
    "df_cluster1.count"
   ]
  },
  {
   "cell_type": "code",
   "execution_count": 371,
   "metadata": {},
   "outputs": [
    {
     "name": "stdout",
     "output_type": "stream",
     "text": [
      "column: S IgG1_zscore         pvalue: 0.0000000002\n",
      "column: RBD IgG1_zscore       pvalue: 0.0000000009\n",
      "column: N IgG1_zscore         pvalue: 0.0000000000\n",
      "column: S IgG2_zscore         pvalue: 0.0000000000\n",
      "column: RBD IgG2_zscore       pvalue: 0.0000000000\n",
      "column: N IgG2_zscore         pvalue: 0.0000000000\n",
      "column: S IgG3_zscore         pvalue: 0.0000000000\n",
      "column: RBD IgG3_zscore       pvalue: 0.0000000023\n",
      "column: N IgG3_zscore         pvalue: 0.0000006285\n",
      "column: S IgG4_zscore         pvalue: 0.0000000077\n",
      "column: RBD IgG4_zscore       pvalue: 0.0000002160\n",
      "column: N IgG4_zscore         pvalue: 0.0000004009\n",
      "column: S IgA1_zscore         pvalue: 0.0000000000\n",
      "column: RBD IgA1_zscore       pvalue: 0.0000000000\n",
      "column: N IgA1_zscore         pvalue: 0.0000000103\n",
      "column: S IgA2_zscore         pvalue: 0.0000000003\n",
      "column: RBD IgA2_zscore       pvalue: 0.0000000000\n",
      "column: N IgA2_zscore         pvalue: 0.0000000000\n",
      "column: S IgM_zscore          pvalue: 0.0000000000\n",
      "column: RBD IgM_zscore        pvalue: 0.0000000000\n",
      "column: N IgM_zscore          pvalue: 0.0000000010\n",
      "column: S FcRg2A_zscore       pvalue: 0.0000000000\n",
      "column: RBD FcRg2A_zscore     pvalue: 0.0000000001\n",
      "column: N FcRg2A_zscore       pvalue: 0.0000000000\n",
      "column: S FcRg2b_zscore       pvalue: 0.1453299205\n",
      "column: RBD FcRg2b_zscore     pvalue: 0.7776264960\n",
      "column: N FcRg2b_zscore       pvalue: 0.5283913172\n",
      "column: S FcRg3A_zscore       pvalue: 0.3089587407\n",
      "column: RBD FcRg3A_zscore     pvalue: 0.5769581098\n",
      "column: N FcRg3A_zscore       pvalue: 0.9579728808\n",
      "column: S SNA_zscore          pvalue: 0.0000000000\n",
      "column: RBD SNA_zscore        pvalue: 0.0000000000\n",
      "column: N SNA_zscore          pvalue: 0.0000000071\n",
      "column: S RCA_zscore          pvalue: 0.0000000328\n",
      "column: RBD RCA_zscore        pvalue: 0.0000000001\n",
      "column: N RCA_zscore          pvalue: 0.0000000000\n",
      "column: S ADCP_zscore         pvalue: 0.0000020387\n",
      "column: RBD ADCP_zscore       pvalue: 0.0000445294\n",
      "column: N ADCP_zscore         pvalue: 0.0000046948\n",
      "column: S ADNP_zscore         pvalue: 0.0000000000\n",
      "column: RBD ADNP_zscore       pvalue: 0.0000000052\n",
      "column: N ADNP_zscore         pvalue: 0.0000000021\n",
      "column: S ADCD_zscore         pvalue: 0.0000000000\n",
      "column: RBD ADCD_zscore       pvalue: 0.0000000002\n",
      "column: N ADCD_zscore         pvalue: 0.0394577594\n",
      "column: S NKD-CD107a_zscore   pvalue: 0.0000000005\n",
      "column: RBD NKD-CD107a_zscore pvalue: 0.0000000000\n",
      "column: N NKD-CD107a_zscore   pvalue: 0.0000000429\n",
      "column: S NKD-MIP1b_zscore    pvalue: 0.0000000000\n",
      "column: RBD NKD-MIP1b_zscore  pvalue: 0.0000159840\n",
      "column: N NKD-MIP1b_zscore    pvalue: 0.0000000229\n",
      "column: NT50_zscore           pvalue: 0.0021094007\n"
     ]
    }
   ],
   "source": [
    "# Welch's t-test\n",
    "# p-value\n",
    "# degrees of freedom??\n",
    "# what to do with this data??\n",
    "# all my columns have low p-values??\n",
    "# look at original data or standardized data??\n",
    "cols = df_cluster0.iloc[:,:-1].columns\n",
    "pvalues=[]\n",
    "for col in cols:\n",
    "    (stat,pvalue) = stats.ttest_ind(df_cluster0[col], df_cluster1[col], equal_var=False)\n",
    "    pvalues.append(float(pvalue))\n",
    "    print('column: %-21s pvalue: %.10f' % (col,pvalue))"
   ]
  },
  {
   "cell_type": "code",
   "execution_count": 372,
   "metadata": {},
   "outputs": [
    {
     "data": {
      "text/plain": [
       "array([1.65034514e-25, 2.25892527e-15, 4.53873510e-15, 5.94927821e-15,\n",
       "       1.79577610e-14, 2.19844774e-14, 3.49072496e-14, 4.00278991e-14,\n",
       "       4.80850844e-14, 2.14180639e-13, 3.63486498e-13, 7.50385130e-13,\n",
       "       1.25776799e-12, 1.38844425e-12, 1.84662097e-12, 2.62438263e-12,\n",
       "       5.42320117e-12, 1.13718082e-11, 1.17722311e-11, 3.36182261e-11,\n",
       "       1.20728715e-10, 1.27347205e-10, 1.64751498e-10, 2.14904198e-10,\n",
       "       3.13942962e-10, 4.89048061e-10, 8.68893261e-10, 9.63360206e-10,\n",
       "       2.10790992e-09, 2.26505113e-09, 5.17759478e-09, 7.11267508e-09,\n",
       "       7.67571310e-09, 1.03229430e-08, 2.29219008e-08, 3.27898210e-08,\n",
       "       4.29230933e-08, 2.16015766e-07, 4.00867128e-07, 6.28498483e-07,\n",
       "       2.03872899e-06, 4.69475066e-06, 1.59840175e-05, 4.45293606e-05,\n",
       "       2.10940070e-03, 3.94577594e-02, 1.45329920e-01, 3.08958741e-01,\n",
       "       5.28391317e-01, 5.76958110e-01, 7.77626496e-01, 9.57972881e-01])"
      ]
     },
     "execution_count": 372,
     "metadata": {},
     "output_type": "execute_result"
    }
   ],
   "source": [
    "np.sort(pvalues)"
   ]
  },
  {
   "cell_type": "markdown",
   "metadata": {
    "colab_type": "text",
    "id": "H31yCX_Isqx2"
   },
   "source": [
    "**Part 1.2: Answer**\n",
    "\n",
    "VARIABLE 1, VARIABLE 2, VARIABLE 3, VARIABLE 4\n",
    "S IgG1_zscore, RBD IgG1_zscore, N IgG1_zscore, S IgG2_zscore //dummy values for now\n",
    "\n",
    "**Replace the above line with 4 variables that you found from the univariate analysis and output the corresponding box plots in the cells below or as images in this cell**"
   ]
  },
  {
   "cell_type": "code",
   "execution_count": 378,
   "metadata": {
    "colab": {},
    "colab_type": "code",
    "id": "2vMTrrGUt0Sk"
   },
   "outputs": [
    {
     "data": {
      "image/png": "[encoded data removed]",
      "text/plain": [
       "<Figure size 432x288 with 4 Axes>"
      ]
     },
     "metadata": {
      "needs_background": "light"
     },
     "output_type": "display_data"
    }
   ],
   "source": [
    "'''\n",
    "  TODO: Create and display boxplots for each of the 4 variables like those in Fig 1. from the paper by Wu et al\n",
    "\n",
    "  TIP: 1. If you add the cluster labels as an additional column to the dataframe, then you can follow the example at https://www.pythonprogramming.in/boxplot-group-by-column-data.html\n",
    "       2. If you want to use subplots to put all 4 boxplots in the same figure, you can plot the dataframes on a specific subplot using the ax keyword. For example,\n",
    "          \n",
    "          fig, axs = plt.subplots(2, 2)\n",
    "\n",
    "          df.boxplot(column=['Variable'], by=['Cluster'], ax=axs[0,0])\n",
    "          df.boxplot(column=['Variable'], by=['Cluster'], ax=axs[0,1])\n",
    "''' \n",
    "\n",
    "# how to fix labels?\n",
    "# is this how it should look??\n",
    "# use standardized data??\n",
    "fig, axs = plt.subplots(2,2)\n",
    "\n",
    "df_zscore.boxplot(column=['S IgG1_zscore'], by=['cluster'], ax=axs[0,0])\n",
    "df_zscore.boxplot(column=['RBD IgG1_zscore'], by=['cluster'], ax=axs[0,1])\n",
    "df_zscore.boxplot(column=['N IgG1_zscore'], by=['cluster'], ax=axs[1,0])\n",
    "df_zscore.boxplot(column=['S IgG2_zscore'], by=['cluster'], ax=axs[1,1])\n",
    "\n",
    "plt.tight_layout()"
   ]
  },
  {
   "cell_type": "markdown",
   "metadata": {
    "colab_type": "text",
    "id": "OwtEpty_x4U4"
   },
   "source": [
    "## **Part 1.3: Work**\n"
   ]
  },
  {
   "cell_type": "code",
   "execution_count": 382,
   "metadata": {
    "colab": {},
    "colab_type": "code",
    "id": "wdw0frHS9CJR"
   },
   "outputs": [],
   "source": [
    "# Formats Pandas series to string of form 'index_1: value_1, ..., index_n:, value_n' w/ indexes alphabetically sorted\n",
    "def formatValueCounts(value_counts):\n",
    "  '''\n",
    "    value_counts: Pandas series\n",
    "  '''\n",
    "  count_string = value_counts.to_string()\n",
    "  formatted_counts = [': '.join(count.split()) for count in count_string.split('\\n')]\n",
    "  formatted_counts.sort()\n",
    "  return ', '.join(formatted_counts)\n",
    "\n",
    "# Creates table summarizing data by cluster and categorical feature\n",
    "def plotSummaryTable(cellText, PATH_TO_SAVE=None):\n",
    "  '''\n",
    "  cellText: num_clusters x 9 2D List where cellText[i][j] contains a string summarizing\n",
    "            the statistics for cluster i and column (53 + j) in the data\n",
    "  PATH_TO_SAVE: Path of file to save plot. If path is not provided, image is not saved\n",
    "  '''\n",
    "\n",
    "  k = len(cellText)\n",
    "  colLabels = [f'Cluster {i + 1}' for i in range(k)]\n",
    "\n",
    "  rowLabels = list(df.columns)[52:61]\n",
    "\n",
    "  cellText = np.array(cellText).T\n",
    "\n",
    "  plt.figure(figsize=(10,10))\n",
    "  table = plt.table(cellText, \n",
    "              colLabels=colLabels,\n",
    "              colColours=['#D3D3D3'] * len(colLabels),\n",
    "              rowLabels=rowLabels,\n",
    "              rowColours=['#D3D3D3'] * len(rowLabels),\n",
    "              cellLoc='center',\n",
    "              loc='upper center')\n",
    "  table.scale(2,5)\n",
    "  table.auto_set_font_size(False)\n",
    "  table.set_fontsize(12)\n",
    "\n",
    "  plt.axis('off')\n",
    "  plt.grid(False)\n",
    "\n",
    "  if PATH_TO_SAVE:\n",
    "    plt.savefig(PATH_TO_SAVE)"
   ]
  },
  {
   "cell_type": "code",
   "execution_count": 396,
   "metadata": {
    "colab": {},
    "colab_type": "code",
    "id": "lpezhIjczcgm"
   },
   "outputs": [
    {
     "data": {
      "text/plain": [
       "Index(['Sex', 'Race', 'Age', 'Remdesivir', 'Antibiotics', 'Chloroquines',\n",
       "       'Tocilizumab', 'Ards', 'Outcome'],\n",
       "      dtype='object')"
      ]
     },
     "execution_count": 396,
     "metadata": {},
     "output_type": "execute_result"
    }
   ],
   "source": [
    "'''\n",
    "  TODO: Create a table where the rows correspond to the variables in columns 53-61, and the columns correspond to the k clusters you identified.\n",
    "        For each cell in the table, put summary statistics for that (variable, cluster) pair\n",
    "\n",
    "  TIP: 1. If you create a 2D list, cellText, where cellText[i][j] contains a string summarizing the statistics for cluster i and column (53 + j) in\n",
    "          the data, you can pass this into plotSummaryTable (provided above) to automatically create the table with matplotlib\n",
    "       2. If you use value_counts() from Pandas, you can pass the resulting series to formatValueCounts (provided above) to convert it to a formatted string\n",
    "'''\n",
    "#'Sex','Race', 'Age', 'Remdesivir', 'Antibiotics', 'Chloroquines','Tocilizumab', 'Ards', 'Outcome'\n",
    "\n",
    "# cellTest = [[0,1],['Sex','Age']]\n",
    "# cellTest[]"
   ]
  },
  {
   "cell_type": "markdown",
   "metadata": {
    "colab_type": "text",
    "id": "-GOiFVydUJVR"
   },
   "source": [
    "## **Part 1.3: Answer**\n",
    "\n",
    "**Plot the table in one of the above cells or include it as an image in this cell**\n",
    "\n",
    "Are any of the clusters significantly enriched for some particular value? **YOUR ANSWER HERE**\n",
    "\n"
   ]
  },
  {
   "cell_type": "markdown",
   "metadata": {
    "colab_type": "text",
    "id": "akxs5V1KWZp1"
   },
   "source": [
    "## **Part 1.4: Work**"
   ]
  },
  {
   "cell_type": "code",
   "execution_count": null,
   "metadata": {
    "colab": {},
    "colab_type": "code",
    "id": "KpbGxNnve-uE"
   },
   "outputs": [],
   "source": [
    "'''\n",
    "TODO: Cluster the numeric variables (Columns 1-52)\n",
    "'''"
   ]
  },
  {
   "cell_type": "markdown",
   "metadata": {
    "colab_type": "text",
    "id": "UtoBD07TWebc"
   },
   "source": [
    "## **Part 1.4: Answer**\n",
    "\n",
    "How many clusters are there in the numeric variables? **YOUR ANSWER HERE** \n",
    "\n",
    "Explanation: **Please make sure any relevant plots are either included in the above cells or embedded in this cell and replace this line with a brief explanation of how they justify your choice**"
   ]
  },
  {
   "cell_type": "markdown",
   "metadata": {
    "colab_type": "text",
    "id": "2QXoQx_JWhI6"
   },
   "source": [
    "## **Part 1.5: Work**"
   ]
  },
  {
   "cell_type": "code",
   "execution_count": null,
   "metadata": {
    "colab": {},
    "colab_type": "code",
    "id": "xJXSMuT0Z-Dz"
   },
   "outputs": [],
   "source": [
    "'''\n",
    "TODO: 1. Choose a representative variable from each cluster you determined in Part 1.4\n",
    "         and create a low-dimensional version of the data using those variables\n",
    "      2. Re-cluster the data using the reduced representation using the same \n",
    "         choices you made for part 1.1.\n",
    "'''"
   ]
  },
  {
   "cell_type": "markdown",
   "metadata": {
    "colab_type": "text",
    "id": "nP5HByXKWkTo"
   },
   "source": [
    "## **Part 1.5: Answer**\n",
    "\n",
    "Representative Variables: **Replace this with the representative variables you chose using your work from Part 1.4** \n",
    "\n",
    "How many clusters are there in the numeric variables? **YOUR ANSWER HERE** \n",
    "\n",
    "Explanation: **Please make sure any relevant plots are either included in the above cells or linked in this cell and replace this line with a brief explanation of how they justify your choice**"
   ]
  },
  {
   "cell_type": "markdown",
   "metadata": {
    "colab_type": "text",
    "id": "UMnCzNWMWo2d"
   },
   "source": [
    "## **Part 1.6: Work**"
   ]
  },
  {
   "cell_type": "code",
   "execution_count": null,
   "metadata": {
    "colab": {},
    "colab_type": "code",
    "id": "sFKcIMHWafo3"
   },
   "outputs": [],
   "source": [
    "'''\n",
    "  TODO: Create a table where the rows correspond to the variables in columns 53-61, and the columns correspond to the k clusters you identified.\n",
    "        in part 1.5. For each cell in the table, put summary statistics for that (variable, cluster) pair\n",
    "'''"
   ]
  },
  {
   "cell_type": "markdown",
   "metadata": {
    "colab_type": "text",
    "id": "lKQA27rZWs__"
   },
   "source": [
    "## **Part 1.6: Answer**\n",
    "\n",
    "**Plot the table in one of the above cells or include it as an image in this cell**\n",
    "\n",
    "Are any of the clusters significantly enriched for some particular value? **YOUR ANSWER HERE**"
   ]
  }
 ],
 "metadata": {
  "colab": {
   "name": "02-518_New_HW1_Template.ipynb",
   "provenance": [],
   "toc_visible": true
  },
  "kernelspec": {
   "display_name": "Python 3",
   "language": "python",
   "name": "python3"
  },
  "language_info": {
   "codemirror_mode": {
    "name": "ipython",
    "version": 3
   },
   "file_extension": ".py",
   "mimetype": "text/x-python",
   "name": "python",
   "nbconvert_exporter": "python",
   "pygments_lexer": "ipython3",
   "version": "3.8.5"
  }
 },
 "nbformat": 4,
 "nbformat_minor": 4
}
