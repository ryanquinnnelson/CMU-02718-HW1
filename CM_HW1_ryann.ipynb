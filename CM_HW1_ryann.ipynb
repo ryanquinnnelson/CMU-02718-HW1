{
 "cells": [
  {
   "cell_type": "code",
   "execution_count": 1,
   "metadata": {
    "colab": {},
    "colab_type": "code",
    "id": "-f3hfXQ1zWMX"
   },
   "outputs": [],
   "source": [
    "import matplotlib.pyplot as plt\n",
    "import seaborn as sns\n",
    "import numpy as np \n",
    "import pandas as pd\n",
    "from sklearn.cluster import KMeans\n",
    "from sklearn.decomposition import PCA\n",
    "from sklearn.cluster import AgglomerativeClustering\n",
    "from sklearn import metrics\n",
    "from scipy import stats"
   ]
  },
  {
   "cell_type": "markdown",
   "metadata": {
    "colab_type": "text",
    "id": "H0ppzil93ADx"
   },
   "source": [
    "# Question 1"
   ]
  },
  {
   "cell_type": "markdown",
   "metadata": {
    "colab_type": "text",
    "id": "Kvu3MW96Oh8e"
   },
   "source": [
    "## **Part 1.1: Work**\n",
    "\n"
   ]
  },
  {
   "cell_type": "markdown",
   "metadata": {
    "colab_type": "text",
    "id": "EaPxhxT64eg_"
   },
   "source": [
    "#### Read Data"
   ]
  },
  {
   "cell_type": "code",
   "execution_count": 2,
   "metadata": {
    "colab": {},
    "colab_type": "code",
    "id": "R_Y6OeP60oCX"
   },
   "outputs": [],
   "source": [
    "PATH_TO_Q1_DATA = 'data/HW1_Q1_Data.csv'\n",
    "df = pd.read_csv(PATH_TO_Q1_DATA) "
   ]
  },
  {
   "cell_type": "code",
   "execution_count": 3,
   "metadata": {},
   "outputs": [
    {
     "data": {
      "text/html": [
       "<div>\n",
       "<style scoped>\n",
       "    .dataframe tbody tr th:only-of-type {\n",
       "        vertical-align: middle;\n",
       "    }\n",
       "\n",
       "    .dataframe tbody tr th {\n",
       "        vertical-align: top;\n",
       "    }\n",
       "\n",
       "    .dataframe thead th {\n",
       "        text-align: right;\n",
       "    }\n",
       "</style>\n",
       "<table border=\"1\" class=\"dataframe\">\n",
       "  <thead>\n",
       "    <tr style=\"text-align: right;\">\n",
       "      <th></th>\n",
       "      <th>S IgG1</th>\n",
       "      <th>RBD IgG1</th>\n",
       "      <th>N IgG1</th>\n",
       "      <th>S IgG2</th>\n",
       "      <th>RBD IgG2</th>\n",
       "      <th>N IgG2</th>\n",
       "      <th>S IgG3</th>\n",
       "      <th>RBD IgG3</th>\n",
       "      <th>N IgG3</th>\n",
       "      <th>S IgG4</th>\n",
       "      <th>...</th>\n",
       "      <th>NT50</th>\n",
       "      <th>Sex</th>\n",
       "      <th>Race</th>\n",
       "      <th>Age</th>\n",
       "      <th>Remdesivir</th>\n",
       "      <th>Antibiotics</th>\n",
       "      <th>Chloroquines</th>\n",
       "      <th>Tocilizumab</th>\n",
       "      <th>Ards</th>\n",
       "      <th>Outcome</th>\n",
       "    </tr>\n",
       "  </thead>\n",
       "  <tbody>\n",
       "    <tr>\n",
       "      <th>0</th>\n",
       "      <td>15518.25</td>\n",
       "      <td>11686.5</td>\n",
       "      <td>17408.0</td>\n",
       "      <td>2595.0</td>\n",
       "      <td>2977.5</td>\n",
       "      <td>4418.75</td>\n",
       "      <td>7988.75</td>\n",
       "      <td>10112.75</td>\n",
       "      <td>13740.75</td>\n",
       "      <td>2890.5</td>\n",
       "      <td>...</td>\n",
       "      <td>264.0</td>\n",
       "      <td>Male</td>\n",
       "      <td>Black</td>\n",
       "      <td>60-69</td>\n",
       "      <td>No</td>\n",
       "      <td>Yes</td>\n",
       "      <td>Yes</td>\n",
       "      <td>No</td>\n",
       "      <td>Yes</td>\n",
       "      <td>Died</td>\n",
       "    </tr>\n",
       "  </tbody>\n",
       "</table>\n",
       "<p>1 rows × 61 columns</p>\n",
       "</div>"
      ],
      "text/plain": [
       "     S IgG1  RBD IgG1   N IgG1  S IgG2  RBD IgG2   N IgG2   S IgG3  RBD IgG3  \\\n",
       "0  15518.25   11686.5  17408.0  2595.0    2977.5  4418.75  7988.75  10112.75   \n",
       "\n",
       "     N IgG3  S IgG4  ...   NT50   Sex   Race    Age  Remdesivir  Antibiotics  \\\n",
       "0  13740.75  2890.5  ...  264.0  Male  Black  60-69          No          Yes   \n",
       "\n",
       "   Chloroquines  Tocilizumab  Ards  Outcome  \n",
       "0           Yes           No   Yes     Died  \n",
       "\n",
       "[1 rows x 61 columns]"
      ]
     },
     "execution_count": 3,
     "metadata": {},
     "output_type": "execute_result"
    }
   ],
   "source": [
    "df.head(1)"
   ]
  },
  {
   "cell_type": "markdown",
   "metadata": {
    "colab_type": "text",
    "id": "I7evcxx5PEzm"
   },
   "source": [
    "#### Standardize Data in Columns 1-52"
   ]
  },
  {
   "cell_type": "code",
   "execution_count": 4,
   "metadata": {
    "colab": {},
    "colab_type": "code",
    "id": "fSnRiODWHLZf"
   },
   "outputs": [],
   "source": [
    "'''\n",
    " TODO: Standardize columns 1-52 by subtracting off mean of each column and scaling to unit variance\n",
    "'''\n",
    "# messing with ddof=231 causes issues with hierarchical clustering??\n",
    "cols = df.columns.values.tolist()[0:52] # get list of columns names for columns 1-52\n",
    "\n",
    "for col in cols:\n",
    "    if '_zscore' not in col: # to allow re-execution of same cell multiple times\n",
    "        col_zscore = col + '_zscore' # add column for zscore\n",
    "    df[col_zscore] = (df[col] - df[col].mean())/ df[col].std() # z =(x-μ)/σ"
   ]
  },
  {
   "cell_type": "markdown",
   "metadata": {
    "colab_type": "text",
    "id": "HIteyXLqPcfJ"
   },
   "source": [
    "#### Cluster Standardized Data in Columns 1-52\n",
    "\n",
    "- Distance Measure: I chose to use Euclidean distance because columns 1-52 are real valued.\n",
    "- Quality Measure: I chose to use Silhouette Coefficient because the true labels are unknown."
   ]
  },
  {
   "cell_type": "code",
   "execution_count": 5,
   "metadata": {
    "colab": {},
    "colab_type": "code",
    "id": "x2_YMxdaPbzG"
   },
   "outputs": [],
   "source": [
    "kmeans_possible_cluster_nums = [2,3,4,5,6,7,8,9,10] # 1 < k < 11\n",
    "df_standardized_only = df.iloc[:,61:] # get dataframe with standardized columns only\n",
    "\n",
    "kmeans_cluster_quality_scores = []\n",
    "for k in kmeans_possible_cluster_nums:\n",
    "    '''\n",
    "    TODO: 1. Fit data to k clusters using imported clustering algorithm\n",
    "          2. Compute quality of results for k clusters using imported\n",
    "             cluster quality metric and store in a list\n",
    "    '''\n",
    "    kmeans = KMeans(n_clusters=k).fit(df_standardized_only)\n",
    "    labels = kmeans.labels_\n",
    "    score = metrics.silhouette_score(df_standardized_only, labels) # quality\n",
    "    kmeans_cluster_quality_scores.append(score)"
   ]
  },
  {
   "cell_type": "markdown",
   "metadata": {
    "colab_type": "text",
    "id": "Ykldx_LbQzJ9"
   },
   "source": [
    "#### Visualize Cluster Quality Metrics"
   ]
  },
  {
   "cell_type": "code",
   "execution_count": 6,
   "metadata": {
    "colab": {},
    "colab_type": "code",
    "id": "SwCnOjUvREJz"
   },
   "outputs": [],
   "source": [
    "# Creates line chart to visualize values of cluster quality metric for each possible number of clusters\n",
    "def plotMetricByK(metric_name, metric_results, num_possible_clusters, title, xlabel, PATH_TO_SAVE=None):\n",
    "  '''\n",
    "  metric_name: Name of cluster quality metric for title and axis label\n",
    "  metric_results: List containing value of metric, in order, for each\n",
    "                  possible number of clusters\n",
    "  PATH_TO_SAVE: Path of file to save plot. If path is not provided, image is not saved\n",
    "  '''\n",
    "\n",
    "  plt.clf()\n",
    "\n",
    "  plt.title(title)\n",
    "  plt.xlabel(xlabel)\n",
    "  plt.ylabel(metric_name)\n",
    "  plt.plot(num_possible_clusters, metric_results)\n",
    "  \n",
    "  if PATH_TO_SAVE:\n",
    "    plt.savefig(PATH_TO_SAVE)"
   ]
  },
  {
   "cell_type": "code",
   "execution_count": 7,
   "metadata": {
    "colab": {},
    "colab_type": "code",
    "id": "FzR_OjFVRHL_"
   },
   "outputs": [
    {
     "data": {
      "image/png": "[encoded data removed]",
      "text/plain": [
       "<Figure size 432x288 with 1 Axes>"
      ]
     },
     "metadata": {
      "needs_background": "light"
     },
     "output_type": "display_data"
    }
   ],
   "source": [
    "'''\n",
    " TODO: Plot your choice of cluster quality metric by cluster number to help determine k.\n",
    "\n",
    " TIP: If using the above function, place each function call in a separate \n",
    "      cell to visualize multiple cluster quality metrics\n",
    "'''\n",
    "plotMetricByK(\"Silhouette Coefficient\", \n",
    "              kmeans_cluster_quality_scores, \n",
    "              kmeans_possible_cluster_nums, \n",
    "              title='Silhouette Coefficent by Number of Clusters',\n",
    "              xlabel='Number of Clusters')"
   ]
  },
  {
   "cell_type": "markdown",
   "metadata": {},
   "source": [
    "#### Dimensionality Reduction and Visualization of Data"
   ]
  },
  {
   "cell_type": "code",
   "execution_count": 8,
   "metadata": {},
   "outputs": [
    {
     "data": {
      "text/plain": [
       "<AxesSubplot:xlabel='pca1', ylabel='pca2'>"
      ]
     },
     "execution_count": 8,
     "metadata": {},
     "output_type": "execute_result"
    },
    {
     "data": {
      "image/png": "[encoded data removed]",
      "text/plain": [
       "<Figure size 432x288 with 1 Axes>"
      ]
     },
     "metadata": {
      "needs_background": "light"
     },
     "output_type": "display_data"
    }
   ],
   "source": [
    "# use PCA to visualize data\n",
    "pca = PCA(n_components=2).fit_transform(df_standardized_only)\n",
    "df_pca_plot = pd.DataFrame(pca, columns=['pca1','pca2'])\n",
    "sns.scatterplot(x='pca1', y='pca2', data=df_pca_plot, legend='full')"
   ]
  },
  {
   "cell_type": "markdown",
   "metadata": {
    "colab_type": "text",
    "id": "jPVeT70qWBTe"
   },
   "source": [
    "## **Part 1.1: Answer**\n",
    "\n",
    "How many clusters are there in the data? **There appear to be two clusters.**\n",
    "\n",
    "Explanation: **Good clustering is indicated when the Silhouette Coefficient is close to 1. The Silhouette Coefficient is closest to 1 for two clusters and is much lower for other clustering sizes.**"
   ]
  },
  {
   "cell_type": "markdown",
   "metadata": {
    "colab_type": "text",
    "id": "PMotmJCv781e"
   },
   "source": [
    "## **Part 1.2: Work**"
   ]
  },
  {
   "cell_type": "markdown",
   "metadata": {
    "colab_type": "text",
    "id": "7PYJgChirpBQ"
   },
   "source": [
    "#### Cluster Standardized Data in Columns 1-52 Using Chosen k-value"
   ]
  },
  {
   "cell_type": "code",
   "execution_count": 9,
   "metadata": {
    "colab": {},
    "colab_type": "code",
    "id": "QKqj9J5Xr22l"
   },
   "outputs": [],
   "source": [
    "'''\n",
    "  TODO: Cluster data with the number of clusters you determined in part 1.1 and store resulting labels\n",
    "'''\n",
    "kmeans = KMeans(n_clusters=2).fit(df_standardized_only)\n",
    "kmeans_labels = kmeans.labels_\n",
    "\n",
    "# add to DataFrame\n",
    "df = pd.DataFrame(df)\n",
    "df['cluster']=kmeans_labels"
   ]
  },
  {
   "cell_type": "code",
   "execution_count": 10,
   "metadata": {},
   "outputs": [
    {
     "data": {
      "text/html": [
       "<div>\n",
       "<style scoped>\n",
       "    .dataframe tbody tr th:only-of-type {\n",
       "        vertical-align: middle;\n",
       "    }\n",
       "\n",
       "    .dataframe tbody tr th {\n",
       "        vertical-align: top;\n",
       "    }\n",
       "\n",
       "    .dataframe thead th {\n",
       "        text-align: right;\n",
       "    }\n",
       "</style>\n",
       "<table border=\"1\" class=\"dataframe\">\n",
       "  <thead>\n",
       "    <tr style=\"text-align: right;\">\n",
       "      <th></th>\n",
       "      <th>S IgG1</th>\n",
       "      <th>RBD IgG1</th>\n",
       "      <th>N IgG1</th>\n",
       "      <th>S IgG2</th>\n",
       "      <th>RBD IgG2</th>\n",
       "      <th>N IgG2</th>\n",
       "      <th>S IgG3</th>\n",
       "      <th>RBD IgG3</th>\n",
       "      <th>N IgG3</th>\n",
       "      <th>S IgG4</th>\n",
       "      <th>...</th>\n",
       "      <th>RBD ADCD_zscore</th>\n",
       "      <th>N ADCD_zscore</th>\n",
       "      <th>S NKD-CD107a_zscore</th>\n",
       "      <th>RBD NKD-CD107a_zscore</th>\n",
       "      <th>N NKD-CD107a_zscore</th>\n",
       "      <th>S NKD-MIP1b_zscore</th>\n",
       "      <th>RBD NKD-MIP1b_zscore</th>\n",
       "      <th>N NKD-MIP1b_zscore</th>\n",
       "      <th>NT50_zscore</th>\n",
       "      <th>cluster</th>\n",
       "    </tr>\n",
       "  </thead>\n",
       "  <tbody>\n",
       "    <tr>\n",
       "      <th>0</th>\n",
       "      <td>15518.25</td>\n",
       "      <td>11686.5</td>\n",
       "      <td>17408.0</td>\n",
       "      <td>2595.0</td>\n",
       "      <td>2977.5</td>\n",
       "      <td>4418.75</td>\n",
       "      <td>7988.75</td>\n",
       "      <td>10112.75</td>\n",
       "      <td>13740.75</td>\n",
       "      <td>2890.5</td>\n",
       "      <td>...</td>\n",
       "      <td>-0.411877</td>\n",
       "      <td>0.450513</td>\n",
       "      <td>-0.02381</td>\n",
       "      <td>-0.180116</td>\n",
       "      <td>-0.576487</td>\n",
       "      <td>-0.586417</td>\n",
       "      <td>-1.100901</td>\n",
       "      <td>-0.542606</td>\n",
       "      <td>1.019302</td>\n",
       "      <td>0</td>\n",
       "    </tr>\n",
       "  </tbody>\n",
       "</table>\n",
       "<p>1 rows × 114 columns</p>\n",
       "</div>"
      ],
      "text/plain": [
       "     S IgG1  RBD IgG1   N IgG1  S IgG2  RBD IgG2   N IgG2   S IgG3  RBD IgG3  \\\n",
       "0  15518.25   11686.5  17408.0  2595.0    2977.5  4418.75  7988.75  10112.75   \n",
       "\n",
       "     N IgG3  S IgG4  ...  RBD ADCD_zscore  N ADCD_zscore  S NKD-CD107a_zscore  \\\n",
       "0  13740.75  2890.5  ...        -0.411877       0.450513             -0.02381   \n",
       "\n",
       "   RBD NKD-CD107a_zscore  N NKD-CD107a_zscore  S NKD-MIP1b_zscore  \\\n",
       "0              -0.180116            -0.576487           -0.586417   \n",
       "\n",
       "   RBD NKD-MIP1b_zscore  N NKD-MIP1b_zscore  NT50_zscore  cluster  \n",
       "0             -1.100901           -0.542606     1.019302        0  \n",
       "\n",
       "[1 rows x 114 columns]"
      ]
     },
     "execution_count": 10,
     "metadata": {},
     "output_type": "execute_result"
    }
   ],
   "source": [
    "df.head(1)"
   ]
  },
  {
   "cell_type": "markdown",
   "metadata": {
    "colab_type": "text",
    "id": "qSeiqphcm5VO"
   },
   "source": [
    "#### Univariate Analysis"
   ]
  },
  {
   "cell_type": "code",
   "execution_count": 11,
   "metadata": {
    "colab": {},
    "colab_type": "code",
    "id": "uu8M1dgYm76F"
   },
   "outputs": [],
   "source": [
    "'''\n",
    "  TODO: Find 4 variables that have statistically significant differences between values in the clusters (i.e p < 0.05 using pairwise t-tests)\n",
    "'''\n",
    "# split data by cluster\n",
    "df_cluster0=df[df['cluster']==0]\n",
    "df_cluster1=df[df['cluster']==1]\n",
    "\n",
    "# create a dataframe to store test results\n",
    "cols = df_standardized_only.columns.values.tolist()  # get names of standarized columns\n",
    "df_ttest = pd.DataFrame(columns=['Metric','Statistic','P_value']).astype(dtype= {'Metric':'object', 'Statistic':'float64','P_value':'float64'})\n",
    "\n",
    "# Welch's t-test\n",
    "for col in cols:\n",
    "    (stat, pvalue) = stats.ttest_ind(df_cluster0[col], df_cluster1[col], equal_var=False)\n",
    "    new_row = pd.Series([col,stat,pvalue], index = df_ttest.columns)\n",
    "    df_ttest = df_ttest.append(new_row, ignore_index=True)"
   ]
  },
  {
   "cell_type": "code",
   "execution_count": 12,
   "metadata": {},
   "outputs": [
    {
     "name": "stdout",
     "output_type": "stream",
     "text": [
      "(207, 114)\n",
      "(25, 114)\n"
     ]
    },
    {
     "data": {
      "text/html": [
       "<div>\n",
       "<style scoped>\n",
       "    .dataframe tbody tr th:only-of-type {\n",
       "        vertical-align: middle;\n",
       "    }\n",
       "\n",
       "    .dataframe tbody tr th {\n",
       "        vertical-align: top;\n",
       "    }\n",
       "\n",
       "    .dataframe thead th {\n",
       "        text-align: right;\n",
       "    }\n",
       "</style>\n",
       "<table border=\"1\" class=\"dataframe\">\n",
       "  <thead>\n",
       "    <tr style=\"text-align: right;\">\n",
       "      <th></th>\n",
       "      <th>Metric</th>\n",
       "      <th>Statistic</th>\n",
       "      <th>P_value</th>\n",
       "    </tr>\n",
       "  </thead>\n",
       "  <tbody>\n",
       "    <tr>\n",
       "      <th>0</th>\n",
       "      <td>S IgG1_zscore</td>\n",
       "      <td>-10.536886</td>\n",
       "      <td>1.647515e-10</td>\n",
       "    </tr>\n",
       "    <tr>\n",
       "      <th>1</th>\n",
       "      <td>RBD IgG1_zscore</td>\n",
       "      <td>-9.685497</td>\n",
       "      <td>8.688933e-10</td>\n",
       "    </tr>\n",
       "    <tr>\n",
       "      <th>2</th>\n",
       "      <td>N IgG1_zscore</td>\n",
       "      <td>-17.543949</td>\n",
       "      <td>2.258925e-15</td>\n",
       "    </tr>\n",
       "    <tr>\n",
       "      <th>3</th>\n",
       "      <td>S IgG2_zscore</td>\n",
       "      <td>-16.184907</td>\n",
       "      <td>1.795776e-14</td>\n",
       "    </tr>\n",
       "    <tr>\n",
       "      <th>4</th>\n",
       "      <td>RBD IgG2_zscore</td>\n",
       "      <td>-14.480079</td>\n",
       "      <td>2.141806e-13</td>\n",
       "    </tr>\n",
       "    <tr>\n",
       "      <th>5</th>\n",
       "      <td>N IgG2_zscore</td>\n",
       "      <td>-11.995939</td>\n",
       "      <td>1.177223e-11</td>\n",
       "    </tr>\n",
       "    <tr>\n",
       "      <th>6</th>\n",
       "      <td>S IgG3_zscore</td>\n",
       "      <td>-16.287045</td>\n",
       "      <td>5.949278e-15</td>\n",
       "    </tr>\n",
       "    <tr>\n",
       "      <th>7</th>\n",
       "      <td>RBD IgG3_zscore</td>\n",
       "      <td>-9.217968</td>\n",
       "      <td>2.265051e-09</td>\n",
       "    </tr>\n",
       "    <tr>\n",
       "      <th>8</th>\n",
       "      <td>N IgG3_zscore</td>\n",
       "      <td>-6.694336</td>\n",
       "      <td>6.284985e-07</td>\n",
       "    </tr>\n",
       "    <tr>\n",
       "      <th>9</th>\n",
       "      <td>S IgG4_zscore</td>\n",
       "      <td>-8.630050</td>\n",
       "      <td>7.675713e-09</td>\n",
       "    </tr>\n",
       "    <tr>\n",
       "      <th>10</th>\n",
       "      <td>RBD IgG4_zscore</td>\n",
       "      <td>-7.146349</td>\n",
       "      <td>2.160158e-07</td>\n",
       "    </tr>\n",
       "    <tr>\n",
       "      <th>11</th>\n",
       "      <td>N IgG4_zscore</td>\n",
       "      <td>-6.882688</td>\n",
       "      <td>4.008671e-07</td>\n",
       "    </tr>\n",
       "    <tr>\n",
       "      <th>12</th>\n",
       "      <td>S IgA1_zscore</td>\n",
       "      <td>-15.044391</td>\n",
       "      <td>4.002790e-14</td>\n",
       "    </tr>\n",
       "    <tr>\n",
       "      <th>13</th>\n",
       "      <td>RBD IgA1_zscore</td>\n",
       "      <td>-17.040110</td>\n",
       "      <td>4.538735e-15</td>\n",
       "    </tr>\n",
       "    <tr>\n",
       "      <th>14</th>\n",
       "      <td>N IgA1_zscore</td>\n",
       "      <td>-7.705149</td>\n",
       "      <td>1.032294e-08</td>\n",
       "    </tr>\n",
       "    <tr>\n",
       "      <th>15</th>\n",
       "      <td>S IgA2_zscore</td>\n",
       "      <td>-10.212613</td>\n",
       "      <td>3.139430e-10</td>\n",
       "    </tr>\n",
       "    <tr>\n",
       "      <th>16</th>\n",
       "      <td>RBD IgA2_zscore</td>\n",
       "      <td>-13.279348</td>\n",
       "      <td>1.388444e-12</td>\n",
       "    </tr>\n",
       "    <tr>\n",
       "      <th>17</th>\n",
       "      <td>N IgA2_zscore</td>\n",
       "      <td>-15.445241</td>\n",
       "      <td>3.490725e-14</td>\n",
       "    </tr>\n",
       "    <tr>\n",
       "      <th>18</th>\n",
       "      <td>S IgM_zscore</td>\n",
       "      <td>-12.437344</td>\n",
       "      <td>3.634865e-13</td>\n",
       "    </tr>\n",
       "    <tr>\n",
       "      <th>19</th>\n",
       "      <td>RBD IgM_zscore</td>\n",
       "      <td>-10.487784</td>\n",
       "      <td>5.423201e-12</td>\n",
       "    </tr>\n",
       "    <tr>\n",
       "      <th>20</th>\n",
       "      <td>N IgM_zscore</td>\n",
       "      <td>-9.226283</td>\n",
       "      <td>9.633602e-10</td>\n",
       "    </tr>\n",
       "    <tr>\n",
       "      <th>21</th>\n",
       "      <td>S FcRg2A_zscore</td>\n",
       "      <td>-12.249184</td>\n",
       "      <td>2.624383e-12</td>\n",
       "    </tr>\n",
       "    <tr>\n",
       "      <th>22</th>\n",
       "      <td>RBD FcRg2A_zscore</td>\n",
       "      <td>-10.594278</td>\n",
       "      <td>1.273472e-10</td>\n",
       "    </tr>\n",
       "    <tr>\n",
       "      <th>23</th>\n",
       "      <td>N FcRg2A_zscore</td>\n",
       "      <td>-14.249567</td>\n",
       "      <td>2.198448e-14</td>\n",
       "    </tr>\n",
       "    <tr>\n",
       "      <th>24</th>\n",
       "      <td>S FcRg2b_zscore</td>\n",
       "      <td>-1.489553</td>\n",
       "      <td>1.453299e-01</td>\n",
       "    </tr>\n",
       "    <tr>\n",
       "      <th>25</th>\n",
       "      <td>RBD FcRg2b_zscore</td>\n",
       "      <td>0.284604</td>\n",
       "      <td>7.776265e-01</td>\n",
       "    </tr>\n",
       "    <tr>\n",
       "      <th>26</th>\n",
       "      <td>N FcRg2b_zscore</td>\n",
       "      <td>0.637764</td>\n",
       "      <td>5.283913e-01</td>\n",
       "    </tr>\n",
       "    <tr>\n",
       "      <th>27</th>\n",
       "      <td>S FcRg3A_zscore</td>\n",
       "      <td>-1.032731</td>\n",
       "      <td>3.089587e-01</td>\n",
       "    </tr>\n",
       "    <tr>\n",
       "      <th>28</th>\n",
       "      <td>RBD FcRg3A_zscore</td>\n",
       "      <td>0.563401</td>\n",
       "      <td>5.769581e-01</td>\n",
       "    </tr>\n",
       "    <tr>\n",
       "      <th>29</th>\n",
       "      <td>N FcRg3A_zscore</td>\n",
       "      <td>-0.053124</td>\n",
       "      <td>9.579729e-01</td>\n",
       "    </tr>\n",
       "    <tr>\n",
       "      <th>30</th>\n",
       "      <td>S SNA_zscore</td>\n",
       "      <td>-12.645275</td>\n",
       "      <td>1.257768e-12</td>\n",
       "    </tr>\n",
       "    <tr>\n",
       "      <th>31</th>\n",
       "      <td>RBD SNA_zscore</td>\n",
       "      <td>-12.008836</td>\n",
       "      <td>1.137181e-11</td>\n",
       "    </tr>\n",
       "    <tr>\n",
       "      <th>32</th>\n",
       "      <td>N SNA_zscore</td>\n",
       "      <td>-8.645202</td>\n",
       "      <td>7.112675e-09</td>\n",
       "    </tr>\n",
       "    <tr>\n",
       "      <th>33</th>\n",
       "      <td>S RCA_zscore</td>\n",
       "      <td>-7.553525</td>\n",
       "      <td>3.278982e-08</td>\n",
       "    </tr>\n",
       "    <tr>\n",
       "      <th>34</th>\n",
       "      <td>RBD RCA_zscore</td>\n",
       "      <td>-10.189509</td>\n",
       "      <td>1.207287e-10</td>\n",
       "    </tr>\n",
       "    <tr>\n",
       "      <th>35</th>\n",
       "      <td>N RCA_zscore</td>\n",
       "      <td>-13.592529</td>\n",
       "      <td>7.503851e-13</td>\n",
       "    </tr>\n",
       "    <tr>\n",
       "      <th>36</th>\n",
       "      <td>S ADCP_zscore</td>\n",
       "      <td>-5.920538</td>\n",
       "      <td>2.038729e-06</td>\n",
       "    </tr>\n",
       "    <tr>\n",
       "      <th>37</th>\n",
       "      <td>RBD ADCP_zscore</td>\n",
       "      <td>-4.722529</td>\n",
       "      <td>4.452936e-05</td>\n",
       "    </tr>\n",
       "    <tr>\n",
       "      <th>38</th>\n",
       "      <td>N ADCP_zscore</td>\n",
       "      <td>-5.519926</td>\n",
       "      <td>4.694751e-06</td>\n",
       "    </tr>\n",
       "    <tr>\n",
       "      <th>39</th>\n",
       "      <td>S ADNP_zscore</td>\n",
       "      <td>-11.110888</td>\n",
       "      <td>3.361823e-11</td>\n",
       "    </tr>\n",
       "    <tr>\n",
       "      <th>40</th>\n",
       "      <td>RBD ADNP_zscore</td>\n",
       "      <td>-8.145099</td>\n",
       "      <td>5.177595e-09</td>\n",
       "    </tr>\n",
       "    <tr>\n",
       "      <th>41</th>\n",
       "      <td>N ADNP_zscore</td>\n",
       "      <td>-8.357145</td>\n",
       "      <td>2.107910e-09</td>\n",
       "    </tr>\n",
       "    <tr>\n",
       "      <th>42</th>\n",
       "      <td>S ADCD_zscore</td>\n",
       "      <td>-10.979784</td>\n",
       "      <td>1.846621e-12</td>\n",
       "    </tr>\n",
       "    <tr>\n",
       "      <th>43</th>\n",
       "      <td>RBD ADCD_zscore</td>\n",
       "      <td>-9.656604</td>\n",
       "      <td>2.149042e-10</td>\n",
       "    </tr>\n",
       "    <tr>\n",
       "      <th>44</th>\n",
       "      <td>N ADCD_zscore</td>\n",
       "      <td>2.145041</td>\n",
       "      <td>3.945776e-02</td>\n",
       "    </tr>\n",
       "    <tr>\n",
       "      <th>45</th>\n",
       "      <td>S NKD-CD107a_zscore</td>\n",
       "      <td>-9.064582</td>\n",
       "      <td>4.890481e-10</td>\n",
       "    </tr>\n",
       "    <tr>\n",
       "      <th>46</th>\n",
       "      <td>RBD NKD-CD107a_zscore</td>\n",
       "      <td>11.826705</td>\n",
       "      <td>1.650345e-25</td>\n",
       "    </tr>\n",
       "    <tr>\n",
       "      <th>47</th>\n",
       "      <td>N NKD-CD107a_zscore</td>\n",
       "      <td>-7.713359</td>\n",
       "      <td>4.292309e-08</td>\n",
       "    </tr>\n",
       "    <tr>\n",
       "      <th>48</th>\n",
       "      <td>S NKD-MIP1b_zscore</td>\n",
       "      <td>-12.713716</td>\n",
       "      <td>4.808508e-14</td>\n",
       "    </tr>\n",
       "    <tr>\n",
       "      <th>49</th>\n",
       "      <td>RBD NKD-MIP1b_zscore</td>\n",
       "      <td>-4.678332</td>\n",
       "      <td>1.598402e-05</td>\n",
       "    </tr>\n",
       "    <tr>\n",
       "      <th>50</th>\n",
       "      <td>N NKD-MIP1b_zscore</td>\n",
       "      <td>-8.057484</td>\n",
       "      <td>2.292190e-08</td>\n",
       "    </tr>\n",
       "    <tr>\n",
       "      <th>51</th>\n",
       "      <td>NT50_zscore</td>\n",
       "      <td>-3.272015</td>\n",
       "      <td>2.109401e-03</td>\n",
       "    </tr>\n",
       "  </tbody>\n",
       "</table>\n",
       "</div>"
      ],
      "text/plain": [
       "                   Metric  Statistic       P_value\n",
       "0           S IgG1_zscore -10.536886  1.647515e-10\n",
       "1         RBD IgG1_zscore  -9.685497  8.688933e-10\n",
       "2           N IgG1_zscore -17.543949  2.258925e-15\n",
       "3           S IgG2_zscore -16.184907  1.795776e-14\n",
       "4         RBD IgG2_zscore -14.480079  2.141806e-13\n",
       "5           N IgG2_zscore -11.995939  1.177223e-11\n",
       "6           S IgG3_zscore -16.287045  5.949278e-15\n",
       "7         RBD IgG3_zscore  -9.217968  2.265051e-09\n",
       "8           N IgG3_zscore  -6.694336  6.284985e-07\n",
       "9           S IgG4_zscore  -8.630050  7.675713e-09\n",
       "10        RBD IgG4_zscore  -7.146349  2.160158e-07\n",
       "11          N IgG4_zscore  -6.882688  4.008671e-07\n",
       "12          S IgA1_zscore -15.044391  4.002790e-14\n",
       "13        RBD IgA1_zscore -17.040110  4.538735e-15\n",
       "14          N IgA1_zscore  -7.705149  1.032294e-08\n",
       "15          S IgA2_zscore -10.212613  3.139430e-10\n",
       "16        RBD IgA2_zscore -13.279348  1.388444e-12\n",
       "17          N IgA2_zscore -15.445241  3.490725e-14\n",
       "18           S IgM_zscore -12.437344  3.634865e-13\n",
       "19         RBD IgM_zscore -10.487784  5.423201e-12\n",
       "20           N IgM_zscore  -9.226283  9.633602e-10\n",
       "21        S FcRg2A_zscore -12.249184  2.624383e-12\n",
       "22      RBD FcRg2A_zscore -10.594278  1.273472e-10\n",
       "23        N FcRg2A_zscore -14.249567  2.198448e-14\n",
       "24        S FcRg2b_zscore  -1.489553  1.453299e-01\n",
       "25      RBD FcRg2b_zscore   0.284604  7.776265e-01\n",
       "26        N FcRg2b_zscore   0.637764  5.283913e-01\n",
       "27        S FcRg3A_zscore  -1.032731  3.089587e-01\n",
       "28      RBD FcRg3A_zscore   0.563401  5.769581e-01\n",
       "29        N FcRg3A_zscore  -0.053124  9.579729e-01\n",
       "30           S SNA_zscore -12.645275  1.257768e-12\n",
       "31         RBD SNA_zscore -12.008836  1.137181e-11\n",
       "32           N SNA_zscore  -8.645202  7.112675e-09\n",
       "33           S RCA_zscore  -7.553525  3.278982e-08\n",
       "34         RBD RCA_zscore -10.189509  1.207287e-10\n",
       "35           N RCA_zscore -13.592529  7.503851e-13\n",
       "36          S ADCP_zscore  -5.920538  2.038729e-06\n",
       "37        RBD ADCP_zscore  -4.722529  4.452936e-05\n",
       "38          N ADCP_zscore  -5.519926  4.694751e-06\n",
       "39          S ADNP_zscore -11.110888  3.361823e-11\n",
       "40        RBD ADNP_zscore  -8.145099  5.177595e-09\n",
       "41          N ADNP_zscore  -8.357145  2.107910e-09\n",
       "42          S ADCD_zscore -10.979784  1.846621e-12\n",
       "43        RBD ADCD_zscore  -9.656604  2.149042e-10\n",
       "44          N ADCD_zscore   2.145041  3.945776e-02\n",
       "45    S NKD-CD107a_zscore  -9.064582  4.890481e-10\n",
       "46  RBD NKD-CD107a_zscore  11.826705  1.650345e-25\n",
       "47    N NKD-CD107a_zscore  -7.713359  4.292309e-08\n",
       "48     S NKD-MIP1b_zscore -12.713716  4.808508e-14\n",
       "49   RBD NKD-MIP1b_zscore  -4.678332  1.598402e-05\n",
       "50     N NKD-MIP1b_zscore  -8.057484  2.292190e-08\n",
       "51            NT50_zscore  -3.272015  2.109401e-03"
      ]
     },
     "execution_count": 12,
     "metadata": {},
     "output_type": "execute_result"
    }
   ],
   "source": [
    "print(df_cluster0.shape)\n",
    "print(df_cluster1.shape)\n",
    "df_ttest"
   ]
  },
  {
   "cell_type": "code",
   "execution_count": 13,
   "metadata": {},
   "outputs": [
    {
     "data": {
      "text/plain": [
       "['RBD NKD-CD107a_zscore', 'N IgG1_zscore', 'RBD IgA1_zscore', 'S IgG3_zscore']"
      ]
     },
     "execution_count": 13,
     "metadata": {},
     "output_type": "execute_result"
    }
   ],
   "source": [
    "# find metrics with four lowest P-values\n",
    "df_ttest.nsmallest(4,['P_value'])['Metric'].to_list()"
   ]
  },
  {
   "cell_type": "markdown",
   "metadata": {
    "colab_type": "text",
    "id": "H31yCX_Isqx2"
   },
   "source": [
    "## **Part 1.2: Answer**\n",
    "\n",
    "Four variables with statistically significant differences between values:\n",
    "- RBD NKD-CD107a\n",
    "- N IgG1\n",
    "- RBD IgA1\n",
    "- S IgG3"
   ]
  },
  {
   "cell_type": "markdown",
   "metadata": {},
   "source": [
    "#### Visualization"
   ]
  },
  {
   "cell_type": "code",
   "execution_count": 14,
   "metadata": {
    "colab": {},
    "colab_type": "code",
    "id": "2vMTrrGUt0Sk"
   },
   "outputs": [
    {
     "data": {
      "image/png": "[encoded data removed]",
      "text/plain": [
       "<Figure size 1080x1080 with 4 Axes>"
      ]
     },
     "metadata": {
      "needs_background": "light"
     },
     "output_type": "display_data"
    }
   ],
   "source": [
    "'''\n",
    "  TODO: Create and display boxplots for each of the 4 variables like those in Fig 1. from the paper by Wu et al\n",
    "\n",
    "  TIP: 1. If you add the cluster labels as an additional column to the dataframe, then you can follow the example at https://www.pythonprogramming.in/boxplot-group-by-column-data.html\n",
    "       2. If you want to use subplots to put all 4 boxplots in the same figure, you can plot the dataframes on a specific subplot using the ax keyword. For example,\n",
    "          \n",
    "          fig, axs = plt.subplots(2, 2)\n",
    "\n",
    "          df.boxplot(column=['Variable'], by=['Cluster'], ax=axs[0,0])\n",
    "          df.boxplot(column=['Variable'], by=['Cluster'], ax=axs[0,1])\n",
    "''' \n",
    "fig, axs = plt.subplots(2,2, figsize=(15,15))\n",
    "\n",
    "df.boxplot(column=['RBD NKD-CD107a_zscore'], by=['cluster'], ax=axs[0,0])\n",
    "df.boxplot(column=['N IgG1_zscore'], by=['cluster'], ax=axs[0,1])\n",
    "df.boxplot(column=['RBD IgA1_zscore'], by=['cluster'], ax=axs[1,0])\n",
    "df.boxplot(column=['S IgG3_zscore'], by=['cluster'], ax=axs[1,1])\n",
    "\n",
    "\n",
    "plt.tight_layout() # ensures all labels are visible"
   ]
  },
  {
   "cell_type": "markdown",
   "metadata": {
    "colab_type": "text",
    "id": "OwtEpty_x4U4"
   },
   "source": [
    "## **Part 1.3: Work**\n"
   ]
  },
  {
   "cell_type": "markdown",
   "metadata": {},
   "source": [
    "#### Analysis of Columns 53-61"
   ]
  },
  {
   "cell_type": "code",
   "execution_count": 15,
   "metadata": {
    "colab": {},
    "colab_type": "code",
    "id": "wdw0frHS9CJR"
   },
   "outputs": [],
   "source": [
    "# Formats Pandas series to string of form 'index_1: value_1, ..., index_n:, value_n' w/ indexes alphabetically sorted\n",
    "def formatValueCounts(value_counts):\n",
    "  '''\n",
    "    value_counts: Pandas series\n",
    "  '''\n",
    "  count_string = value_counts.to_string()\n",
    "  formatted_counts = [': '.join(count.split()) for count in count_string.split('\\n')]\n",
    "  formatted_counts.sort()\n",
    "  return ',\\n '.join(formatted_counts)\n",
    "\n",
    "# Creates table summarizing data by cluster and categorical feature\n",
    "def plotSummaryTable(cellText, PATH_TO_SAVE=None):\n",
    "  '''\n",
    "  cellText: num_clusters x 9 2D List where cellText[i][j] contains a string summarizing\n",
    "            the statistics for cluster i and column (53 + j) in the data\n",
    "  PATH_TO_SAVE: Path of file to save plot. If path is not provided, image is not saved\n",
    "  '''\n",
    "\n",
    "  k = len(cellText)\n",
    "  colLabels = [f'Cluster {i + 1}' for i in range(k)]\n",
    "\n",
    "  rowLabels = list(df.columns)[52:61]\n",
    "\n",
    "  cellText = np.array(cellText).T\n",
    "\n",
    "  plt.figure(figsize=(10,10))\n",
    "  table = plt.table(cellText, \n",
    "              colLabels=colLabels,\n",
    "              colColours=['#D3D3D3'] * len(colLabels),\n",
    "              rowLabels=rowLabels,\n",
    "              rowColours=['#D3D3D3'] * len(rowLabels),\n",
    "              cellLoc='center',\n",
    "              loc='upper center')\n",
    "  table.scale(2,5)\n",
    "  table.auto_set_font_size(True) # was false\n",
    "#   table.set_fontsize(8)\n",
    "\n",
    "  plt.axis('off')\n",
    "  plt.grid(False)\n",
    "\n",
    "  if PATH_TO_SAVE:\n",
    "    plt.savefig(PATH_TO_SAVE)"
   ]
  },
  {
   "cell_type": "code",
   "execution_count": 16,
   "metadata": {
    "colab": {},
    "colab_type": "code",
    "id": "lpezhIjczcgm"
   },
   "outputs": [
    {
     "data": {
      "image/png": "[encoded data removed]",
      "text/plain": [
       "<Figure size 720x720 with 1 Axes>"
      ]
     },
     "metadata": {
      "needs_background": "light"
     },
     "output_type": "display_data"
    }
   ],
   "source": [
    "'''\n",
    "  TODO: Create a table where the rows correspond to the variables in columns 53-61, and the columns correspond to the k clusters you identified.\n",
    "        For each cell in the table, put summary statistics for that (variable, cluster) pair\n",
    "\n",
    "  TIP: 1. If you create a 2D list, cellText, where cellText[i][j] contains a string summarizing the statistics for cluster i and column (53 + j) in\n",
    "          the data, you can pass this into plotSummaryTable (provided above) to automatically create the table with matplotlib\n",
    "       2. If you use value_counts() from Pandas, you can pass the resulting series to formatValueCounts (provided above) to convert it to a formatted string\n",
    "'''\n",
    "#'Sex','Race', 'Age', 'Remdesivir', 'Antibiotics', 'Chloroquines','Tocilizumab', 'Ards', 'Outcome'\n",
    "\n",
    "# create 2d list to contain results\n",
    "rows=2 # 2 clusters\n",
    "columns=9 # 9 categorical columns\n",
    "cellText=[[''] * columns for i in range(rows)]\n",
    "\n",
    "\n",
    "# get summary stats for each categorical column\n",
    "categorical_cols = df.columns.values.tolist()[52:61]\n",
    "for i, col in enumerate(categorical_cols):\n",
    "    for cluster in range(0,rows):\n",
    "        df_one_cluster = df[df['cluster']==cluster] # select data for only one cluster\n",
    "        formatted = formatValueCounts(df_one_cluster[col].value_counts())\n",
    "        cellText[cluster][i]=formatted\n",
    "\n",
    "output_table = plotSummaryTable(cellText)\n",
    "output_table"
   ]
  },
  {
   "cell_type": "markdown",
   "metadata": {},
   "source": [
    "#### Check for Statistical Significance"
   ]
  },
  {
   "cell_type": "code",
   "execution_count": 41,
   "metadata": {},
   "outputs": [
    {
     "name": "stdout",
     "output_type": "stream",
     "text": [
      "Fisher's Exact Test by Sex (pvalue): 0.00022891132432224163\n",
      "Fisher's Exact Test by Age (pvalue): 2.2681546040326153e-26\n",
      "Fisher's Exact Test by Race (pvalue): 0.08516952941820745\n",
      "Fisher's Exact Test by Outcome (pvalue): 1.0\n"
     ]
    }
   ],
   "source": [
    "# Fisher's Exact Test\n",
    "# Sex\n",
    "contingency_table_sex=[[140,67],[25,0]]\n",
    "oddsratio, pvalue=stats.fisher_exact(contingency_table_sex)\n",
    "print(\"Fisher's Exact Test by Sex (pvalue):\",pvalue)\n",
    "\n",
    "# Age\n",
    "contingency_table_age=[[9,198],[25,0]]\n",
    "oddsratio, pvalue=stats.fisher_exact(contingency_table_age)\n",
    "print(\"Fisher's Exact Test by Age (pvalue):\",pvalue)\n",
    "\n",
    "# Race\n",
    "contingency_table_race=[[182,25],[25,0]]\n",
    "oddsratio, pvalue=stats.fisher_exact(contingency_table_race)\n",
    "print(\"Fisher's Exact Test by Race (pvalue):\",pvalue)\n",
    "\n",
    "# Outcome\n",
    "contingency_table_outcome=[[94,113],[11,14]]\n",
    "oddsratio, pvalue=stats.fisher_exact(contingency_table_outcome)\n",
    "print(\"Fisher's Exact Test by Outcome (pvalue):\",pvalue)"
   ]
  },
  {
   "cell_type": "markdown",
   "metadata": {
    "colab_type": "text",
    "id": "-GOiFVydUJVR"
   },
   "source": [
    "## **Part 1.3: Answer**\n",
    "\n",
    "Are any of the clusters significantly enriched for some particular value? \n",
    "\n",
    "**Yes. One cluster consists entirely of white males younger than 49 who didn't take Tocilizumab. The second cluster is largely white individuals older than 49, but this simply the remainder of the patients so these details are unlikely to be relevant on their own. Roughly half of the patients died in each cluster, so it's not clear if the clusters are clinically relevant.**\n",
    "\n",
    "**Regarding statistical significance, Fisher's Exact Test indicate clusters are significantly enriched by sex and age but not by race or outcome.**"
   ]
  },
  {
   "cell_type": "markdown",
   "metadata": {
    "colab_type": "text",
    "id": "akxs5V1KWZp1"
   },
   "source": [
    "## **Part 1.4: Work**"
   ]
  },
  {
   "cell_type": "markdown",
   "metadata": {},
   "source": [
    "#### Cluster Variables for Columns 1-52\n",
    "- Distance Measure: I chose to use Euclidean distance because columns 1-52 are real valued.\n",
    "- Quality Measure: I chose to use Silhouette Coefficient because there are no \"true\" labels with hierarchical clusters (so the true labels are unknown)."
   ]
  },
  {
   "cell_type": "code",
   "execution_count": 18,
   "metadata": {
    "colab": {},
    "colab_type": "code",
    "id": "KpbGxNnve-uE"
   },
   "outputs": [],
   "source": [
    "'''\n",
    "TODO: Cluster the numeric variables (Columns 1-52) to find clusters among variables\n",
    "'''\n",
    "hier_possible_distance_thresholds = list(range(1,30))\n",
    "df_numeric_variables = df_standardized_only.T # transpose data to cluster by metric\n",
    "\n",
    "# hierarchical clustering for different distance thresholds\n",
    "h_quality_scores = []\n",
    "\n",
    "for d in hier_possible_distance_thresholds:\n",
    "    hier = AgglomerativeClustering(n_clusters=None, distance_threshold=d).fit(df_numeric_variables)\n",
    "    h_labels = hier.labels_\n",
    "    score = metrics.silhouette_score(df_numeric_variables, h_labels)\n",
    "    h_quality_scores.append((d,score))"
   ]
  },
  {
   "cell_type": "code",
   "execution_count": 19,
   "metadata": {},
   "outputs": [
    {
     "data": {
      "text/plain": [
       "[(1, 0.04381498465207157),\n",
       " (2, 0.061028385197819564),\n",
       " (3, 0.13279712186854872),\n",
       " (4, 0.15168559663433792),\n",
       " (5, 0.15012628184636384),\n",
       " (6, 0.18787001513529739),\n",
       " (7, 0.24404908059887112),\n",
       " (8, 0.2557911405197007),\n",
       " (9, 0.2601938392283203),\n",
       " (10, 0.28971297152176684),\n",
       " (11, 0.3109277177498267),\n",
       " (12, 0.3109277177498267),\n",
       " (13, 0.33004434833827606),\n",
       " (14, 0.33004434833827606),\n",
       " (15, 0.3348582675061609),\n",
       " (16, 0.3348582675061609),\n",
       " (17, 0.31947491922547433),\n",
       " (18, 0.31566997920796314),\n",
       " (19, 0.3096641777391753),\n",
       " (20, 0.29965051732110354),\n",
       " (21, 0.2901239063816258),\n",
       " (22, 0.2901239063816258),\n",
       " (23, 0.2901239063816258),\n",
       " (24, 0.2901239063816258),\n",
       " (25, 0.26250368170546834),\n",
       " (26, 0.26250368170546834),\n",
       " (27, 0.26250368170546834),\n",
       " (28, 0.26250368170546834),\n",
       " (29, 0.26250368170546834)]"
      ]
     },
     "execution_count": 19,
     "metadata": {},
     "output_type": "execute_result"
    }
   ],
   "source": [
    "h_quality_scores"
   ]
  },
  {
   "cell_type": "markdown",
   "metadata": {},
   "source": [
    "#### Visualization 1 - Scatterplot"
   ]
  },
  {
   "cell_type": "code",
   "execution_count": 20,
   "metadata": {},
   "outputs": [
    {
     "data": {
      "image/png": "[encoded data removed]",
      "text/plain": [
       "<Figure size 432x288 with 1 Axes>"
      ]
     },
     "metadata": {
      "needs_background": "light"
     },
     "output_type": "display_data"
    }
   ],
   "source": [
    "# get scores only\n",
    "distances,scores = zip(*h_quality_scores)\n",
    "\n",
    "plotMetricByK('Silhouette Coefficient', \n",
    "              scores, \n",
    "              hier_possible_distance_thresholds,\n",
    "             title='Silhouette Coefficient by distance_threshold',\n",
    "             xlabel='Distance threshold')"
   ]
  },
  {
   "cell_type": "markdown",
   "metadata": {},
   "source": [
    "#### Visualization 2 - Dendrogram"
   ]
  },
  {
   "cell_type": "code",
   "execution_count": 21,
   "metadata": {},
   "outputs": [
    {
     "data": {
      "image/png": "[encoded data removed]",
      "text/plain": [
       "<Figure size 1800x504 with 1 Axes>"
      ]
     },
     "metadata": {
      "needs_background": "light"
     },
     "output_type": "display_data"
    }
   ],
   "source": [
    "import scipy.cluster.hierarchy as shc\n",
    "\n",
    "plt.figure(figsize=(25,7))\n",
    "plt.title(\"Dendrogram of Numeric Variables\")\n",
    "dend = shc.dendrogram(shc.linkage(df_numeric_variables, method='ward')) # method??\n",
    "plt.axhline(y=15, color='r', linestyle='--')\n",
    "plt.show()"
   ]
  },
  {
   "cell_type": "markdown",
   "metadata": {
    "colab_type": "text",
    "id": "UtoBD07TWebc"
   },
   "source": [
    "## **Part 1.4: Answer**\n",
    "\n",
    "How many clusters are there in the numeric variables? **There appear to be 12 clusters of variables.** \n",
    "\n",
    "Explanation: **When hierarchical clustering is performed, the quality measure (silhouette coefficient) is highest when the distance measure is 15 or 16. Choosing 15 as the distance threshold results in 12 clusters.**"
   ]
  },
  {
   "cell_type": "markdown",
   "metadata": {
    "colab_type": "text",
    "id": "2QXoQx_JWhI6"
   },
   "source": [
    "## **Part 1.5: Work**"
   ]
  },
  {
   "cell_type": "markdown",
   "metadata": {},
   "source": [
    "#### Cluster Variables for Columns 1-52 using chosen distance threshold"
   ]
  },
  {
   "cell_type": "code",
   "execution_count": 22,
   "metadata": {},
   "outputs": [
    {
     "data": {
      "text/plain": [
       "S IgG1_zscore             0\n",
       "S ADNP_zscore             0\n",
       "N FcRg2A_zscore           0\n",
       "RBD FcRg2A_zscore         0\n",
       "S FcRg2A_zscore           0\n",
       "N IgA2_zscore             0\n",
       "RBD IgA2_zscore           0\n",
       "RBD IgA1_zscore           0\n",
       "S IgA1_zscore             0\n",
       "S IgA2_zscore             0\n",
       "RBD IgG1_zscore           0\n",
       "S IgG3_zscore             0\n",
       "N IgG1_zscore             0\n",
       "S IgG2_zscore             0\n",
       "S ADCD_zscore             1\n",
       "RBD ADCD_zscore           1\n",
       "S NKD-MIP1b_zscore        1\n",
       "S NKD-CD107a_zscore       1\n",
       "RBD NKD-CD107a_zscore     2\n",
       "RBD NKD-MIP1b_zscore      2\n",
       "N RCA_zscore              3\n",
       "N NKD-MIP1b_zscore        3\n",
       "RBD IgG4_zscore           3\n",
       "S IgG4_zscore             3\n",
       "N NKD-CD107a_zscore       3\n",
       "N IgG2_zscore             3\n",
       "N SNA_zscore              3\n",
       "RBD IgG3_zscore           3\n",
       "N IgG3_zscore             3\n",
       "N IgG4_zscore             3\n",
       "RBD IgG2_zscore           3\n",
       "RBD SNA_zscore            3\n",
       "RBD FcRg2b_zscore         4\n",
       "S FcRg3A_zscore           4\n",
       "S FcRg2b_zscore           4\n",
       "RBD FcRg3A_zscore         4\n",
       "N IgM_zscore              5\n",
       "S SNA_zscore              5\n",
       "S RCA_zscore              5\n",
       "RBD RCA_zscore            5\n",
       "RBD ADCP_zscore           6\n",
       "S ADCP_zscore             6\n",
       "N ADCP_zscore             6\n",
       "N FcRg2b_zscore           7\n",
       "N ADCD_zscore             7\n",
       "N FcRg3A_zscore           7\n",
       "N IgA1_zscore             8\n",
       "NT50_zscore               9\n",
       "RBD ADNP_zscore          10\n",
       "N ADNP_zscore            10\n",
       "RBD IgM_zscore           11\n",
       "S IgM_zscore             11\n",
       "Name: variable_cluster, dtype: int64"
      ]
     },
     "execution_count": 22,
     "metadata": {},
     "output_type": "execute_result"
    }
   ],
   "source": [
    "# determine clusters for variables 1-52\n",
    "hier = AgglomerativeClustering(n_clusters=None, distance_threshold=15).fit(df_numeric_variables) #?? distance threshold\n",
    "h_labels = hier.labels_\n",
    "h_labels\n",
    "\n",
    "# add clusters to data\n",
    "df_numeric_variables['variable_cluster']=h_labels\n",
    "df_numeric_variables.sort_values(by=['variable_cluster'])['variable_cluster']"
   ]
  },
  {
   "cell_type": "markdown",
   "metadata": {},
   "source": [
    "#### Build low-dimensional dataset"
   ]
  },
  {
   "cell_type": "code",
   "execution_count": 23,
   "metadata": {
    "colab": {},
    "colab_type": "code",
    "id": "xJXSMuT0Z-Dz"
   },
   "outputs": [
    {
     "data": {
      "text/html": [
       "<div>\n",
       "<style scoped>\n",
       "    .dataframe tbody tr th:only-of-type {\n",
       "        vertical-align: middle;\n",
       "    }\n",
       "\n",
       "    .dataframe tbody tr th {\n",
       "        vertical-align: top;\n",
       "    }\n",
       "\n",
       "    .dataframe thead th {\n",
       "        text-align: right;\n",
       "    }\n",
       "</style>\n",
       "<table border=\"1\" class=\"dataframe\">\n",
       "  <thead>\n",
       "    <tr style=\"text-align: right;\">\n",
       "      <th></th>\n",
       "      <th>N IgG1_zscore</th>\n",
       "      <th>RBD ADCD_zscore</th>\n",
       "      <th>N ADCD_zscore</th>\n",
       "      <th>N IgG2_zscore</th>\n",
       "      <th>RBD FcRg2b_zscore</th>\n",
       "      <th>RBD NKD-CD107a_zscore</th>\n",
       "      <th>NT50_zscore</th>\n",
       "      <th>N ADCP_zscore</th>\n",
       "      <th>N ADNP_zscore</th>\n",
       "      <th>N IgM_zscore</th>\n",
       "      <th>N IgA1_zscore</th>\n",
       "      <th>RBD IgM_zscore</th>\n",
       "    </tr>\n",
       "  </thead>\n",
       "  <tbody>\n",
       "    <tr>\n",
       "      <th>0</th>\n",
       "      <td>-0.390835</td>\n",
       "      <td>-0.411877</td>\n",
       "      <td>0.450513</td>\n",
       "      <td>-0.42364</td>\n",
       "      <td>-1.89693</td>\n",
       "      <td>-0.180116</td>\n",
       "      <td>1.019302</td>\n",
       "      <td>-0.90188</td>\n",
       "      <td>-0.902438</td>\n",
       "      <td>-0.624357</td>\n",
       "      <td>-0.306014</td>\n",
       "      <td>1.41559</td>\n",
       "    </tr>\n",
       "  </tbody>\n",
       "</table>\n",
       "</div>"
      ],
      "text/plain": [
       "   N IgG1_zscore  RBD ADCD_zscore  N ADCD_zscore  N IgG2_zscore  \\\n",
       "0      -0.390835        -0.411877       0.450513       -0.42364   \n",
       "\n",
       "   RBD FcRg2b_zscore  RBD NKD-CD107a_zscore  NT50_zscore  N ADCP_zscore  \\\n",
       "0           -1.89693              -0.180116     1.019302       -0.90188   \n",
       "\n",
       "   N ADNP_zscore  N IgM_zscore  N IgA1_zscore  RBD IgM_zscore  \n",
       "0      -0.902438     -0.624357      -0.306014         1.41559  "
      ]
     },
     "execution_count": 23,
     "metadata": {},
     "output_type": "execute_result"
    }
   ],
   "source": [
    "'''\n",
    "TODO: 1. Choose a representative variable from each cluster you determined in Part 1.4\n",
    "         and create a low-dimensional version of the data using those variables\n",
    "      2. Re-cluster the data using the reduced representation using the same \n",
    "         choices you made for part 1.1.\n",
    "'''\n",
    "df_reduced_variables = df.filter(items=['N IgG1_zscore',\n",
    "                                        'RBD ADCD_zscore',\n",
    "                                        'N ADCD_zscore',\n",
    "                                        'N IgG2_zscore',\n",
    "                                        'RBD FcRg2b_zscore',\n",
    "                                        'RBD NKD-CD107a_zscore',\n",
    "                                        'NT50_zscore',\n",
    "                                        'N ADCP_zscore',\n",
    "                                        'N ADNP_zscore',\n",
    "                                        'N IgM_zscore',\n",
    "                                        'N IgA1_zscore',\n",
    "                                        'RBD IgM_zscore'])\n",
    "df_reduced_variables.head(1)"
   ]
  },
  {
   "cell_type": "markdown",
   "metadata": {},
   "source": [
    "#### Cluster Low-Dimensional Standardized Data in Columns 1-52"
   ]
  },
  {
   "cell_type": "code",
   "execution_count": 24,
   "metadata": {},
   "outputs": [],
   "source": [
    "kmeans_possible_cluster_nums = [2,3,4,5,6,7,8,9,10] # 1 < k < 11\n",
    "\n",
    "cluster_quality_scores = []\n",
    "for k in kmeans_possible_cluster_nums:\n",
    "    kmeans = KMeans(n_clusters=k).fit(df_reduced_variables)\n",
    "    labels = kmeans.labels_\n",
    "    score = metrics.silhouette_score(df_reduced_variables, labels) # quality\n",
    "    cluster_quality_scores.append(score)"
   ]
  },
  {
   "cell_type": "markdown",
   "metadata": {},
   "source": [
    "#### Visualize"
   ]
  },
  {
   "cell_type": "code",
   "execution_count": 25,
   "metadata": {},
   "outputs": [
    {
     "data": {
      "image/png": "[encoded data removed]",
      "text/plain": [
       "<Figure size 432x288 with 1 Axes>"
      ]
     },
     "metadata": {
      "needs_background": "light"
     },
     "output_type": "display_data"
    }
   ],
   "source": [
    "plotMetricByK(\"Silhouette Coefficient\", \n",
    "              cluster_quality_scores, \n",
    "              kmeans_possible_cluster_nums, \n",
    "              title='Silhouette Coefficent by Number of Clusters',\n",
    "              xlabel='Number of Clusters')"
   ]
  },
  {
   "cell_type": "markdown",
   "metadata": {},
   "source": [
    "#### Cluster Low-Dimensional Standardized Data in Columns 1-52 using chosen cluster size"
   ]
  },
  {
   "cell_type": "code",
   "execution_count": 26,
   "metadata": {},
   "outputs": [],
   "source": [
    "kmeans = KMeans(n_clusters=2).fit(df_reduced_variables)\n",
    "labels = kmeans.labels_\n",
    "\n",
    "df['low dimension cluster']=labels  # add low dimension clusters"
   ]
  },
  {
   "cell_type": "code",
   "execution_count": 27,
   "metadata": {},
   "outputs": [
    {
     "data": {
      "text/html": [
       "<div>\n",
       "<style scoped>\n",
       "    .dataframe tbody tr th:only-of-type {\n",
       "        vertical-align: middle;\n",
       "    }\n",
       "\n",
       "    .dataframe tbody tr th {\n",
       "        vertical-align: top;\n",
       "    }\n",
       "\n",
       "    .dataframe thead th {\n",
       "        text-align: right;\n",
       "    }\n",
       "</style>\n",
       "<table border=\"1\" class=\"dataframe\">\n",
       "  <thead>\n",
       "    <tr style=\"text-align: right;\">\n",
       "      <th></th>\n",
       "      <th>S IgG1</th>\n",
       "      <th>RBD IgG1</th>\n",
       "      <th>N IgG1</th>\n",
       "      <th>S IgG2</th>\n",
       "      <th>RBD IgG2</th>\n",
       "      <th>N IgG2</th>\n",
       "      <th>S IgG3</th>\n",
       "      <th>RBD IgG3</th>\n",
       "      <th>N IgG3</th>\n",
       "      <th>S IgG4</th>\n",
       "      <th>...</th>\n",
       "      <th>N ADCD_zscore</th>\n",
       "      <th>S NKD-CD107a_zscore</th>\n",
       "      <th>RBD NKD-CD107a_zscore</th>\n",
       "      <th>N NKD-CD107a_zscore</th>\n",
       "      <th>S NKD-MIP1b_zscore</th>\n",
       "      <th>RBD NKD-MIP1b_zscore</th>\n",
       "      <th>N NKD-MIP1b_zscore</th>\n",
       "      <th>NT50_zscore</th>\n",
       "      <th>cluster</th>\n",
       "      <th>low dimension cluster</th>\n",
       "    </tr>\n",
       "  </thead>\n",
       "  <tbody>\n",
       "    <tr>\n",
       "      <th>0</th>\n",
       "      <td>15518.25</td>\n",
       "      <td>11686.5</td>\n",
       "      <td>17408.0</td>\n",
       "      <td>2595.0</td>\n",
       "      <td>2977.5</td>\n",
       "      <td>4418.75</td>\n",
       "      <td>7988.75</td>\n",
       "      <td>10112.75</td>\n",
       "      <td>13740.75</td>\n",
       "      <td>2890.5</td>\n",
       "      <td>...</td>\n",
       "      <td>0.450513</td>\n",
       "      <td>-0.02381</td>\n",
       "      <td>-0.180116</td>\n",
       "      <td>-0.576487</td>\n",
       "      <td>-0.586417</td>\n",
       "      <td>-1.100901</td>\n",
       "      <td>-0.542606</td>\n",
       "      <td>1.019302</td>\n",
       "      <td>0</td>\n",
       "      <td>1</td>\n",
       "    </tr>\n",
       "  </tbody>\n",
       "</table>\n",
       "<p>1 rows × 115 columns</p>\n",
       "</div>"
      ],
      "text/plain": [
       "     S IgG1  RBD IgG1   N IgG1  S IgG2  RBD IgG2   N IgG2   S IgG3  RBD IgG3  \\\n",
       "0  15518.25   11686.5  17408.0  2595.0    2977.5  4418.75  7988.75  10112.75   \n",
       "\n",
       "     N IgG3  S IgG4  ...  N ADCD_zscore  S NKD-CD107a_zscore  \\\n",
       "0  13740.75  2890.5  ...       0.450513             -0.02381   \n",
       "\n",
       "   RBD NKD-CD107a_zscore  N NKD-CD107a_zscore  S NKD-MIP1b_zscore  \\\n",
       "0              -0.180116            -0.576487           -0.586417   \n",
       "\n",
       "   RBD NKD-MIP1b_zscore  N NKD-MIP1b_zscore  NT50_zscore  cluster  \\\n",
       "0             -1.100901           -0.542606     1.019302        0   \n",
       "\n",
       "   low dimension cluster  \n",
       "0                      1  \n",
       "\n",
       "[1 rows x 115 columns]"
      ]
     },
     "execution_count": 27,
     "metadata": {},
     "output_type": "execute_result"
    }
   ],
   "source": [
    "df.head(1)"
   ]
  },
  {
   "cell_type": "markdown",
   "metadata": {
    "colab_type": "text",
    "id": "nP5HByXKWkTo"
   },
   "source": [
    "## **Part 1.5: Answer**\n",
    "\n",
    "Representative Variables: \n",
    "\n",
    "- N IgG1\n",
    "- RBD ADCD\n",
    "- N ADCD\n",
    "- N IgG2\n",
    "- RBD FcRg2b\n",
    "- RBD NKD-CD107a\n",
    "- NT50\n",
    "- N ADCP\n",
    "- N ADNP\n",
    "- N IgM\n",
    "- N IgA1\n",
    "- RBD IgM\n",
    "\n",
    "How many clusters are there in the numeric variables? **Base on the Silhouette Coefficient, there are 2.**\n",
    "\n",
    "Explanation: **The Silhouette Coefficient is closest to 1 for two clusters and is lower for other clusterings.**"
   ]
  },
  {
   "cell_type": "markdown",
   "metadata": {
    "colab_type": "text",
    "id": "UMnCzNWMWo2d"
   },
   "source": [
    "## **Part 1.6: Work**"
   ]
  },
  {
   "cell_type": "markdown",
   "metadata": {},
   "source": [
    "#### Analysis of Columns 53-61 using low-dimension clusters"
   ]
  },
  {
   "cell_type": "code",
   "execution_count": 29,
   "metadata": {
    "colab": {},
    "colab_type": "code",
    "id": "sFKcIMHWafo3"
   },
   "outputs": [
    {
     "data": {
      "image/png": "[encoded data removed]",
      "text/plain": [
       "<Figure size 720x720 with 1 Axes>"
      ]
     },
     "metadata": {
      "needs_background": "light"
     },
     "output_type": "display_data"
    }
   ],
   "source": [
    "'''\n",
    "  TODO: Create a table where the rows correspond to the variables in columns 53-61, and the columns correspond to the k clusters you identified.\n",
    "        in part 1.5. For each cell in the table, put summary statistics for that (variable, cluster) pair\n",
    "'''\n",
    "# create 2d list to contain results\n",
    "rows=2 # clusters\n",
    "columns=9 # categorical columns\n",
    "cellText=[[''] * columns for i in range(rows)]\n",
    "\n",
    "\n",
    "# get summary stats for each categorical column\n",
    "categorical_cols = df.columns.values.tolist()[52:61]\n",
    "for i, col in enumerate(categorical_cols):\n",
    "    for cluster in range(0,rows):\n",
    "        df_one_cluster = df[df['low dimension cluster']==cluster] # select data for only one cluster\n",
    "        formatted = formatValueCounts(df_one_cluster[col].value_counts())\n",
    "        cellText[cluster][i]=formatted\n",
    "\n",
    "output_table = plotSummaryTable(cellText)\n",
    "output_table"
   ]
  },
  {
   "cell_type": "markdown",
   "metadata": {},
   "source": [
    "#### Check for Statistical Significance"
   ]
  },
  {
   "cell_type": "code",
   "execution_count": 42,
   "metadata": {},
   "outputs": [
    {
     "name": "stdout",
     "output_type": "stream",
     "text": [
      "Fisher's Exact Test by Sex (pvalue): 4.4400119657009405e-07\n",
      "Fisher's Exact Test by Age (pvalue): 4.585251363087667e-12\n",
      "Fisher's Exact Test by Race (pvalue): 0.30828126775456877\n",
      "Fisher's Exact Test by Outcome (pvalue): 0.022428579034948177\n"
     ]
    }
   ],
   "source": [
    "# Fisher's Exact Test\n",
    "# Sex\n",
    "contingency_table_sex=[[1,47],[66,118]]\n",
    "oddsratio, pvalue=stats.fisher_exact(contingency_table_sex)\n",
    "print(\"Fisher's Exact Test by Sex (pvalue):\",pvalue)\n",
    "\n",
    "# Age\n",
    "contingency_table_age=[[24,24],[10,174]]\n",
    "oddsratio, pvalue=stats.fisher_exact(contingency_table_age)\n",
    "print(\"Fisher's Exact Test by Age (pvalue):\",pvalue)\n",
    "\n",
    "# Race\n",
    "contingency_table_race=[[45,3],[162,22]]\n",
    "oddsratio, pvalue=stats.fisher_exact(contingency_table_race)\n",
    "print(\"Fisher's Exact Test by Race (pvalue):\",pvalue)\n",
    "\n",
    "# Outcome\n",
    "contingency_table_outcome=[[29,19],[76,108]]\n",
    "oddsratio, pvalue=stats.fisher_exact(contingency_table_outcome)\n",
    "print(\"Fisher's Exact Test by Outcome (pvalue):\",pvalue)"
   ]
  },
  {
   "cell_type": "markdown",
   "metadata": {
    "colab_type": "text",
    "id": "lKQA27rZWs__"
   },
   "source": [
    "## **Part 1.6: Answer**\n",
    "\n",
    "Are any of the clusters significantly enriched for some particular value? \n",
    "\n",
    "**One cluster consists almost entirely of white males, with an outcome of death 60% of the time. There are twice as many males in that cluster than when the data was clustered using higher-dimensional data.**\n",
    "\n",
    "**Regarding statistical significance, Fisher's Exact Test indicate clusters are significantly enriched by sex, age, and outcome but not by race.**"
   ]
  },
  {
   "cell_type": "code",
   "execution_count": null,
   "metadata": {},
   "outputs": [],
   "source": []
  }
 ],
 "metadata": {
  "colab": {
   "name": "02-518_New_HW1_Template.ipynb",
   "provenance": [],
   "toc_visible": true
  },
  "kernelspec": {
   "display_name": "CMU-02718-HW1_kernel",
   "language": "python",
   "name": "cmu-02718-hw1_kernel"
  },
  "language_info": {
   "codemirror_mode": {
    "name": "ipython",
    "version": 3
   },
   "file_extension": ".py",
   "mimetype": "text/x-python",
   "name": "python",
   "nbconvert_exporter": "python",
   "pygments_lexer": "ipython3",
   "version": "3.8.5"
  }
 },
 "nbformat": 4,
 "nbformat_minor": 4
}
