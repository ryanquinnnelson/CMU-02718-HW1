{
  "nbformat": 4,
  "nbformat_minor": 0,
  "metadata": {
    "colab": {
      "name": "02-518_New_HW1_Template.ipynb",
      "provenance": [],
      "toc_visible": true
    },
    "kernelspec": {
      "name": "python3",
      "display_name": "Python 3"
    }
  },
  "cells": [
    {
      "cell_type": "code",
      "metadata": {
        "id": "-f3hfXQ1zWMX",
        "colab_type": "code",
        "colab": {}
      },
      "source": [
        "import matplotlib.pyplot as plt\n",
        "import numpy as np \n",
        "import pandas as pd\n",
        "\n",
        "'''\n",
        " TIP: 1. Research and import desired preprocessing methods from https://scikit-learn.org/stable/modules/classes.html#module-sklearn.preprocessing\n",
        "      2. Research and import clustering algorithm(s) of your choice from https://scikit-learn.org/stable/modules/clustering.html\n",
        "      3. Research and import cluster quality metric(s) of your choice from https://scikit-learn.org/stable/modules/clustering.html#clustering-performance-evaluation\n",
        "'''"
      ],
      "execution_count": null,
      "outputs": []
    },
    {
      "cell_type": "markdown",
      "metadata": {
        "id": "2qvD_uL8VK71",
        "colab_type": "text"
      },
      "source": [
        "# Instructions\n",
        "\n",
        "For each question, a rough outline has been provided to help you get started under \"Part 1.x: Work\". Feel free to either follow the outline or use your own method for solving the problem. In either case, however, please make sure to include your work in these sections and fill in your answer in the cell titled \"Part 1.x: Answer\".\n",
        "\n",
        "**Embedding Images in the Notebook**\n",
        "\n",
        "To upload an image in a markdown cell in Jupyter Notebook:\n",
        "1. Go to the menu bar and select Edit -> Insert Image.\n",
        "\n",
        "2. Select image from your disk and upload.\n",
        "\n",
        "3. Press Ctrl+Enter or Shift+Enter.\n",
        "\n",
        "This will make the image as part of the notebook and you don't need to upload it in the directory\n",
        "\n",
        "**Export Jupyter Notebooks**  \n",
        "In your local computer, open the notebook you would like to export and navigate to 'File' at the top menu bar. By clickling 'File', you can find 'Download as' in the drop-down menu. Select the format you want to export the notebook as: either direclty as a pdf, or if you download it as an html file, use a website like [html2pdf.com](https://html2pdf.com) to convert it to a pdf file for submission on Gradescope.\n",
        "\n",
        "Colab does not seem to support exporting their notebooks to other formats, so if you choose to use Colab, you will need to download the notebook as an .ipynb file before following the steps above on your local machine."
      ]
    },
    {
      "cell_type": "markdown",
      "metadata": {
        "id": "H0ppzil93ADx",
        "colab_type": "text"
      },
      "source": [
        "# Question 1"
      ]
    },
    {
      "cell_type": "markdown",
      "metadata": {
        "id": "Kvu3MW96Oh8e",
        "colab_type": "text"
      },
      "source": [
        "## **Part 1.1: Work**\n",
        "\n"
      ]
    },
    {
      "cell_type": "markdown",
      "metadata": {
        "id": "EaPxhxT64eg_",
        "colab_type": "text"
      },
      "source": [
        "#### Read Data"
      ]
    },
    {
      "cell_type": "code",
      "metadata": {
        "id": "R_Y6OeP60oCX",
        "colab_type": "code",
        "colab": {}
      },
      "source": [
        "PATH_TO_Q1_DATA = 'HW1_Q1_Data.csv' # TODO: Change if your path to data is different\n",
        "df = pd.read_csv(PATH_TO_Q1_DATA) "
      ],
      "execution_count": null,
      "outputs": []
    },
    {
      "cell_type": "markdown",
      "metadata": {
        "id": "I7evcxx5PEzm",
        "colab_type": "text"
      },
      "source": [
        "#### Standardize Data in Columns 1-52"
      ]
    },
    {
      "cell_type": "code",
      "metadata": {
        "id": "fSnRiODWHLZf",
        "colab_type": "code",
        "colab": {}
      },
      "source": [
        "'''\n",
        " TODO: Standardize columns 1-52 by subtracting off mean of each column and scaling to unit variance\n",
        "'''"
      ],
      "execution_count": null,
      "outputs": []
    },
    {
      "cell_type": "markdown",
      "metadata": {
        "id": "HIteyXLqPcfJ",
        "colab_type": "text"
      },
      "source": [
        "#### Cluster Standardized Data in Columns 1-52"
      ]
    },
    {
      "cell_type": "code",
      "metadata": {
        "id": "x2_YMxdaPbzG",
        "colab_type": "code",
        "colab": {}
      },
      "source": [
        "# 1 < k < 11\n",
        "possible_cluster_nums = [2,3,4,5,6,7,8,9,10]\n",
        "\n",
        "for k in possible_cluster_nums:\n",
        "  '''\n",
        "    TODO: 1. Fit data to k clusters using imported clustering algorithm\n",
        "          2. Compute quaility of results for k clusters using imported\n",
        "             cluster quality metric and store in a list\n",
        "  '''"
      ],
      "execution_count": null,
      "outputs": []
    },
    {
      "cell_type": "markdown",
      "metadata": {
        "id": "Ykldx_LbQzJ9",
        "colab_type": "text"
      },
      "source": [
        "#### Visualize Cluster Quality Metrics"
      ]
    },
    {
      "cell_type": "code",
      "metadata": {
        "id": "SwCnOjUvREJz",
        "colab_type": "code",
        "colab": {}
      },
      "source": [
        "# Creates line chart to visualize values of cluster quality metric for each possible number of clusters\n",
        "def plotMetricByK(metric_name, metric_results, PATH_TO_SAVE=None):\n",
        "  '''\n",
        "  metric_name: Name of cluster quality metric for title and axis label\n",
        "  metric_results: List containing value of metric, in order, for each\n",
        "                  possible number of clusters\n",
        "  PATH_TO_SAVE: Path of file to save plot. If path is not provided, image is not saved\n",
        "  '''\n",
        "\n",
        "  plt.clf()\n",
        "\n",
        "  plt.title(f'{metric_name} by Number of Clusters')\n",
        "  plt.xlabel('Number of Clusters')\n",
        "  plt.ylabel(metric_name)\n",
        "  plt.plot(possible_cluster_nums, metric_results)\n",
        "  \n",
        "  if PATH_TO_SAVE:\n",
        "    plt.savefig(PATH_TO_SAVE)"
      ],
      "execution_count": null,
      "outputs": []
    },
    {
      "cell_type": "code",
      "metadata": {
        "id": "FzR_OjFVRHL_",
        "colab_type": "code",
        "colab": {}
      },
      "source": [
        "'''\n",
        " TODO: Plot your choice of cluster quality metric by cluster number to help determine k.\n",
        "\n",
        " TIP: If using the above function, place each function call in a separate \n",
        "      cell to visualize multiple cluster quality metrics\n",
        "'''"
      ],
      "execution_count": null,
      "outputs": []
    },
    {
      "cell_type": "markdown",
      "metadata": {
        "id": "jPVeT70qWBTe",
        "colab_type": "text"
      },
      "source": [
        "## **Part 1.1: Answer**\n",
        "\n",
        "How many clusters are there in the data? **YOUR ANSWER HERE** \n",
        "\n",
        "Explanation: **Please make sure any relevant plots are either included in the above cells or embedded in this cell and replace this line with a brief explanation of how they justify your choice**\n",
        "\n"
      ]
    },
    {
      "cell_type": "markdown",
      "metadata": {
        "id": "PMotmJCv781e",
        "colab_type": "text"
      },
      "source": [
        "## **Part 1.2: Work**"
      ]
    },
    {
      "cell_type": "markdown",
      "metadata": {
        "id": "7PYJgChirpBQ",
        "colab_type": "text"
      },
      "source": [
        "#### Cluster Data"
      ]
    },
    {
      "cell_type": "code",
      "metadata": {
        "id": "QKqj9J5Xr22l",
        "colab_type": "code",
        "colab": {}
      },
      "source": [
        "'''\n",
        "  TODO: Cluster data with the number of clusters you determined in part 1.1 and store resulting labels\n",
        "'''"
      ],
      "execution_count": null,
      "outputs": []
    },
    {
      "cell_type": "markdown",
      "metadata": {
        "id": "qSeiqphcm5VO",
        "colab_type": "text"
      },
      "source": [
        "#### Univariate Analysis"
      ]
    },
    {
      "cell_type": "code",
      "metadata": {
        "id": "uu8M1dgYm76F",
        "colab_type": "code",
        "colab": {}
      },
      "source": [
        "'''\n",
        "  TODO: Find 4 variables that have statistically significant differences between values in the clusters (i.e p < 0.05 using pairwise t-tests)\n",
        "'''"
      ],
      "execution_count": null,
      "outputs": []
    },
    {
      "cell_type": "markdown",
      "metadata": {
        "id": "H31yCX_Isqx2",
        "colab_type": "text"
      },
      "source": [
        "## **Part 1.2: Answer**\n",
        "\n",
        "VARIABLE 1, VARIABLE 2, VARIABLE 3, VARIABLE 4\n",
        "\n",
        "**Replace the above line with 4 variables that you found from the univariate analysis and output the corresponding box plots in the cells below or as images in this cell**"
      ]
    },
    {
      "cell_type": "code",
      "metadata": {
        "id": "2vMTrrGUt0Sk",
        "colab_type": "code",
        "colab": {}
      },
      "source": [
        "'''\n",
        "  TODO: Create and display boxplots for each of the 4 variables like those in Fig 1. from the paper by Wu et al\n",
        "\n",
        "  TIP: 1. If you add the cluster labels as an additional column to the dataframe, then you can follow the example at https://www.pythonprogramming.in/boxplot-group-by-column-data.html\n",
        "       2. If you want to use subplots to put all 4 boxplots in the same figure, you can plot the dataframes on a specific subplot using the ax keyword. For example,\n",
        "          \n",
        "          fig, axs = plt.subplots(2, 2)\n",
        "\n",
        "          df.boxplot(column=['Variable'], by=['Cluster'], ax=axs[0,0])\n",
        "          df.boxplot(column=['Variable'], by=['Cluster'], ax=axs[0,1])\n",
        "''' "
      ],
      "execution_count": null,
      "outputs": []
    },
    {
      "cell_type": "markdown",
      "metadata": {
        "id": "OwtEpty_x4U4",
        "colab_type": "text"
      },
      "source": [
        "## **Part 1.3: Work**\n"
      ]
    },
    {
      "cell_type": "code",
      "metadata": {
        "id": "wdw0frHS9CJR",
        "colab_type": "code",
        "colab": {}
      },
      "source": [
        "# Formats Pandas series to string of form 'index_1: value_1, ..., index_n:, value_n' w/ indexes alphabetically sorted\n",
        "def formatValueCounts(value_counts):\n",
        "  '''\n",
        "    value_counts: Pandas series\n",
        "  '''\n",
        "  count_string = value_counts.to_string()\n",
        "  formatted_counts = [': '.join(count.split()) for count in count_string.split('\\n')]\n",
        "  formatted_counts.sort()\n",
        "  return ', '.join(formatted_counts)\n",
        "\n",
        "# Creates table summarizing data by cluster and categorical feature\n",
        "def plotSummaryTable(cellText, PATH_TO_SAVE=None):\n",
        "  '''\n",
        "  cellText: num_clusters x 9 2D List where cellText[i][j] contains a string summarizing\n",
        "            the statistics for cluster i and column (53 + j) in the data\n",
        "  PATH_TO_SAVE: Path of file to save plot. If path is not provided, image is not saved\n",
        "  '''\n",
        "\n",
        "  k = len(cellText)\n",
        "  colLabels = [f'Cluster {i + 1}' for i in range(k)]\n",
        "\n",
        "  rowLabels = list(df.columns)[52:61]\n",
        "\n",
        "  cellText = np.array(cellText).T\n",
        "\n",
        "  plt.figure(figsize=(10,10))\n",
        "  table = plt.table(cellText, \n",
        "              colLabels=colLabels,\n",
        "              colColours=['#D3D3D3'] * len(colLabels),\n",
        "              rowLabels=rowLabels,\n",
        "              rowColours=['#D3D3D3'] * len(rowLabels),\n",
        "              cellLoc='center',\n",
        "              loc='upper center')\n",
        "  table.scale(2,5)\n",
        "  table.auto_set_font_size(False)\n",
        "  table.set_fontsize(12)\n",
        "\n",
        "  plt.axis('off')\n",
        "  plt.grid(False)\n",
        "\n",
        "  if PATH_TO_SAVE:\n",
        "    plt.savefig(PATH_TO_SAVE)"
      ],
      "execution_count": null,
      "outputs": []
    },
    {
      "cell_type": "code",
      "metadata": {
        "id": "lpezhIjczcgm",
        "colab_type": "code",
        "colab": {}
      },
      "source": [
        "'''\n",
        "  TODO: Create a table where the rows correspond to the variables in columns 53-61, and the columns correspond to the k clusters you identified.\n",
        "        For each cell in the table, put summary statistics for that (variable, cluster) pair\n",
        "\n",
        "  TIP: 1. If you create a 2D list, cellText, where cellText[i][j] contains a string summarizing the statistics for cluster i and column (53 + j) in\n",
        "          the data, you can pass this into plotSummaryTable (provided above) to automatically create the table with matplotlib\n",
        "       2. If you use value_counts() from Pandas, you can pass the resulting series to formatValueCounts (provided above) to convert it to a formatted string\n",
        "'''"
      ],
      "execution_count": null,
      "outputs": []
    },
    {
      "cell_type": "markdown",
      "metadata": {
        "id": "-GOiFVydUJVR",
        "colab_type": "text"
      },
      "source": [
        "## **Part 1.3: Answer**\n",
        "\n",
        "**Plot the table in one of the above cells or include it as an image in this cell**\n",
        "\n",
        "Are any of the clusters significantly enriched for some particular value? **YOUR ANSWER HERE**\n",
        "\n"
      ]
    },
    {
      "cell_type": "markdown",
      "metadata": {
        "id": "akxs5V1KWZp1",
        "colab_type": "text"
      },
      "source": [
        "## **Part 1.4: Work**"
      ]
    },
    {
      "cell_type": "code",
      "metadata": {
        "id": "KpbGxNnve-uE",
        "colab_type": "code",
        "colab": {}
      },
      "source": [
        "'''\n",
        "TODO: Cluster the numeric variables (Columns 1-52)\n",
        "'''"
      ],
      "execution_count": null,
      "outputs": []
    },
    {
      "cell_type": "markdown",
      "metadata": {
        "id": "UtoBD07TWebc",
        "colab_type": "text"
      },
      "source": [
        "## **Part 1.4: Answer**\n",
        "\n",
        "How many clusters are there in the numeric variables? **YOUR ANSWER HERE** \n",
        "\n",
        "Explanation: **Please make sure any relevant plots are either included in the above cells or embedded in this cell and replace this line with a brief explanation of how they justify your choice**"
      ]
    },
    {
      "cell_type": "markdown",
      "metadata": {
        "id": "2QXoQx_JWhI6",
        "colab_type": "text"
      },
      "source": [
        "## **Part 1.5: Work**"
      ]
    },
    {
      "cell_type": "code",
      "metadata": {
        "id": "xJXSMuT0Z-Dz",
        "colab_type": "code",
        "colab": {}
      },
      "source": [
        "'''\n",
        "TODO: 1. Choose a representative variable from each cluster you determined in Part 1.4\n",
        "         and create a low-dimensional version of the data using those variables\n",
        "      2. Re-cluster the data using the reduced representation using the same \n",
        "         choices you made for part 1.1.\n",
        "'''"
      ],
      "execution_count": null,
      "outputs": []
    },
    {
      "cell_type": "markdown",
      "metadata": {
        "id": "nP5HByXKWkTo",
        "colab_type": "text"
      },
      "source": [
        "## **Part 1.5: Answer**\n",
        "\n",
        "Representative Variables: **Replace this with the representative variables you chose using your work from Part 1.4** \n",
        "\n",
        "How many clusters are there in the numeric variables? **YOUR ANSWER HERE** \n",
        "\n",
        "Explanation: **Please make sure any relevant plots are either included in the above cells or linked in this cell and replace this line with a brief explanation of how they justify your choice**"
      ]
    },
    {
      "cell_type": "markdown",
      "metadata": {
        "id": "UMnCzNWMWo2d",
        "colab_type": "text"
      },
      "source": [
        "## **Part 1.6: Work**"
      ]
    },
    {
      "cell_type": "code",
      "metadata": {
        "id": "sFKcIMHWafo3",
        "colab_type": "code",
        "colab": {}
      },
      "source": [
        "'''\n",
        "  TODO: Create a table where the rows correspond to the variables in columns 53-61, and the columns correspond to the k clusters you identified.\n",
        "        in part 1.5. For each cell in the table, put summary statistics for that (variable, cluster) pair\n",
        "'''"
      ],
      "execution_count": null,
      "outputs": []
    },
    {
      "cell_type": "markdown",
      "metadata": {
        "id": "lKQA27rZWs__",
        "colab_type": "text"
      },
      "source": [
        "## **Part 1.6: Answer**\n",
        "\n",
        "**Plot the table in one of the above cells or include it as an image in this cell**\n",
        "\n",
        "Are any of the clusters significantly enriched for some particular value? **YOUR ANSWER HERE**"
      ]
    }
  ]
}